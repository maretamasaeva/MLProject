{
  "nbformat": 4,
  "nbformat_minor": 0,
  "metadata": {
    "colab": {
      "name": "NN line speaker.ipynb",
      "provenance": []
    },
    "kernelspec": {
      "name": "python3",
      "display_name": "Python 3"
    },
    "language_info": {
      "name": "python"
    },
    "accelerator": "GPU"
  },
  "cells": [
    {
      "cell_type": "code",
      "execution_count": null,
      "metadata": {
        "id": "-KN9HyH03ktc"
      },
      "outputs": [],
      "source": [
        "import tensorflow as tf\n",
        "import tensorflow.keras as keras\n",
        "import matplotlib.pyplot as plt\n",
        "import numpy as np\n",
        "import seaborn as sns\n",
        "import pandas as pd\n",
        "\n",
        "# to get reproducible results:\n",
        "np.random.seed(1234)\n",
        "tf.random.set_seed(1234)"
      ]
    },
    {
      "cell_type": "code",
      "source": [
        "from google.colab import files\n",
        "uploaded = files.upload()"
      ],
      "metadata": {
        "colab": {
          "resources": {
            "http://localhost:8080/nbextensions/google.colab/files.js": {
              "data": "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",
              "ok": true,
              "headers": [
                [
                  "content-type",
                  "application/javascript"
                ]
              ],
              "status": 200,
              "status_text": ""
            }
          },
          "base_uri": "https://localhost:8080/",
          "height": 73
        },
        "id": "PgMJBhiC3rsr",
        "outputId": "4175408a-154e-477e-98df-5c223470fc18"
      },
      "execution_count": null,
      "outputs": [
        {
          "output_type": "display_data",
          "data": {
            "text/html": [
              "\n",
              "     <input type=\"file\" id=\"files-f1b4cdaf-3779-46c4-a5eb-c6400ad52f47\" name=\"files[]\" multiple disabled\n",
              "        style=\"border:none\" />\n",
              "     <output id=\"result-f1b4cdaf-3779-46c4-a5eb-c6400ad52f47\">\n",
              "      Upload widget is only available when the cell has been executed in the\n",
              "      current browser session. Please rerun this cell to enable.\n",
              "      </output>\n",
              "      <script src=\"/nbextensions/google.colab/files.js\"></script> "
            ],
            "text/plain": [
              "<IPython.core.display.HTML object>"
            ]
          },
          "metadata": {}
        },
        {
          "output_type": "stream",
          "name": "stdout",
          "text": [
            "Saving The-Office-Lines-V4.csv to The-Office-Lines-V4.csv\n"
          ]
        }
      ]
    },
    {
      "cell_type": "code",
      "source": [
        "import io\n",
        "df = pd.read_csv(io.BytesIO(uploaded['The-Office-Lines-V4.csv'])) "
      ],
      "metadata": {
        "id": "USb3g5473ru2"
      },
      "execution_count": null,
      "outputs": []
    },
    {
      "cell_type": "code",
      "source": [
        "df = pd.read_csv('The-Office-Lines-V4.csv')"
      ],
      "metadata": {
        "id": "fn9jimum3rwo"
      },
      "execution_count": null,
      "outputs": []
    },
    {
      "cell_type": "code",
      "source": [
        "df= df.drop('Unnamed: 6', 1)\n",
        "\n",
        "def gender(name):\n",
        "    if name == 'Michael' or name == 'Jim' or name == 'Dwight' or name == 'Ryan' or name == 'Stanley' or name == 'Kevin' or name == 'Oscar' or name == 'Toby' or name == 'Creed' or name == 'Andy' or name == 'Roy' or name == 'Darryl' or name == 'Gabe' or name == 'Robert California' or name == 'Robert' or name == 'Clark' or name == 'Pete':\n",
        "        return 0\n",
        "    elif name == 'Pam' or name == 'Phyllis' or name == 'Angela' or name == 'Kelly' or name == 'Meredith' or name == 'Jan' or name == 'Erin' or name == 'Nellie':\n",
        "        return 1\n",
        "    \n",
        "df[\"gender\"] = df[\"speaker\"].map(gender)\n",
        "\n",
        "df = df.dropna()\n",
        "\n",
        "df['gender'] = df['gender'].astype(int)\n",
        "\n",
        "df['number_of_words'] = df['line'].str.split().str.len()\n",
        "\n",
        "df['speaker_id'] = pd.factorize(df.speaker)[0]"
      ],
      "metadata": {
        "id": "raZ5Qqsh3rzB",
        "colab": {
          "base_uri": "https://localhost:8080/"
        },
        "outputId": "af98a7a8-36d5-4090-d923-60418565a025"
      },
      "execution_count": null,
      "outputs": [
        {
          "output_type": "stream",
          "name": "stderr",
          "text": [
            "/usr/local/lib/python3.7/dist-packages/ipykernel_launcher.py:13: SettingWithCopyWarning: \n",
            "A value is trying to be set on a copy of a slice from a DataFrame.\n",
            "Try using .loc[row_indexer,col_indexer] = value instead\n",
            "\n",
            "See the caveats in the documentation: https://pandas.pydata.org/pandas-docs/stable/user_guide/indexing.html#returning-a-view-versus-a-copy\n",
            "  del sys.path[0]\n",
            "/usr/local/lib/python3.7/dist-packages/ipykernel_launcher.py:15: SettingWithCopyWarning: \n",
            "A value is trying to be set on a copy of a slice from a DataFrame.\n",
            "Try using .loc[row_indexer,col_indexer] = value instead\n",
            "\n",
            "See the caveats in the documentation: https://pandas.pydata.org/pandas-docs/stable/user_guide/indexing.html#returning-a-view-versus-a-copy\n",
            "  from ipykernel import kernelapp as app\n",
            "/usr/local/lib/python3.7/dist-packages/ipykernel_launcher.py:17: SettingWithCopyWarning: \n",
            "A value is trying to be set on a copy of a slice from a DataFrame.\n",
            "Try using .loc[row_indexer,col_indexer] = value instead\n",
            "\n",
            "See the caveats in the documentation: https://pandas.pydata.org/pandas-docs/stable/user_guide/indexing.html#returning-a-view-versus-a-copy\n"
          ]
        }
      ]
    },
    {
      "cell_type": "code",
      "source": [
        "df"
      ],
      "metadata": {
        "id": "UYPJtGoJ3r1H",
        "colab": {
          "base_uri": "https://localhost:8080/",
          "height": 423
        },
        "outputId": "99bde16b-6f92-4b54-830a-9991f4ba72c9"
      },
      "execution_count": null,
      "outputs": [
        {
          "output_type": "execute_result",
          "data": {
            "text/html": [
              "\n",
              "  <div id=\"df-587e221b-74b7-44c9-ad4a-feef31a1075a\">\n",
              "    <div class=\"colab-df-container\">\n",
              "      <div>\n",
              "<style scoped>\n",
              "    .dataframe tbody tr th:only-of-type {\n",
              "        vertical-align: middle;\n",
              "    }\n",
              "\n",
              "    .dataframe tbody tr th {\n",
              "        vertical-align: top;\n",
              "    }\n",
              "\n",
              "    .dataframe thead th {\n",
              "        text-align: right;\n",
              "    }\n",
              "</style>\n",
              "<table border=\"1\" class=\"dataframe\">\n",
              "  <thead>\n",
              "    <tr style=\"text-align: right;\">\n",
              "      <th></th>\n",
              "      <th>season</th>\n",
              "      <th>episode</th>\n",
              "      <th>title</th>\n",
              "      <th>scene</th>\n",
              "      <th>speaker</th>\n",
              "      <th>line</th>\n",
              "      <th>gender</th>\n",
              "      <th>number_of_words</th>\n",
              "      <th>speaker_id</th>\n",
              "    </tr>\n",
              "  </thead>\n",
              "  <tbody>\n",
              "    <tr>\n",
              "      <th>0</th>\n",
              "      <td>1</td>\n",
              "      <td>1</td>\n",
              "      <td>Pilot</td>\n",
              "      <td>1</td>\n",
              "      <td>Michael</td>\n",
              "      <td>All right Jim. Your quarterlies look very good...</td>\n",
              "      <td>0</td>\n",
              "      <td>14</td>\n",
              "      <td>0</td>\n",
              "    </tr>\n",
              "    <tr>\n",
              "      <th>1</th>\n",
              "      <td>1</td>\n",
              "      <td>1</td>\n",
              "      <td>Pilot</td>\n",
              "      <td>1</td>\n",
              "      <td>Jim</td>\n",
              "      <td>Oh, I told you. I couldn't close it. So...</td>\n",
              "      <td>0</td>\n",
              "      <td>9</td>\n",
              "      <td>1</td>\n",
              "    </tr>\n",
              "    <tr>\n",
              "      <th>2</th>\n",
              "      <td>1</td>\n",
              "      <td>1</td>\n",
              "      <td>Pilot</td>\n",
              "      <td>1</td>\n",
              "      <td>Michael</td>\n",
              "      <td>So you've come to the master for guidance? Is ...</td>\n",
              "      <td>0</td>\n",
              "      <td>14</td>\n",
              "      <td>0</td>\n",
              "    </tr>\n",
              "    <tr>\n",
              "      <th>3</th>\n",
              "      <td>1</td>\n",
              "      <td>1</td>\n",
              "      <td>Pilot</td>\n",
              "      <td>1</td>\n",
              "      <td>Jim</td>\n",
              "      <td>Actually, you called me in here, but yeah.</td>\n",
              "      <td>0</td>\n",
              "      <td>8</td>\n",
              "      <td>1</td>\n",
              "    </tr>\n",
              "    <tr>\n",
              "      <th>4</th>\n",
              "      <td>1</td>\n",
              "      <td>1</td>\n",
              "      <td>Pilot</td>\n",
              "      <td>1</td>\n",
              "      <td>Michael</td>\n",
              "      <td>All right. Well, let me show you how it's done.</td>\n",
              "      <td>0</td>\n",
              "      <td>10</td>\n",
              "      <td>0</td>\n",
              "    </tr>\n",
              "    <tr>\n",
              "      <th>...</th>\n",
              "      <td>...</td>\n",
              "      <td>...</td>\n",
              "      <td>...</td>\n",
              "      <td>...</td>\n",
              "      <td>...</td>\n",
              "      <td>...</td>\n",
              "      <td>...</td>\n",
              "      <td>...</td>\n",
              "      <td>...</td>\n",
              "    </tr>\n",
              "    <tr>\n",
              "      <th>54621</th>\n",
              "      <td>9</td>\n",
              "      <td>24</td>\n",
              "      <td>Finale</td>\n",
              "      <td>8153</td>\n",
              "      <td>Creed</td>\n",
              "      <td>It all seems so very arbitrary. I applied for ...</td>\n",
              "      <td>0</td>\n",
              "      <td>55</td>\n",
              "      <td>16</td>\n",
              "    </tr>\n",
              "    <tr>\n",
              "      <th>54622</th>\n",
              "      <td>9</td>\n",
              "      <td>24</td>\n",
              "      <td>Finale</td>\n",
              "      <td>8154</td>\n",
              "      <td>Meredith</td>\n",
              "      <td>I just feel lucky that I got a chance to share...</td>\n",
              "      <td>1</td>\n",
              "      <td>41</td>\n",
              "      <td>14</td>\n",
              "    </tr>\n",
              "    <tr>\n",
              "      <th>54623</th>\n",
              "      <td>9</td>\n",
              "      <td>24</td>\n",
              "      <td>Finale</td>\n",
              "      <td>8155</td>\n",
              "      <td>Phyllis</td>\n",
              "      <td>I'm happy that this was all filmed so I can re...</td>\n",
              "      <td>1</td>\n",
              "      <td>31</td>\n",
              "      <td>5</td>\n",
              "    </tr>\n",
              "    <tr>\n",
              "      <th>54624</th>\n",
              "      <td>9</td>\n",
              "      <td>24</td>\n",
              "      <td>Finale</td>\n",
              "      <td>8156</td>\n",
              "      <td>Jim</td>\n",
              "      <td>I sold paper at this company for 12 years. My ...</td>\n",
              "      <td>0</td>\n",
              "      <td>46</td>\n",
              "      <td>1</td>\n",
              "    </tr>\n",
              "    <tr>\n",
              "      <th>54625</th>\n",
              "      <td>9</td>\n",
              "      <td>24</td>\n",
              "      <td>Finale</td>\n",
              "      <td>8157</td>\n",
              "      <td>Pam</td>\n",
              "      <td>I thought it was weird when you picked us to m...</td>\n",
              "      <td>1</td>\n",
              "      <td>46</td>\n",
              "      <td>2</td>\n",
              "    </tr>\n",
              "  </tbody>\n",
              "</table>\n",
              "<p>47664 rows × 9 columns</p>\n",
              "</div>\n",
              "      <button class=\"colab-df-convert\" onclick=\"convertToInteractive('df-587e221b-74b7-44c9-ad4a-feef31a1075a')\"\n",
              "              title=\"Convert this dataframe to an interactive table.\"\n",
              "              style=\"display:none;\">\n",
              "        \n",
              "  <svg xmlns=\"http://www.w3.org/2000/svg\" height=\"24px\"viewBox=\"0 0 24 24\"\n",
              "       width=\"24px\">\n",
              "    <path d=\"M0 0h24v24H0V0z\" fill=\"none\"/>\n",
              "    <path d=\"M18.56 5.44l.94 2.06.94-2.06 2.06-.94-2.06-.94-.94-2.06-.94 2.06-2.06.94zm-11 1L8.5 8.5l.94-2.06 2.06-.94-2.06-.94L8.5 2.5l-.94 2.06-2.06.94zm10 10l.94 2.06.94-2.06 2.06-.94-2.06-.94-.94-2.06-.94 2.06-2.06.94z\"/><path d=\"M17.41 7.96l-1.37-1.37c-.4-.4-.92-.59-1.43-.59-.52 0-1.04.2-1.43.59L10.3 9.45l-7.72 7.72c-.78.78-.78 2.05 0 2.83L4 21.41c.39.39.9.59 1.41.59.51 0 1.02-.2 1.41-.59l7.78-7.78 2.81-2.81c.8-.78.8-2.07 0-2.86zM5.41 20L4 18.59l7.72-7.72 1.47 1.35L5.41 20z\"/>\n",
              "  </svg>\n",
              "      </button>\n",
              "      \n",
              "  <style>\n",
              "    .colab-df-container {\n",
              "      display:flex;\n",
              "      flex-wrap:wrap;\n",
              "      gap: 12px;\n",
              "    }\n",
              "\n",
              "    .colab-df-convert {\n",
              "      background-color: #E8F0FE;\n",
              "      border: none;\n",
              "      border-radius: 50%;\n",
              "      cursor: pointer;\n",
              "      display: none;\n",
              "      fill: #1967D2;\n",
              "      height: 32px;\n",
              "      padding: 0 0 0 0;\n",
              "      width: 32px;\n",
              "    }\n",
              "\n",
              "    .colab-df-convert:hover {\n",
              "      background-color: #E2EBFA;\n",
              "      box-shadow: 0px 1px 2px rgba(60, 64, 67, 0.3), 0px 1px 3px 1px rgba(60, 64, 67, 0.15);\n",
              "      fill: #174EA6;\n",
              "    }\n",
              "\n",
              "    [theme=dark] .colab-df-convert {\n",
              "      background-color: #3B4455;\n",
              "      fill: #D2E3FC;\n",
              "    }\n",
              "\n",
              "    [theme=dark] .colab-df-convert:hover {\n",
              "      background-color: #434B5C;\n",
              "      box-shadow: 0px 1px 3px 1px rgba(0, 0, 0, 0.15);\n",
              "      filter: drop-shadow(0px 1px 2px rgba(0, 0, 0, 0.3));\n",
              "      fill: #FFFFFF;\n",
              "    }\n",
              "  </style>\n",
              "\n",
              "      <script>\n",
              "        const buttonEl =\n",
              "          document.querySelector('#df-587e221b-74b7-44c9-ad4a-feef31a1075a button.colab-df-convert');\n",
              "        buttonEl.style.display =\n",
              "          google.colab.kernel.accessAllowed ? 'block' : 'none';\n",
              "\n",
              "        async function convertToInteractive(key) {\n",
              "          const element = document.querySelector('#df-587e221b-74b7-44c9-ad4a-feef31a1075a');\n",
              "          const dataTable =\n",
              "            await google.colab.kernel.invokeFunction('convertToInteractive',\n",
              "                                                     [key], {});\n",
              "          if (!dataTable) return;\n",
              "\n",
              "          const docLinkHtml = 'Like what you see? Visit the ' +\n",
              "            '<a target=\"_blank\" href=https://colab.research.google.com/notebooks/data_table.ipynb>data table notebook</a>'\n",
              "            + ' to learn more about interactive tables.';\n",
              "          element.innerHTML = '';\n",
              "          dataTable['output_type'] = 'display_data';\n",
              "          await google.colab.output.renderOutput(dataTable, element);\n",
              "          const docLink = document.createElement('div');\n",
              "          docLink.innerHTML = docLinkHtml;\n",
              "          element.appendChild(docLink);\n",
              "        }\n",
              "      </script>\n",
              "    </div>\n",
              "  </div>\n",
              "  "
            ],
            "text/plain": [
              "       season  episode   title  ...  gender number_of_words speaker_id\n",
              "0           1        1   Pilot  ...       0              14          0\n",
              "1           1        1   Pilot  ...       0               9          1\n",
              "2           1        1   Pilot  ...       0              14          0\n",
              "3           1        1   Pilot  ...       0               8          1\n",
              "4           1        1   Pilot  ...       0              10          0\n",
              "...       ...      ...     ...  ...     ...             ...        ...\n",
              "54621       9       24  Finale  ...       0              55         16\n",
              "54622       9       24  Finale  ...       1              41         14\n",
              "54623       9       24  Finale  ...       1              31          5\n",
              "54624       9       24  Finale  ...       0              46          1\n",
              "54625       9       24  Finale  ...       1              46          2\n",
              "\n",
              "[47664 rows x 9 columns]"
            ]
          },
          "metadata": {},
          "execution_count": 6
        }
      ]
    },
    {
      "cell_type": "code",
      "source": [
        "from sklearn.model_selection import train_test_split"
      ],
      "metadata": {
        "id": "gPBQ93_s3r2r"
      },
      "execution_count": null,
      "outputs": []
    },
    {
      "cell_type": "code",
      "source": [
        "X = df['line']\n",
        "y = df['speaker_id']\n",
        "num_classes = len(pd.unique(df['speaker_id']))\n",
        "\n",
        "X_train, X_test, y_train, y_test = train_test_split(X, y, shuffle=True, random_state=42, test_size=.33)"
      ],
      "metadata": {
        "id": "-l37aiDA3r40"
      },
      "execution_count": null,
      "outputs": []
    },
    {
      "cell_type": "code",
      "source": [
        "X_test, X_val, y_test, y_val = train_test_split(X_train, y_train, test_size=0.5, random_state=42)"
      ],
      "metadata": {
        "id": "om5CsGdV3r8i"
      },
      "execution_count": null,
      "outputs": []
    },
    {
      "cell_type": "code",
      "source": [
        "print(len(X_train))\n",
        "print(len(X_test))\n",
        "\n",
        "print(len(X_val))\n",
        "print(len(y_val))\n",
        "\n",
        "print(len(y_train))\n",
        "print(len(y_test))\n",
        "\n"
      ],
      "metadata": {
        "colab": {
          "base_uri": "https://localhost:8080/"
        },
        "id": "NoQsdYPs4nBq",
        "outputId": "52663dab-06b1-4cbe-be51-0d9e8bca93a3"
      },
      "execution_count": null,
      "outputs": [
        {
          "output_type": "stream",
          "name": "stdout",
          "text": [
            "31934\n",
            "15967\n",
            "15967\n",
            "15967\n",
            "31934\n",
            "15967\n"
          ]
        }
      ]
    },
    {
      "cell_type": "code",
      "source": [
        "# padding: not all lines are the same length, but they have to be the same length for NN; padding will fix this\n",
        "# do this for train, test and val sets\n",
        "from tensorflow.keras.preprocessing.text import Tokenizer\n",
        "from tensorflow.keras.preprocessing.sequence import pad_sequences\n",
        "\n",
        "lines_Xtrain = list(X_train)\n",
        "lines_Xval = list(X_val)\n",
        "lines_Xtest = list(X_test)\n",
        "\n",
        "# there will be a max length of line (maxlen), which should be the length of the longest sentence. this number should be the same in all sets\n",
        "longest_line_Xtrain = (max(lines_Xtrain, key=len))\n",
        "maxlen_Xtrain = len(longest_line_Xtrain.split())\n",
        "\n",
        "# longest_line_Xval = (max(lines_Xval, key=len))\n",
        "maxlen_Xval = maxlen_Xtrain\n",
        "# len(longest_line_Xval.split())\n",
        "\n",
        "# longest_line_Xtest = (max(lines_Xtest, key=len))\n",
        "maxlen_Xtest = maxlen_Xtrain\n",
        "# len(longest_line_Xtest.split())\n",
        "\n",
        "# only 1000 most frequent words & oov_token so any unknown word in test set wont just be thrown away, but will be replaced by token we choose\n",
        "tokenizer = Tokenizer(num_words = 10000, oov_token=\"<OOV>\")\n",
        "tokenizer.fit_on_texts(lines_Xtrain)\n",
        "word_index = tokenizer.word_index\n",
        "\n",
        "sequences_Xtrain = tokenizer.texts_to_sequences(lines_Xtrain)\n",
        "sequences_Xval = tokenizer.texts_to_sequences(lines_Xval)\n",
        "sequences_Xtest = tokenizer.texts_to_sequences(lines_Xtest)\n",
        "\n",
        "\n",
        "# default padding is pre, so zeros will occur before ints\n",
        "padded_Xtrain = pad_sequences(sequences_Xtrain, maxlen = maxlen_Xtrain)\n",
        "padded_Xval = pad_sequences(sequences_Xval, maxlen = maxlen_Xval)\n",
        "padded_Xtest = pad_sequences(sequences_Xtest, maxlen = maxlen_Xtest)\n",
        "\n",
        "print(\"\\n Padded sequences train: \\n\", padded_Xtrain)\n",
        "print(\"\\n Padded sequences val: \\n\", padded_Xval)\n",
        "print(\"\\n Padded sequences test: \\n\", padded_Xtest)\n",
        "\n",
        "# now each row in the matrix is a line with the same length, and oov_token specifiec out-of-vocabulary tokens that arent recognized\n",
        "# also, only 10 000 most frequent words are included\n"
      ],
      "metadata": {
        "colab": {
          "base_uri": "https://localhost:8080/"
        },
        "id": "X8NBt1At4oFF",
        "outputId": "e3753a6b-2b0f-4d74-bfd5-f79fa3677113"
      },
      "execution_count": null,
      "outputs": [
        {
          "output_type": "stream",
          "name": "stdout",
          "text": [
            "\n",
            " Padded sequences train: \n",
            " [[   0    0    0 ...    3  986   17]\n",
            " [   0    0    0 ...    0    0 8198]\n",
            " [   0    0    0 ...   78  668  213]\n",
            " ...\n",
            " [   0    0    0 ...   38   12  594]\n",
            " [   0    0    0 ...   19  145 4544]\n",
            " [   0    0    0 ...   35   34 1509]]\n",
            "\n",
            " Padded sequences val: \n",
            " [[   0    0    0 ...   25   14   68]\n",
            " [   0    0    0 ...   27   23  591]\n",
            " [   0    0    0 ...   46    7 1343]\n",
            " ...\n",
            " [   0    0    0 ...  651  704  690]\n",
            " [   0    0    0 ...    2   76  232]\n",
            " [   0    0    0 ...    9   56   15]]\n",
            "\n",
            " Padded sequences test: \n",
            " [[   0    0    0 ...  584    3   68]\n",
            " [   0    0    0 ...    0    0 3819]\n",
            " [   0    0    0 ...  289  180  455]\n",
            " ...\n",
            " [   0    0    0 ...    0    0 4679]\n",
            " [   0    0    0 ...    0    0   45]\n",
            " [   0    0    0 ...    0  391 5887]]\n"
          ]
        }
      ]
    },
    {
      "cell_type": "code",
      "source": [
        "# data should be float32, not int. goes for output too\n",
        "# also everything should be a numpy array\n",
        "y_train = np.asarray(y_train).astype('float32')\n",
        "y_val = np.asarray(y_val).astype('float32')\n",
        "y_test = np.asarray(y_test).astype('float32') \n",
        "print(y_train.shape)\n",
        "print(y_val.shape)\n",
        "print(y_test.shape)"
      ],
      "metadata": {
        "colab": {
          "base_uri": "https://localhost:8080/"
        },
        "id": "TY3-Qlz15Hku",
        "outputId": "6ba3e31f-51ca-4c1a-9509-c0f3542d86c5"
      },
      "execution_count": null,
      "outputs": [
        {
          "output_type": "stream",
          "name": "stdout",
          "text": [
            "(31934,)\n",
            "(15967,)\n",
            "(15967,)\n"
          ]
        }
      ]
    },
    {
      "cell_type": "code",
      "source": [
        "print(y_train[:])\n",
        "# no longer zeroes and ones, but multiclass labels; each number refers to a speaker"
      ],
      "metadata": {
        "colab": {
          "base_uri": "https://localhost:8080/"
        },
        "id": "mRp0d_x-5O3M",
        "outputId": "a838b13e-c815-469e-f507-29a1b6de5408"
      },
      "execution_count": null,
      "outputs": [
        {
          "output_type": "stream",
          "name": "stdout",
          "text": [
            "[ 3.  1.  3. ... 17.  2.  9.]\n"
          ]
        }
      ]
    },
    {
      "cell_type": "code",
      "source": [
        "# lets look at their distribution\n",
        "sns.set_theme(style=\"darkgrid\")\n",
        "ax = sns.countplot(x=y_train)\n",
        "# a lot of difference here!\n",
        "\n",
        "# y-axis refers to the number of times each speaker has a line, so 0=michael, he has lines in the 5000s"
      ],
      "metadata": {
        "colab": {
          "base_uri": "https://localhost:8080/",
          "height": 268
        },
        "id": "BsxMnGSI5gPB",
        "outputId": "9e1d6618-c56a-48f9-b8c4-3012406b7365"
      },
      "execution_count": null,
      "outputs": [
        {
          "output_type": "display_data",
          "data": {
            "image/png": "[encoded data removed]",
            "text/plain": [
              "<Figure size 432x288 with 1 Axes>"
            ]
          },
          "metadata": {}
        }
      ]
    },
    {
      "cell_type": "code",
      "source": [
        "# now we create the model\n",
        "model = keras.models.Sequential()\n",
        "model.add(keras.layers.Input(shape=(232,))) # putting the maxlen here, we know from binary NN\n",
        "model.add(keras.layers.Dense(num_classes, activation='softmax', name='banana'))\n",
        "model.summary() "
      ],
      "metadata": {
        "id": "rjqwjj7h51mA",
        "colab": {
          "base_uri": "https://localhost:8080/"
        },
        "outputId": "9f746de4-c329-41d9-d29b-c7e56956aac7"
      },
      "execution_count": null,
      "outputs": [
        {
          "output_type": "stream",
          "name": "stdout",
          "text": [
            "Model: \"sequential\"\n",
            "_________________________________________________________________\n",
            " Layer (type)                Output Shape              Param #   \n",
            "=================================================================\n",
            " banana (Dense)              (None, 25)                5825      \n",
            "                                                                 \n",
            "=================================================================\n",
            "Total params: 5,825\n",
            "Trainable params: 5,825\n",
            "Non-trainable params: 0\n",
            "_________________________________________________________________\n"
          ]
        }
      ]
    },
    {
      "cell_type": "code",
      "source": [
        "# now the optimizer. using categorical crossentropy bc we're doing multiclass prediction\n",
        "sgd = keras.optimizers.SGD(learning_rate=0.001) \n",
        "model.compile(optimizer=sgd,\n",
        "              loss='categorical_crossentropy',\n",
        "              metrics=['accuracy'])"
      ],
      "metadata": {
        "id": "VcgP6rc48KbW"
      },
      "execution_count": null,
      "outputs": []
    },
    {
      "cell_type": "code",
      "source": [
        "print(X_train.shape)"
      ],
      "metadata": {
        "colab": {
          "base_uri": "https://localhost:8080/"
        },
        "id": "0NI-ZS8r-QW9",
        "outputId": "e2e39d9d-0225-4297-c743-019119d5329a"
      },
      "execution_count": null,
      "outputs": [
        {
          "output_type": "stream",
          "name": "stdout",
          "text": [
            "(31934,)\n"
          ]
        }
      ]
    },
    {
      "cell_type": "code",
      "source": [
        "# now predict\n",
        "pred = model.predict(padded_Xtrain)\n",
        "print(pred.shape) \n",
        "print(pred[:])"
      ],
      "metadata": {
        "colab": {
          "base_uri": "https://localhost:8080/"
        },
        "id": "wPnDdyQd8WdM",
        "outputId": "83787624-8647-40e6-a803-64887d096085"
      },
      "execution_count": null,
      "outputs": [
        {
          "output_type": "stream",
          "name": "stdout",
          "text": [
            "(31934, 25)\n",
            "[[0.000000e+00 0.000000e+00 0.000000e+00 ... 0.000000e+00 0.000000e+00\n",
            "  0.000000e+00]\n",
            " [0.000000e+00 0.000000e+00 0.000000e+00 ... 0.000000e+00 0.000000e+00\n",
            "  0.000000e+00]\n",
            " [0.000000e+00 0.000000e+00 0.000000e+00 ... 0.000000e+00 0.000000e+00\n",
            "  0.000000e+00]\n",
            " ...\n",
            " [0.000000e+00 0.000000e+00 0.000000e+00 ... 0.000000e+00 6.839222e-34\n",
            "  0.000000e+00]\n",
            " [0.000000e+00 0.000000e+00 0.000000e+00 ... 0.000000e+00 0.000000e+00\n",
            "  0.000000e+00]\n",
            " [0.000000e+00 0.000000e+00 0.000000e+00 ... 0.000000e+00 0.000000e+00\n",
            "  0.000000e+00]]\n"
          ]
        }
      ]
    },
    {
      "cell_type": "code",
      "source": [
        "# we got a matrix with 25 columns for all instances in the training set. good i guess!!\n",
        "# however, we should convert the class labels to one-hot encoded class vectors. very important!\n",
        "from tensorflow.keras.utils import to_categorical \n",
        "Y_train = to_categorical(y_train, num_classes=num_classes)\n",
        "Y_val = to_categorical(y_val, num_classes=num_classes)\n",
        "Y_test = to_categorical(y_test, num_classes=num_classes)\n",
        "\n",
        "print(y_train.shape)\n",
        "print(Y_train.shape)\n",
        "\n",
        "print(y_train[:10])\n",
        "print(Y_train[:10, :])\n",
        "# thats better! as we see, a lot of zeroes. this is a one-hot representation. what does that mean?\n",
        "# it means that every number in a sequence is a class; if it is 0, the instance doesnt belong to the class. if it is 1, it does\n",
        "# so if the second number in the sequence is 1, then the instance belongs to class 2, speaker_id 2. \n",
        "# this is better because then you maximize the score for the class that does apply and completely minimize it for those that dont apply\n"
      ],
      "metadata": {
        "colab": {
          "base_uri": "https://localhost:8080/"
        },
        "id": "3mNPFATX_FAy",
        "outputId": "184ce84b-be92-4f12-88cf-fe9dd44b26a6"
      },
      "execution_count": null,
      "outputs": [
        {
          "output_type": "stream",
          "name": "stdout",
          "text": [
            "(31934,)\n",
            "(31934, 25)\n",
            "[ 3.  1.  3.  3.  0.  9.  0. 17.  0.  1.]\n",
            "[[0. 0. 0. 1. 0. 0. 0. 0. 0. 0. 0. 0. 0. 0. 0. 0. 0. 0. 0. 0. 0. 0. 0. 0.\n",
            "  0.]\n",
            " [0. 1. 0. 0. 0. 0. 0. 0. 0. 0. 0. 0. 0. 0. 0. 0. 0. 0. 0. 0. 0. 0. 0. 0.\n",
            "  0.]\n",
            " [0. 0. 0. 1. 0. 0. 0. 0. 0. 0. 0. 0. 0. 0. 0. 0. 0. 0. 0. 0. 0. 0. 0. 0.\n",
            "  0.]\n",
            " [0. 0. 0. 1. 0. 0. 0. 0. 0. 0. 0. 0. 0. 0. 0. 0. 0. 0. 0. 0. 0. 0. 0. 0.\n",
            "  0.]\n",
            " [1. 0. 0. 0. 0. 0. 0. 0. 0. 0. 0. 0. 0. 0. 0. 0. 0. 0. 0. 0. 0. 0. 0. 0.\n",
            "  0.]\n",
            " [0. 0. 0. 0. 0. 0. 0. 0. 0. 1. 0. 0. 0. 0. 0. 0. 0. 0. 0. 0. 0. 0. 0. 0.\n",
            "  0.]\n",
            " [1. 0. 0. 0. 0. 0. 0. 0. 0. 0. 0. 0. 0. 0. 0. 0. 0. 0. 0. 0. 0. 0. 0. 0.\n",
            "  0.]\n",
            " [0. 0. 0. 0. 0. 0. 0. 0. 0. 0. 0. 0. 0. 0. 0. 0. 0. 1. 0. 0. 0. 0. 0. 0.\n",
            "  0.]\n",
            " [1. 0. 0. 0. 0. 0. 0. 0. 0. 0. 0. 0. 0. 0. 0. 0. 0. 0. 0. 0. 0. 0. 0. 0.\n",
            "  0.]\n",
            " [0. 1. 0. 0. 0. 0. 0. 0. 0. 0. 0. 0. 0. 0. 0. 0. 0. 0. 0. 0. 0. 0. 0. 0.\n",
            "  0.]]\n"
          ]
        }
      ]
    },
    {
      "cell_type": "code",
      "source": [
        "# now we can fit the classifier with this matrix\n",
        "num_epochs = 20\n",
        "history = model.fit(padded_Xtrain, Y_train, epochs=num_epochs, validation_data=(padded_Xval, Y_val), batch_size=100)"
      ],
      "metadata": {
        "colab": {
          "base_uri": "https://localhost:8080/"
        },
        "id": "-p5oqISm_LMd",
        "outputId": "cc4a1552-7266-4586-c718-72411f21b99f"
      },
      "execution_count": null,
      "outputs": [
        {
          "output_type": "stream",
          "name": "stdout",
          "text": [
            "Epoch 1/20\n",
            "320/320 [==============================] - 2s 6ms/step - loss: 492.0510 - accuracy: 0.1110 - val_loss: 421.4939 - val_accuracy: 0.1191\n",
            "Epoch 2/20\n",
            "320/320 [==============================] - 2s 6ms/step - loss: 496.2358 - accuracy: 0.1154 - val_loss: 472.9690 - val_accuracy: 0.1184\n",
            "Epoch 3/20\n",
            "320/320 [==============================] - 2s 5ms/step - loss: 482.3710 - accuracy: 0.1162 - val_loss: 623.8245 - val_accuracy: 0.0670\n",
            "Epoch 4/20\n",
            "320/320 [==============================] - 2s 5ms/step - loss: 489.5954 - accuracy: 0.1121 - val_loss: 663.9097 - val_accuracy: 0.0869\n",
            "Epoch 5/20\n",
            "320/320 [==============================] - 2s 5ms/step - loss: 499.7448 - accuracy: 0.1158 - val_loss: 769.2317 - val_accuracy: 0.1099\n",
            "Epoch 6/20\n",
            "320/320 [==============================] - 2s 6ms/step - loss: 489.3825 - accuracy: 0.1168 - val_loss: 635.1788 - val_accuracy: 0.1380\n",
            "Epoch 7/20\n",
            "320/320 [==============================] - 2s 5ms/step - loss: 493.5482 - accuracy: 0.1127 - val_loss: 708.8549 - val_accuracy: 0.0456\n",
            "Epoch 8/20\n",
            "320/320 [==============================] - 2s 6ms/step - loss: 491.0108 - accuracy: 0.1150 - val_loss: 608.6385 - val_accuracy: 0.1391\n",
            "Epoch 9/20\n",
            "320/320 [==============================] - 2s 5ms/step - loss: 482.1006 - accuracy: 0.1158 - val_loss: 726.5215 - val_accuracy: 0.1209\n",
            "Epoch 10/20\n",
            "320/320 [==============================] - 2s 5ms/step - loss: 489.0031 - accuracy: 0.1167 - val_loss: 659.5558 - val_accuracy: 0.1082\n",
            "Epoch 11/20\n",
            "320/320 [==============================] - 2s 6ms/step - loss: 492.4524 - accuracy: 0.1157 - val_loss: 452.7227 - val_accuracy: 0.1569\n",
            "Epoch 12/20\n",
            "320/320 [==============================] - 2s 5ms/step - loss: 491.4850 - accuracy: 0.1129 - val_loss: 734.8411 - val_accuracy: 0.0610\n",
            "Epoch 13/20\n",
            "320/320 [==============================] - 2s 5ms/step - loss: 483.5597 - accuracy: 0.1144 - val_loss: 1041.1038 - val_accuracy: 0.1155\n",
            "Epoch 14/20\n",
            "320/320 [==============================] - 2s 6ms/step - loss: 485.8560 - accuracy: 0.1170 - val_loss: 597.0785 - val_accuracy: 0.1286\n",
            "Epoch 15/20\n",
            "320/320 [==============================] - 2s 5ms/step - loss: 484.7229 - accuracy: 0.1121 - val_loss: 1072.1820 - val_accuracy: 0.1390\n",
            "Epoch 16/20\n",
            "320/320 [==============================] - 2s 5ms/step - loss: 500.2216 - accuracy: 0.1156 - val_loss: 618.5483 - val_accuracy: 0.2141\n",
            "Epoch 17/20\n",
            "320/320 [==============================] - 2s 5ms/step - loss: 482.8394 - accuracy: 0.1153 - val_loss: 646.5082 - val_accuracy: 0.0981\n",
            "Epoch 18/20\n",
            "320/320 [==============================] - 2s 5ms/step - loss: 484.5867 - accuracy: 0.1162 - val_loss: 628.9852 - val_accuracy: 0.1003\n",
            "Epoch 19/20\n",
            "320/320 [==============================] - 2s 6ms/step - loss: 488.2554 - accuracy: 0.1120 - val_loss: 581.8191 - val_accuracy: 0.0910\n",
            "Epoch 20/20\n",
            "320/320 [==============================] - 2s 6ms/step - loss: 473.2689 - accuracy: 0.1158 - val_loss: 377.7099 - val_accuracy: 0.0700\n"
          ]
        }
      ]
    },
    {
      "cell_type": "code",
      "source": [
        "# well that is very, very bad. why? i think its just the problem itself, not the model. might just be too difficult to predict who said something\n",
        "# from just the words that were said. \n",
        "# lets plot learning curves and see whats going on\n",
        "\n",
        "plt.style.use('seaborn-dark')\n",
        "\n",
        "epochs = range(1, num_epochs + 1)\n",
        "train_loss = history.history['loss']\n",
        "val_loss = history.history['val_loss']\n",
        "\n",
        "plt.plot(epochs, train_loss, 'b', label='train')\n",
        "plt.plot(epochs, val_loss, 'r', label='val')\n",
        "plt.title('Loss curves')\n",
        "plt.xlabel('Epochs')\n",
        "plt.legend()\n",
        "plt.ylabel('Binary Crossentropy');\n",
        "\n",
        "# the patters are very different, which indicates overfitting\n",
        "\n"
      ],
      "metadata": {
        "id": "C5Iw7-jLI7cz",
        "colab": {
          "base_uri": "https://localhost:8080/",
          "height": 293
        },
        "outputId": "47bae4e2-1d86-4706-9ab5-39706842e75d"
      },
      "execution_count": null,
      "outputs": [
        {
          "output_type": "display_data",
          "data": {
            "image/png": "[encoded data removed]",
            "text/plain": [
              "<Figure size 432x288 with 1 Axes>"
            ]
          },
          "metadata": {}
        }
      ]
    },
    {
      "cell_type": "code",
      "source": [
        "history_dict = history.history\n",
        "loss_values = history.history['loss']\n",
        "acc_values = history.history['accuracy']"
      ],
      "metadata": {
        "id": "3SS6lJl6XT1H"
      },
      "execution_count": null,
      "outputs": []
    },
    {
      "cell_type": "code",
      "source": [
        "epochs = range(1, num_epochs + 1)\n",
        "plt.plot(epochs, loss_values, 'bo')\n",
        "plt.title('Training loss')\n",
        "plt.xlabel('Epochs')\n",
        "plt.ylabel('MSE');"
      ],
      "metadata": {
        "colab": {
          "base_uri": "https://localhost:8080/",
          "height": 293
        },
        "id": "Jnz4aFgrXX3w",
        "outputId": "ccbf1190-a0db-4904-cb72-de8dcf3f48f7"
      },
      "execution_count": null,
      "outputs": [
        {
          "output_type": "display_data",
          "data": {
            "image/png": "[encoded data removed]",
            "text/plain": [
              "<Figure size 432x288 with 1 Axes>"
            ]
          },
          "metadata": {}
        }
      ]
    },
    {
      "cell_type": "code",
      "source": [
        "# seems that model just cant figure anything out?\n",
        "plt.plot(epochs, acc_values, 'bo')\n",
        "plt.title('Training accuracy')\n",
        "plt.xlabel('Epochs')\n",
        "plt.ylabel('ACC');"
      ],
      "metadata": {
        "colab": {
          "base_uri": "https://localhost:8080/",
          "height": 293
        },
        "id": "qLFSQH9bXirB",
        "outputId": "0b145e3a-ceee-4abc-d0af-2357015775ac"
      },
      "execution_count": null,
      "outputs": [
        {
          "output_type": "display_data",
          "data": {
            "image/png": "[encoded data removed]",
            "text/plain": [
              "<Figure size 432x288 with 1 Axes>"
            ]
          },
          "metadata": {}
        }
      ]
    },
    {
      "cell_type": "code",
      "source": [
        "# model appears to be steadily increasing the last few epochs. maybe more epochs will help? "
      ],
      "metadata": {
        "id": "iIyo8vdkXtqW"
      },
      "execution_count": null,
      "outputs": []
    },
    {
      "cell_type": "code",
      "source": [
        "num_epochs = 50\n",
        "history = model.fit(padded_Xtrain, Y_train, epochs=num_epochs, validation_data=(padded_Xval, Y_val), batch_size=100 )"
      ],
      "metadata": {
        "colab": {
          "base_uri": "https://localhost:8080/"
        },
        "id": "-eeXEeJFYDpR",
        "outputId": "e4f94d98-fc39-456d-e3ac-5381bbd6503b"
      },
      "execution_count": null,
      "outputs": [
        {
          "output_type": "stream",
          "name": "stdout",
          "text": [
            "Epoch 1/50\n",
            "320/320 [==============================] - 2s 6ms/step - loss: 488.1308 - accuracy: 0.1155 - val_loss: 451.7885 - val_accuracy: 0.0898\n",
            "Epoch 2/50\n",
            "320/320 [==============================] - 2s 6ms/step - loss: 489.7665 - accuracy: 0.1149 - val_loss: 701.0061 - val_accuracy: 0.1971\n",
            "Epoch 3/50\n",
            "320/320 [==============================] - 2s 6ms/step - loss: 479.9704 - accuracy: 0.1185 - val_loss: 434.4131 - val_accuracy: 0.1571\n",
            "Epoch 4/50\n",
            "320/320 [==============================] - 3s 8ms/step - loss: 495.4358 - accuracy: 0.1139 - val_loss: 675.1232 - val_accuracy: 0.0372\n",
            "Epoch 5/50\n",
            "320/320 [==============================] - 2s 5ms/step - loss: 490.0024 - accuracy: 0.1161 - val_loss: 611.2462 - val_accuracy: 0.1321\n",
            "Epoch 6/50\n",
            "320/320 [==============================] - 2s 5ms/step - loss: 487.9464 - accuracy: 0.1129 - val_loss: 437.9625 - val_accuracy: 0.0638\n",
            "Epoch 7/50\n",
            "320/320 [==============================] - 2s 5ms/step - loss: 495.8213 - accuracy: 0.1162 - val_loss: 582.8511 - val_accuracy: 0.0575\n",
            "Epoch 8/50\n",
            "320/320 [==============================] - 2s 5ms/step - loss: 481.3076 - accuracy: 0.1158 - val_loss: 563.7281 - val_accuracy: 0.0845\n",
            "Epoch 9/50\n",
            "320/320 [==============================] - 2s 6ms/step - loss: 489.5047 - accuracy: 0.1154 - val_loss: 537.3204 - val_accuracy: 0.1191\n",
            "Epoch 10/50\n",
            "320/320 [==============================] - 2s 5ms/step - loss: 469.4363 - accuracy: 0.1165 - val_loss: 812.6036 - val_accuracy: 0.0978\n",
            "Epoch 11/50\n",
            "320/320 [==============================] - 2s 5ms/step - loss: 487.9734 - accuracy: 0.1137 - val_loss: 494.1391 - val_accuracy: 0.1273\n",
            "Epoch 12/50\n",
            "320/320 [==============================] - 2s 5ms/step - loss: 490.2588 - accuracy: 0.1132 - val_loss: 759.8336 - val_accuracy: 0.0539\n",
            "Epoch 13/50\n",
            "320/320 [==============================] - 2s 6ms/step - loss: 483.6931 - accuracy: 0.1152 - val_loss: 534.5629 - val_accuracy: 0.1166\n",
            "Epoch 14/50\n",
            "320/320 [==============================] - 2s 5ms/step - loss: 486.2693 - accuracy: 0.1163 - val_loss: 471.0752 - val_accuracy: 0.0941\n",
            "Epoch 15/50\n",
            "320/320 [==============================] - 2s 6ms/step - loss: 486.5726 - accuracy: 0.1176 - val_loss: 461.8914 - val_accuracy: 0.0821\n",
            "Epoch 16/50\n",
            "320/320 [==============================] - 2s 5ms/step - loss: 482.3072 - accuracy: 0.1148 - val_loss: 437.5135 - val_accuracy: 0.1519\n",
            "Epoch 17/50\n",
            "320/320 [==============================] - 2s 6ms/step - loss: 498.3349 - accuracy: 0.1142 - val_loss: 553.7289 - val_accuracy: 0.1199\n",
            "Epoch 18/50\n",
            "320/320 [==============================] - 2s 7ms/step - loss: 481.5471 - accuracy: 0.1177 - val_loss: 481.8383 - val_accuracy: 0.1132\n",
            "Epoch 19/50\n",
            "320/320 [==============================] - 2s 5ms/step - loss: 500.9584 - accuracy: 0.1155 - val_loss: 684.5023 - val_accuracy: 0.0431\n",
            "Epoch 20/50\n",
            "320/320 [==============================] - 2s 6ms/step - loss: 481.6353 - accuracy: 0.1177 - val_loss: 516.5991 - val_accuracy: 0.1112\n",
            "Epoch 21/50\n",
            "320/320 [==============================] - 2s 5ms/step - loss: 482.8339 - accuracy: 0.1164 - val_loss: 564.3227 - val_accuracy: 0.1018\n",
            "Epoch 22/50\n",
            "320/320 [==============================] - 2s 5ms/step - loss: 491.7293 - accuracy: 0.1165 - val_loss: 542.6326 - val_accuracy: 0.0587\n",
            "Epoch 23/50\n",
            "320/320 [==============================] - 2s 5ms/step - loss: 496.6189 - accuracy: 0.1136 - val_loss: 373.3566 - val_accuracy: 0.1219\n",
            "Epoch 24/50\n",
            "320/320 [==============================] - 2s 5ms/step - loss: 489.5529 - accuracy: 0.1133 - val_loss: 595.5874 - val_accuracy: 0.1690\n",
            "Epoch 25/50\n",
            "320/320 [==============================] - 2s 5ms/step - loss: 487.9812 - accuracy: 0.1169 - val_loss: 690.4613 - val_accuracy: 0.1434\n",
            "Epoch 26/50\n",
            "320/320 [==============================] - 2s 5ms/step - loss: 481.5168 - accuracy: 0.1157 - val_loss: 519.2508 - val_accuracy: 0.1036\n",
            "Epoch 27/50\n",
            "320/320 [==============================] - 2s 5ms/step - loss: 483.4493 - accuracy: 0.1114 - val_loss: 905.3688 - val_accuracy: 0.0520\n",
            "Epoch 28/50\n",
            "320/320 [==============================] - 2s 5ms/step - loss: 485.5022 - accuracy: 0.1150 - val_loss: 734.7404 - val_accuracy: 0.1473\n",
            "Epoch 29/50\n",
            "320/320 [==============================] - 2s 5ms/step - loss: 487.8729 - accuracy: 0.1171 - val_loss: 440.8389 - val_accuracy: 0.1050\n",
            "Epoch 30/50\n",
            "320/320 [==============================] - 2s 5ms/step - loss: 478.0472 - accuracy: 0.1171 - val_loss: 554.8427 - val_accuracy: 0.1051\n",
            "Epoch 31/50\n",
            "320/320 [==============================] - 2s 5ms/step - loss: 498.0471 - accuracy: 0.1159 - val_loss: 381.7197 - val_accuracy: 0.0842\n",
            "Epoch 32/50\n",
            "320/320 [==============================] - 2s 5ms/step - loss: 484.3922 - accuracy: 0.1128 - val_loss: 593.8680 - val_accuracy: 0.1603\n",
            "Epoch 33/50\n",
            "320/320 [==============================] - 2s 5ms/step - loss: 486.4198 - accuracy: 0.1178 - val_loss: 526.3702 - val_accuracy: 0.0845\n",
            "Epoch 34/50\n",
            "320/320 [==============================] - 2s 5ms/step - loss: 485.8768 - accuracy: 0.1171 - val_loss: 652.6285 - val_accuracy: 0.0887\n",
            "Epoch 35/50\n",
            "320/320 [==============================] - 2s 5ms/step - loss: 487.3702 - accuracy: 0.1170 - val_loss: 580.0168 - val_accuracy: 0.0841\n",
            "Epoch 36/50\n",
            "320/320 [==============================] - 2s 5ms/step - loss: 482.4952 - accuracy: 0.1163 - val_loss: 426.2491 - val_accuracy: 0.1092\n",
            "Epoch 37/50\n",
            "320/320 [==============================] - 2s 6ms/step - loss: 477.6754 - accuracy: 0.1183 - val_loss: 678.3698 - val_accuracy: 0.1274\n",
            "Epoch 38/50\n",
            "320/320 [==============================] - 2s 6ms/step - loss: 491.3076 - accuracy: 0.1174 - val_loss: 647.8010 - val_accuracy: 0.0693\n",
            "Epoch 39/50\n",
            "320/320 [==============================] - 2s 5ms/step - loss: 494.8255 - accuracy: 0.1121 - val_loss: 530.6394 - val_accuracy: 0.1090\n",
            "Epoch 40/50\n",
            "320/320 [==============================] - 2s 5ms/step - loss: 489.2700 - accuracy: 0.1155 - val_loss: 477.4383 - val_accuracy: 0.0457\n",
            "Epoch 41/50\n",
            "320/320 [==============================] - 2s 5ms/step - loss: 480.6330 - accuracy: 0.1169 - val_loss: 440.6960 - val_accuracy: 0.1551\n",
            "Epoch 42/50\n",
            "320/320 [==============================] - 2s 5ms/step - loss: 482.7813 - accuracy: 0.1165 - val_loss: 490.0742 - val_accuracy: 0.1395\n",
            "Epoch 43/50\n",
            "320/320 [==============================] - 2s 6ms/step - loss: 478.6235 - accuracy: 0.1175 - val_loss: 496.9684 - val_accuracy: 0.1501\n",
            "Epoch 44/50\n",
            "320/320 [==============================] - 2s 5ms/step - loss: 488.8902 - accuracy: 0.1172 - val_loss: 577.1842 - val_accuracy: 0.1342\n",
            "Epoch 45/50\n",
            "320/320 [==============================] - 2s 6ms/step - loss: 483.6427 - accuracy: 0.1163 - val_loss: 599.6303 - val_accuracy: 0.1288\n",
            "Epoch 46/50\n",
            "320/320 [==============================] - 2s 6ms/step - loss: 489.8687 - accuracy: 0.1164 - val_loss: 367.3544 - val_accuracy: 0.1256\n",
            "Epoch 47/50\n",
            "320/320 [==============================] - 2s 6ms/step - loss: 476.8565 - accuracy: 0.1163 - val_loss: 517.1458 - val_accuracy: 0.1124\n",
            "Epoch 48/50\n",
            "320/320 [==============================] - 2s 7ms/step - loss: 492.9461 - accuracy: 0.1167 - val_loss: 480.0078 - val_accuracy: 0.0686\n",
            "Epoch 49/50\n",
            "320/320 [==============================] - 2s 8ms/step - loss: 490.1489 - accuracy: 0.1158 - val_loss: 592.3054 - val_accuracy: 0.1424\n",
            "Epoch 50/50\n",
            "320/320 [==============================] - 2s 6ms/step - loss: 489.6649 - accuracy: 0.1158 - val_loss: 493.1329 - val_accuracy: 0.1299\n"
          ]
        }
      ]
    },
    {
      "cell_type": "code",
      "source": [
        "plt.style.use('seaborn-dark')\n",
        "\n",
        "epochs = range(1, num_epochs + 1)\n",
        "train_loss = history.history['loss']\n",
        "val_loss = history.history['val_loss']\n",
        "\n",
        "plt.plot(epochs, train_loss, 'b', label='train')\n",
        "plt.plot(epochs, val_loss, 'r', label='val')\n",
        "plt.title('Loss curves')\n",
        "plt.xlabel('Epochs')\n",
        "plt.legend()\n",
        "plt.ylabel('Binary Crossentropy');\n",
        "\n",
        "# no difference; model just isnt good for this problem. maybe adam is a little better? "
      ],
      "metadata": {
        "colab": {
          "base_uri": "https://localhost:8080/",
          "height": 293
        },
        "id": "_EQILg274A4z",
        "outputId": "16b6ae3c-de11-4cab-9f3f-172f34f3f1ab"
      },
      "execution_count": null,
      "outputs": [
        {
          "output_type": "display_data",
          "data": {
            "image/png": "[encoded data removed]",
            "text/plain": [
              "<Figure size 432x288 with 1 Axes>"
            ]
          },
          "metadata": {}
        }
      ]
    },
    {
      "cell_type": "code",
      "source": [
        "# lets try Adam optimizer\n",
        "\n",
        "adammodel = keras.models.Sequential()\n",
        "adammodel.add(keras.layers.Input(shape=(232,))) \n",
        "adammodel.add(keras.layers.Dense(num_classes, activation='softmax', name='banana'))\n",
        "adammodel.summary() \n"
      ],
      "metadata": {
        "colab": {
          "base_uri": "https://localhost:8080/"
        },
        "id": "2SBPs2z2YuhD",
        "outputId": "97675f47-9c6e-4fac-aa5f-0694f1c2fdb4"
      },
      "execution_count": null,
      "outputs": [
        {
          "output_type": "stream",
          "name": "stdout",
          "text": [
            "Model: \"sequential_1\"\n",
            "_________________________________________________________________\n",
            " Layer (type)                Output Shape              Param #   \n",
            "=================================================================\n",
            " banana (Dense)              (None, 25)                5825      \n",
            "                                                                 \n",
            "=================================================================\n",
            "Total params: 5,825\n",
            "Trainable params: 5,825\n",
            "Non-trainable params: 0\n",
            "_________________________________________________________________\n"
          ]
        }
      ]
    },
    {
      "cell_type": "code",
      "source": [
        "sgd = keras.optimizers.Adam(learning_rate=0.001) \n",
        "adammodel.compile(optimizer=sgd,\n",
        "              loss='categorical_crossentropy',\n",
        "              metrics=['accuracy'])"
      ],
      "metadata": {
        "id": "z-tmZfdtZPmo"
      },
      "execution_count": null,
      "outputs": []
    },
    {
      "cell_type": "code",
      "source": [
        "pred = adammodel.predict(padded_Xtrain)\n",
        "print(pred.shape)\n",
        "print(pred[:])"
      ],
      "metadata": {
        "colab": {
          "base_uri": "https://localhost:8080/"
        },
        "id": "A166Gd5iZPv9",
        "outputId": "71706c0b-40e8-4c09-b3c3-b8ff8fd67ffe"
      },
      "execution_count": null,
      "outputs": [
        {
          "output_type": "stream",
          "name": "stdout",
          "text": [
            "(31934, 25)\n",
            "[[0.0000000e+00 0.0000000e+00 1.1271412e-25 ... 2.4582242e-10\n",
            "  0.0000000e+00 0.0000000e+00]\n",
            " [0.0000000e+00 0.0000000e+00 0.0000000e+00 ... 0.0000000e+00\n",
            "  0.0000000e+00 0.0000000e+00]\n",
            " [2.7431125e-32 0.0000000e+00 1.0698649e-36 ... 1.0001048e-19\n",
            "  0.0000000e+00 0.0000000e+00]\n",
            " ...\n",
            " [0.0000000e+00 0.0000000e+00 0.0000000e+00 ... 0.0000000e+00\n",
            "  0.0000000e+00 0.0000000e+00]\n",
            " [0.0000000e+00 0.0000000e+00 0.0000000e+00 ... 0.0000000e+00\n",
            "  0.0000000e+00 0.0000000e+00]\n",
            " [0.0000000e+00 0.0000000e+00 0.0000000e+00 ... 0.0000000e+00\n",
            "  0.0000000e+00 0.0000000e+00]]\n"
          ]
        }
      ]
    },
    {
      "cell_type": "code",
      "source": [
        "num_epochs = 20\n",
        "history = adammodel.fit(padded_Xtrain, Y_train, epochs=num_epochs, validation_data=(padded_Xval, Y_val), batch_size=100 )"
      ],
      "metadata": {
        "colab": {
          "base_uri": "https://localhost:8080/"
        },
        "id": "ZbVZYMMh4WdS",
        "outputId": "d9173016-804a-4e8f-f334-50ce0e52b85f"
      },
      "execution_count": null,
      "outputs": [
        {
          "output_type": "stream",
          "name": "stdout",
          "text": [
            "Epoch 1/20\n",
            "320/320 [==============================] - 2s 5ms/step - loss: 184.9119 - accuracy: 0.0975 - val_loss: 60.0547 - val_accuracy: 0.1382\n",
            "Epoch 2/20\n",
            "320/320 [==============================] - 2s 7ms/step - loss: 40.1561 - accuracy: 0.1405 - val_loss: 25.5094 - val_accuracy: 0.1272\n",
            "Epoch 3/20\n",
            "320/320 [==============================] - 2s 6ms/step - loss: 20.8529 - accuracy: 0.1456 - val_loss: 16.1287 - val_accuracy: 0.1687\n",
            "Epoch 4/20\n",
            "320/320 [==============================] - 2s 5ms/step - loss: 14.3152 - accuracy: 0.1561 - val_loss: 12.0961 - val_accuracy: 0.1563\n",
            "Epoch 5/20\n",
            "320/320 [==============================] - 2s 6ms/step - loss: 11.6403 - accuracy: 0.1571 - val_loss: 9.6393 - val_accuracy: 0.1674\n",
            "Epoch 6/20\n",
            "320/320 [==============================] - 2s 6ms/step - loss: 10.1491 - accuracy: 0.1620 - val_loss: 9.1450 - val_accuracy: 0.1696\n",
            "Epoch 7/20\n",
            "320/320 [==============================] - 2s 5ms/step - loss: 9.4610 - accuracy: 0.1624 - val_loss: 8.7392 - val_accuracy: 0.1639\n",
            "Epoch 8/20\n",
            "320/320 [==============================] - 2s 5ms/step - loss: 8.8955 - accuracy: 0.1639 - val_loss: 7.9651 - val_accuracy: 0.1810\n",
            "Epoch 9/20\n",
            "320/320 [==============================] - 2s 5ms/step - loss: 8.7915 - accuracy: 0.1636 - val_loss: 8.7095 - val_accuracy: 0.1509\n",
            "Epoch 10/20\n",
            "320/320 [==============================] - 2s 6ms/step - loss: 8.4783 - accuracy: 0.1632 - val_loss: 7.7642 - val_accuracy: 0.1667\n",
            "Epoch 11/20\n",
            "320/320 [==============================] - 2s 6ms/step - loss: 8.5298 - accuracy: 0.1641 - val_loss: 8.0980 - val_accuracy: 0.1771\n",
            "Epoch 12/20\n",
            "320/320 [==============================] - 2s 5ms/step - loss: 8.2764 - accuracy: 0.1666 - val_loss: 7.7542 - val_accuracy: 0.1683\n",
            "Epoch 13/20\n",
            "320/320 [==============================] - 2s 5ms/step - loss: 8.4651 - accuracy: 0.1637 - val_loss: 7.8047 - val_accuracy: 0.1719\n",
            "Epoch 14/20\n",
            "320/320 [==============================] - 2s 5ms/step - loss: 8.3616 - accuracy: 0.1658 - val_loss: 7.8884 - val_accuracy: 0.1601\n",
            "Epoch 15/20\n",
            "320/320 [==============================] - 2s 5ms/step - loss: 8.4167 - accuracy: 0.1638 - val_loss: 8.0709 - val_accuracy: 0.1529\n",
            "Epoch 16/20\n",
            "320/320 [==============================] - 2s 6ms/step - loss: 8.2895 - accuracy: 0.1659 - val_loss: 7.5090 - val_accuracy: 0.1785\n",
            "Epoch 17/20\n",
            "320/320 [==============================] - 2s 5ms/step - loss: 8.3037 - accuracy: 0.1649 - val_loss: 8.0952 - val_accuracy: 0.1623\n",
            "Epoch 18/20\n",
            "320/320 [==============================] - 2s 5ms/step - loss: 8.3112 - accuracy: 0.1690 - val_loss: 7.9625 - val_accuracy: 0.1705\n",
            "Epoch 19/20\n",
            "320/320 [==============================] - 2s 6ms/step - loss: 8.3120 - accuracy: 0.1703 - val_loss: 7.9734 - val_accuracy: 0.1708\n",
            "Epoch 20/20\n",
            "320/320 [==============================] - 2s 5ms/step - loss: 8.3295 - accuracy: 0.1642 - val_loss: 8.1287 - val_accuracy: 0.1638\n"
          ]
        }
      ]
    },
    {
      "cell_type": "code",
      "source": [
        ""
      ],
      "metadata": {
        "id": "ocGw9G19DlJm"
      },
      "execution_count": null,
      "outputs": []
    },
    {
      "cell_type": "code",
      "source": [
        "plt.style.use('seaborn-dark')\n",
        "\n",
        "epochs = range(1, num_epochs + 1)\n",
        "train_loss = history.history['loss']\n",
        "val_loss = history.history['val_loss']\n",
        "\n",
        "plt.plot(epochs, train_loss, 'b', label='train')\n",
        "plt.plot(epochs, val_loss, 'r', label='val')\n",
        "plt.title('Loss curves')\n",
        "plt.xlabel('Epochs')\n",
        "plt.legend()\n",
        "plt.ylabel('Binary Crossentropy');\n",
        "\n",
        "# thats better! train and val set loss both go down :) "
      ],
      "metadata": {
        "colab": {
          "base_uri": "https://localhost:8080/",
          "height": 293
        },
        "id": "A3luRu4l4WpA",
        "outputId": "becf1056-509e-41a8-e92b-efbe64ef37fb"
      },
      "execution_count": null,
      "outputs": [
        {
          "output_type": "display_data",
          "data": {
            "image/png": "[encoded data removed]",
            "text/plain": [
              "<Figure size 432x288 with 1 Axes>"
            ]
          },
          "metadata": {}
        }
      ]
    },
    {
      "cell_type": "code",
      "source": [
        "plt.style.use('seaborn-dark')\n",
        "\n",
        "epochs = range(1, num_epochs + 1)\n",
        "train_acc = history.history['accuracy']\n",
        "val_acc = history.history['val_accuracy']\n",
        "\n",
        "plt.plot(epochs, train_acc, 'b', label='train')\n",
        "plt.plot(epochs, val_acc, 'r', label='val')\n",
        "plt.title('Accuracy curves')\n",
        "plt.xlabel('Epochs')\n",
        "plt.legend()\n",
        "plt.ylabel('Binary Crossentropy');\n",
        "\n",
        "# accuracy does go up, especially in the val set, but it remains very low\n",
        "# lets see what an additional layer does"
      ],
      "metadata": {
        "colab": {
          "base_uri": "https://localhost:8080/",
          "height": 293
        },
        "id": "GV3fe0oXZP1D",
        "outputId": "2b577381-b110-4fb6-f2fe-7f2eb78bf98c"
      },
      "execution_count": null,
      "outputs": [
        {
          "output_type": "display_data",
          "data": {
            "image/png": "[encoded data removed]",
            "text/plain": [
              "<Figure size 432x288 with 1 Axes>"
            ]
          },
          "metadata": {}
        }
      ]
    },
    {
      "cell_type": "code",
      "source": [
        "adammodel = keras.models.Sequential()\n",
        "adammodel.add(keras.layers.Input(shape=(232,))) \n",
        "adammodel.add(keras.layers.Dense(500, activation='relu', name='hidden'))\n",
        "adammodel.add(keras.layers.Dense(num_classes, activation='softmax', name='banana'))\n",
        "adammodel.summary() \n",
        "# this makes the model a lot bigger, as we can see from the parameters"
      ],
      "metadata": {
        "colab": {
          "base_uri": "https://localhost:8080/"
        },
        "id": "nc3_GN5f7hzg",
        "outputId": "739cef24-6d9c-40e8-f4cb-9a4dbfc2b66a"
      },
      "execution_count": null,
      "outputs": [
        {
          "output_type": "stream",
          "name": "stdout",
          "text": [
            "Model: \"sequential_2\"\n",
            "_________________________________________________________________\n",
            " Layer (type)                Output Shape              Param #   \n",
            "=================================================================\n",
            " hidden (Dense)              (None, 500)               116500    \n",
            "                                                                 \n",
            " banana (Dense)              (None, 25)                12525     \n",
            "                                                                 \n",
            "=================================================================\n",
            "Total params: 129,025\n",
            "Trainable params: 129,025\n",
            "Non-trainable params: 0\n",
            "_________________________________________________________________\n"
          ]
        }
      ]
    },
    {
      "cell_type": "code",
      "source": [
        "sgd = keras.optimizers.Adam(learning_rate=0.001) \n",
        "adammodel.compile(optimizer=sgd,\n",
        "              loss='categorical_crossentropy',\n",
        "              metrics=['accuracy'])"
      ],
      "metadata": {
        "id": "hFVi5TGia4Q8"
      },
      "execution_count": null,
      "outputs": []
    },
    {
      "cell_type": "code",
      "source": [
        "num_epochs = 20\n",
        "history = adammodel.fit(padded_Xtrain, Y_train, epochs=num_epochs, validation_data=(padded_Xval, Y_val), batch_size=100 )"
      ],
      "metadata": {
        "colab": {
          "base_uri": "https://localhost:8080/"
        },
        "id": "HS7YTPhSDnFg",
        "outputId": "75c27ed2-3c02-4770-97d0-744dd156ac56"
      },
      "execution_count": null,
      "outputs": [
        {
          "output_type": "stream",
          "name": "stdout",
          "text": [
            "Epoch 1/20\n",
            "320/320 [==============================] - 4s 9ms/step - loss: 69.4409 - accuracy: 0.1225 - val_loss: 40.3968 - val_accuracy: 0.1586\n",
            "Epoch 2/20\n",
            "320/320 [==============================] - 2s 7ms/step - loss: 37.0163 - accuracy: 0.1436 - val_loss: 28.2285 - val_accuracy: 0.1585\n",
            "Epoch 3/20\n",
            "320/320 [==============================] - 2s 5ms/step - loss: 27.5666 - accuracy: 0.1540 - val_loss: 25.1101 - val_accuracy: 0.2027\n",
            "Epoch 4/20\n",
            "320/320 [==============================] - 2s 5ms/step - loss: 21.8308 - accuracy: 0.1618 - val_loss: 18.3942 - val_accuracy: 0.1901\n",
            "Epoch 5/20\n",
            "320/320 [==============================] - 2s 5ms/step - loss: 18.0616 - accuracy: 0.1681 - val_loss: 14.5063 - val_accuracy: 0.2016\n",
            "Epoch 6/20\n",
            "320/320 [==============================] - 2s 6ms/step - loss: 15.3952 - accuracy: 0.1743 - val_loss: 12.1741 - val_accuracy: 0.2044\n",
            "Epoch 7/20\n",
            "320/320 [==============================] - 2s 5ms/step - loss: 13.0604 - accuracy: 0.1797 - val_loss: 10.9865 - val_accuracy: 0.1847\n",
            "Epoch 8/20\n",
            "320/320 [==============================] - 2s 5ms/step - loss: 11.6102 - accuracy: 0.1821 - val_loss: 9.6262 - val_accuracy: 0.1890\n",
            "Epoch 9/20\n",
            "320/320 [==============================] - 2s 6ms/step - loss: 10.1958 - accuracy: 0.1870 - val_loss: 9.0812 - val_accuracy: 0.1737\n",
            "Epoch 10/20\n",
            "320/320 [==============================] - 2s 5ms/step - loss: 8.9193 - accuracy: 0.1894 - val_loss: 7.3629 - val_accuracy: 0.2196\n",
            "Epoch 11/20\n",
            "320/320 [==============================] - 2s 5ms/step - loss: 7.5911 - accuracy: 0.1948 - val_loss: 6.3627 - val_accuracy: 0.2223\n",
            "Epoch 12/20\n",
            "320/320 [==============================] - 2s 6ms/step - loss: 6.5321 - accuracy: 0.1985 - val_loss: 5.7194 - val_accuracy: 0.2082\n",
            "Epoch 13/20\n",
            "320/320 [==============================] - 2s 5ms/step - loss: 5.8561 - accuracy: 0.2041 - val_loss: 4.9143 - val_accuracy: 0.2274\n",
            "Epoch 14/20\n",
            "320/320 [==============================] - 2s 6ms/step - loss: 5.0194 - accuracy: 0.2122 - val_loss: 4.3748 - val_accuracy: 0.2319\n",
            "Epoch 15/20\n",
            "320/320 [==============================] - 2s 6ms/step - loss: 4.4298 - accuracy: 0.2132 - val_loss: 3.7522 - val_accuracy: 0.2309\n",
            "Epoch 16/20\n",
            "320/320 [==============================] - 2s 6ms/step - loss: 3.7656 - accuracy: 0.2249 - val_loss: 3.2222 - val_accuracy: 0.2320\n",
            "Epoch 17/20\n",
            "320/320 [==============================] - 2s 6ms/step - loss: 3.3713 - accuracy: 0.2356 - val_loss: 3.0407 - val_accuracy: 0.2478\n",
            "Epoch 18/20\n",
            "320/320 [==============================] - 2s 6ms/step - loss: 3.1708 - accuracy: 0.2408 - val_loss: 2.8741 - val_accuracy: 0.2540\n",
            "Epoch 19/20\n",
            "320/320 [==============================] - 2s 5ms/step - loss: 3.0774 - accuracy: 0.2428 - val_loss: 2.8613 - val_accuracy: 0.2496\n",
            "Epoch 20/20\n",
            "320/320 [==============================] - 2s 5ms/step - loss: 2.9565 - accuracy: 0.2454 - val_loss: 2.7604 - val_accuracy: 0.2535\n"
          ]
        }
      ]
    },
    {
      "cell_type": "code",
      "source": [
        "plt.style.use('seaborn-dark')\n",
        "\n",
        "epochs = range(1, num_epochs + 1)\n",
        "train_loss = history.history['loss']\n",
        "val_loss = history.history['val_loss']\n",
        "\n",
        "plt.plot(epochs, train_loss, 'b', label='train')\n",
        "plt.plot(epochs, val_loss, 'r', label='val')\n",
        "plt.title('Loss curves')\n",
        "plt.xlabel('Epochs')\n",
        "plt.legend()\n",
        "plt.ylabel('Binary Crossentropy');\n",
        "#loss stays in that steady decrease, so extra layer doesnt change the loss"
      ],
      "metadata": {
        "colab": {
          "base_uri": "https://localhost:8080/",
          "height": 293
        },
        "id": "KXnqEz9eDziv",
        "outputId": "b4511a28-3249-4c15-9e59-8c067fdbd1dc"
      },
      "execution_count": null,
      "outputs": [
        {
          "output_type": "display_data",
          "data": {
            "image/png": "[encoded data removed]",
            "text/plain": [
              "<Figure size 432x288 with 1 Axes>"
            ]
          },
          "metadata": {}
        }
      ]
    },
    {
      "cell_type": "code",
      "source": [
        "plt.style.use('seaborn-dark')\n",
        "\n",
        "epochs = range(1, num_epochs + 1)\n",
        "train_acc = history.history['accuracy']\n",
        "val_acc = history.history['val_accuracy']\n",
        "\n",
        "plt.plot(epochs, train_acc, 'b', label='train')\n",
        "plt.plot(epochs, val_acc, 'r', label='val')\n",
        "plt.title('Accuracy curves')\n",
        "plt.xlabel('Epochs')\n",
        "plt.legend()\n",
        "plt.ylabel('Binary Crossentropy');\n",
        "# the accuracy does go up! so maybe a more complex model is needed here. "
      ],
      "metadata": {
        "colab": {
          "base_uri": "https://localhost:8080/",
          "height": 293
        },
        "id": "9cwVnZYnD0e_",
        "outputId": "3f768138-914c-4054-b3d5-87b578706be3"
      },
      "execution_count": null,
      "outputs": [
        {
          "output_type": "display_data",
          "data": {
            "image/png": "[encoded data removed]",
            "text/plain": [
              "<Figure size 432x288 with 1 Axes>"
            ]
          },
          "metadata": {}
        }
      ]
    },
    {
      "cell_type": "code",
      "source": [
        "adammodel = keras.models.Sequential()\n",
        "adammodel.add(keras.layers.Input(shape=(232,))) \n",
        "adammodel.add(keras.layers.Dense(500, activation='relu', name='hidden'))\n",
        "adammodel.add(keras.layers.Dense(500, activation='relu', name='hidden2'))\n",
        "adammodel.add(keras.layers.Dense(num_classes, activation='softmax', name='banana'))\n",
        "adammodel.summary()"
      ],
      "metadata": {
        "colab": {
          "base_uri": "https://localhost:8080/"
        },
        "id": "8q6JQvm9IDvz",
        "outputId": "f43389e5-fe09-4c2a-dfd5-d43bd828559b"
      },
      "execution_count": null,
      "outputs": [
        {
          "output_type": "stream",
          "name": "stdout",
          "text": [
            "Model: \"sequential_3\"\n",
            "_________________________________________________________________\n",
            " Layer (type)                Output Shape              Param #   \n",
            "=================================================================\n",
            " hidden (Dense)              (None, 500)               116500    \n",
            "                                                                 \n",
            " hidden2 (Dense)             (None, 500)               250500    \n",
            "                                                                 \n",
            " banana (Dense)              (None, 25)                12525     \n",
            "                                                                 \n",
            "=================================================================\n",
            "Total params: 379,525\n",
            "Trainable params: 379,525\n",
            "Non-trainable params: 0\n",
            "_________________________________________________________________\n"
          ]
        }
      ]
    },
    {
      "cell_type": "code",
      "source": [
        "sgd = keras.optimizers.Adam(learning_rate=0.001) \n",
        "adammodel.compile(optimizer=sgd,\n",
        "              loss='categorical_crossentropy',\n",
        "              metrics=['accuracy'])"
      ],
      "metadata": {
        "id": "4zIQTcjwIDx1"
      },
      "execution_count": null,
      "outputs": []
    },
    {
      "cell_type": "code",
      "source": [
        "num_epochs = 20\n",
        "history = adammodel.fit(padded_Xtrain, Y_train, epochs=num_epochs, validation_data=(padded_Xval, Y_val), batch_size=100 )"
      ],
      "metadata": {
        "colab": {
          "base_uri": "https://localhost:8080/"
        },
        "id": "BT_1hunBID1m",
        "outputId": "fb0ea715-1636-485b-cd7e-e5ac2690c900"
      },
      "execution_count": null,
      "outputs": [
        {
          "output_type": "stream",
          "name": "stdout",
          "text": [
            "Epoch 1/20\n",
            "320/320 [==============================] - 5s 12ms/step - loss: 24.3540 - accuracy: 0.1385 - val_loss: 3.1747 - val_accuracy: 0.2193\n",
            "Epoch 2/20\n",
            "320/320 [==============================] - 3s 10ms/step - loss: 2.9823 - accuracy: 0.2219 - val_loss: 2.8439 - val_accuracy: 0.2267\n",
            "Epoch 3/20\n",
            "320/320 [==============================] - 3s 8ms/step - loss: 2.7777 - accuracy: 0.2259 - val_loss: 2.7331 - val_accuracy: 0.2286\n",
            "Epoch 4/20\n",
            "320/320 [==============================] - 3s 9ms/step - loss: 2.6830 - accuracy: 0.2273 - val_loss: 2.6444 - val_accuracy: 0.2288\n",
            "Epoch 5/20\n",
            "320/320 [==============================] - 4s 13ms/step - loss: 2.6281 - accuracy: 0.2272 - val_loss: 2.6070 - val_accuracy: 0.2287\n",
            "Epoch 6/20\n",
            "320/320 [==============================] - 3s 11ms/step - loss: 2.6086 - accuracy: 0.2274 - val_loss: 2.5885 - val_accuracy: 0.2284\n",
            "Epoch 7/20\n",
            "320/320 [==============================] - 3s 9ms/step - loss: 2.5866 - accuracy: 0.2277 - val_loss: 2.5767 - val_accuracy: 0.2290\n",
            "Epoch 8/20\n",
            "320/320 [==============================] - 3s 9ms/step - loss: 2.5784 - accuracy: 0.2276 - val_loss: 2.5843 - val_accuracy: 0.2285\n",
            "Epoch 9/20\n",
            "320/320 [==============================] - 4s 14ms/step - loss: 2.5860 - accuracy: 0.2274 - val_loss: 2.5687 - val_accuracy: 0.2290\n",
            "Epoch 10/20\n",
            "320/320 [==============================] - 3s 9ms/step - loss: 2.5933 - accuracy: 0.2275 - val_loss: 2.5721 - val_accuracy: 0.2288\n",
            "Epoch 11/20\n",
            "320/320 [==============================] - 3s 11ms/step - loss: 2.5745 - accuracy: 0.2272 - val_loss: 2.5666 - val_accuracy: 0.2287\n",
            "Epoch 12/20\n",
            "320/320 [==============================] - 3s 9ms/step - loss: 2.5757 - accuracy: 0.2270 - val_loss: 2.5719 - val_accuracy: 0.2286\n",
            "Epoch 13/20\n",
            "320/320 [==============================] - 3s 10ms/step - loss: 2.5743 - accuracy: 0.2273 - val_loss: 2.5660 - val_accuracy: 0.2287\n",
            "Epoch 14/20\n",
            "320/320 [==============================] - 2s 6ms/step - loss: 2.5719 - accuracy: 0.2273 - val_loss: 2.5655 - val_accuracy: 0.2287\n",
            "Epoch 15/20\n",
            "320/320 [==============================] - 2s 6ms/step - loss: 2.5699 - accuracy: 0.2272 - val_loss: 2.5651 - val_accuracy: 0.2287\n",
            "Epoch 16/20\n",
            "320/320 [==============================] - 2s 6ms/step - loss: 2.5711 - accuracy: 0.2272 - val_loss: 2.5654 - val_accuracy: 0.2284\n",
            "Epoch 17/20\n",
            "320/320 [==============================] - 2s 6ms/step - loss: 2.5719 - accuracy: 0.2272 - val_loss: 2.5651 - val_accuracy: 0.2285\n",
            "Epoch 18/20\n",
            "320/320 [==============================] - 2s 6ms/step - loss: 2.5724 - accuracy: 0.2271 - val_loss: 2.5693 - val_accuracy: 0.2285\n",
            "Epoch 19/20\n",
            "320/320 [==============================] - 2s 6ms/step - loss: 2.5770 - accuracy: 0.2269 - val_loss: 2.5666 - val_accuracy: 0.2284\n",
            "Epoch 20/20\n",
            "320/320 [==============================] - 2s 6ms/step - loss: 2.5706 - accuracy: 0.2270 - val_loss: 2.5654 - val_accuracy: 0.2285\n"
          ]
        }
      ]
    },
    {
      "cell_type": "code",
      "source": [
        "# loss\n",
        "plt.style.use('seaborn-dark')\n",
        "\n",
        "epochs = range(1, num_epochs + 1)\n",
        "train_loss = history.history['loss']\n",
        "val_loss = history.history['val_loss']\n",
        "\n",
        "plt.plot(epochs, train_loss, 'b', label='train')\n",
        "plt.plot(epochs, val_loss, 'r', label='val')\n",
        "plt.title('Loss curves')\n",
        "plt.xlabel('Epochs')\n",
        "plt.legend()\n",
        "plt.ylabel('Binary Crossentropy');"
      ],
      "metadata": {
        "colab": {
          "base_uri": "https://localhost:8080/",
          "height": 293
        },
        "id": "QOq3cZ4gID5m",
        "outputId": "4bac16be-3918-48b6-e4a6-102dd0f521ea"
      },
      "execution_count": null,
      "outputs": [
        {
          "output_type": "display_data",
          "data": {
            "image/png": "[encoded data removed]",
            "text/plain": [
              "<Figure size 432x288 with 1 Axes>"
            ]
          },
          "metadata": {}
        }
      ]
    },
    {
      "cell_type": "code",
      "source": [
        "# accuracy\n",
        "plt.style.use('seaborn-dark')\n",
        "\n",
        "epochs = range(1, num_epochs + 1)\n",
        "train_acc = history.history['accuracy']\n",
        "val_acc = history.history['val_accuracy']\n",
        "\n",
        "plt.plot(epochs, train_acc, 'b', label='train')\n",
        "plt.plot(epochs, val_acc, 'r', label='val')\n",
        "plt.title('Accuracy curves')\n",
        "plt.xlabel('Epochs')\n",
        "plt.legend()\n",
        "plt.ylabel('Binary Crossentropy');\n",
        "# accuracy doesnt increase after a certain point, and that point is lower than the max accuracy with the last model. so maybe more complexity doesnt do it. \n",
        "# lets try the last model, but with more epochs"
      ],
      "metadata": {
        "colab": {
          "base_uri": "https://localhost:8080/",
          "height": 293
        },
        "id": "2FAWTZ1gIcFF",
        "outputId": "67611090-5026-4707-80df-2db3875ec5b7"
      },
      "execution_count": null,
      "outputs": [
        {
          "output_type": "display_data",
          "data": {
            "image/png": "[encoded data removed]",
            "text/plain": [
              "<Figure size 432x288 with 1 Axes>"
            ]
          },
          "metadata": {}
        }
      ]
    },
    {
      "cell_type": "code",
      "source": [
        "adammodel = keras.models.Sequential()\n",
        "adammodel.add(keras.layers.Input(shape=(232,))) \n",
        "adammodel.add(keras.layers.Dense(500, activation='relu', name='hidden'))\n",
        "adammodel.add(keras.layers.Dense(num_classes, activation='softmax', name='banana'))\n",
        "adammodel.summary()"
      ],
      "metadata": {
        "colab": {
          "base_uri": "https://localhost:8080/"
        },
        "id": "d9_mWe_dI8bG",
        "outputId": "bc4bf19d-cf34-4e87-f35e-019fd3c8302d"
      },
      "execution_count": null,
      "outputs": [
        {
          "output_type": "stream",
          "name": "stdout",
          "text": [
            "Model: \"sequential_4\"\n",
            "_________________________________________________________________\n",
            " Layer (type)                Output Shape              Param #   \n",
            "=================================================================\n",
            " hidden (Dense)              (None, 500)               116500    \n",
            "                                                                 \n",
            " banana (Dense)              (None, 25)                12525     \n",
            "                                                                 \n",
            "=================================================================\n",
            "Total params: 129,025\n",
            "Trainable params: 129,025\n",
            "Non-trainable params: 0\n",
            "_________________________________________________________________\n"
          ]
        }
      ]
    },
    {
      "cell_type": "code",
      "source": [
        "sgd = keras.optimizers.Adam(learning_rate=0.001) \n",
        "adammodel.compile(optimizer=sgd,\n",
        "              loss='categorical_crossentropy',\n",
        "              metrics=['accuracy'])"
      ],
      "metadata": {
        "id": "vkibSXoBI8tA"
      },
      "execution_count": null,
      "outputs": []
    },
    {
      "cell_type": "code",
      "source": [
        "num_epochs = 50\n",
        "history = adammodel.fit(padded_Xtrain, Y_train, epochs=num_epochs, validation_data=(padded_Xval, Y_val), batch_size=100 )"
      ],
      "metadata": {
        "colab": {
          "base_uri": "https://localhost:8080/"
        },
        "id": "v_d9g51kI8vj",
        "outputId": "27beee6a-a83f-4b31-f774-46b1e0ab62e2"
      },
      "execution_count": null,
      "outputs": [
        {
          "output_type": "stream",
          "name": "stdout",
          "text": [
            "Epoch 1/50\n",
            "320/320 [==============================] - 5s 11ms/step - loss: 69.1075 - accuracy: 0.1238 - val_loss: 41.6591 - val_accuracy: 0.1546\n",
            "Epoch 2/50\n",
            "320/320 [==============================] - 3s 8ms/step - loss: 37.1688 - accuracy: 0.1437 - val_loss: 28.3331 - val_accuracy: 0.1412\n",
            "Epoch 3/50\n",
            "320/320 [==============================] - 3s 8ms/step - loss: 27.0577 - accuracy: 0.1545 - val_loss: 20.9333 - val_accuracy: 0.1811\n",
            "Epoch 4/50\n",
            "320/320 [==============================] - 3s 9ms/step - loss: 20.8760 - accuracy: 0.1637 - val_loss: 18.0870 - val_accuracy: 0.1768\n",
            "Epoch 5/50\n",
            "320/320 [==============================] - 2s 6ms/step - loss: 17.8799 - accuracy: 0.1683 - val_loss: 14.5881 - val_accuracy: 0.1824\n",
            "Epoch 6/50\n",
            "320/320 [==============================] - 2s 6ms/step - loss: 15.0724 - accuracy: 0.1777 - val_loss: 11.5262 - val_accuracy: 0.1806\n",
            "Epoch 7/50\n",
            "320/320 [==============================] - 3s 8ms/step - loss: 12.7403 - accuracy: 0.1826 - val_loss: 11.5618 - val_accuracy: 0.2099\n",
            "Epoch 8/50\n",
            "320/320 [==============================] - 3s 10ms/step - loss: 11.3785 - accuracy: 0.1863 - val_loss: 9.5225 - val_accuracy: 0.1859\n",
            "Epoch 9/50\n",
            "320/320 [==============================] - 3s 9ms/step - loss: 9.7003 - accuracy: 0.1925 - val_loss: 8.8685 - val_accuracy: 0.1759\n",
            "Epoch 10/50\n",
            "320/320 [==============================] - 3s 10ms/step - loss: 8.5646 - accuracy: 0.1917 - val_loss: 7.0647 - val_accuracy: 0.2040\n",
            "Epoch 11/50\n",
            "320/320 [==============================] - 2s 8ms/step - loss: 7.3464 - accuracy: 0.1953 - val_loss: 6.1484 - val_accuracy: 0.2127\n",
            "Epoch 12/50\n",
            "320/320 [==============================] - 3s 10ms/step - loss: 6.4173 - accuracy: 0.2008 - val_loss: 5.6544 - val_accuracy: 0.2114\n",
            "Epoch 13/50\n",
            "320/320 [==============================] - 3s 8ms/step - loss: 5.6234 - accuracy: 0.2050 - val_loss: 4.6669 - val_accuracy: 0.2294\n",
            "Epoch 14/50\n",
            "320/320 [==============================] - 3s 10ms/step - loss: 4.7752 - accuracy: 0.2106 - val_loss: 4.1122 - val_accuracy: 0.2378\n",
            "Epoch 15/50\n",
            "320/320 [==============================] - 4s 12ms/step - loss: 4.1819 - accuracy: 0.2192 - val_loss: 3.6340 - val_accuracy: 0.2258\n",
            "Epoch 16/50\n",
            "320/320 [==============================] - 2s 6ms/step - loss: 3.6791 - accuracy: 0.2305 - val_loss: 3.1511 - val_accuracy: 0.2417\n",
            "Epoch 17/50\n",
            "320/320 [==============================] - 2s 5ms/step - loss: 3.2675 - accuracy: 0.2365 - val_loss: 2.8773 - val_accuracy: 0.2515\n",
            "Epoch 18/50\n",
            "320/320 [==============================] - 2s 5ms/step - loss: 3.0474 - accuracy: 0.2430 - val_loss: 2.8897 - val_accuracy: 0.2509\n",
            "Epoch 19/50\n",
            "320/320 [==============================] - 2s 5ms/step - loss: 2.9903 - accuracy: 0.2458 - val_loss: 2.9755 - val_accuracy: 0.2494\n",
            "Epoch 20/50\n",
            "320/320 [==============================] - 2s 6ms/step - loss: 3.0313 - accuracy: 0.2434 - val_loss: 2.7731 - val_accuracy: 0.2550\n",
            "Epoch 21/50\n",
            "320/320 [==============================] - 2s 6ms/step - loss: 2.9300 - accuracy: 0.2449 - val_loss: 2.7968 - val_accuracy: 0.2518\n",
            "Epoch 22/50\n",
            "320/320 [==============================] - 2s 5ms/step - loss: 2.8262 - accuracy: 0.2444 - val_loss: 2.7186 - val_accuracy: 0.2554\n",
            "Epoch 23/50\n",
            "320/320 [==============================] - 2s 6ms/step - loss: 2.8634 - accuracy: 0.2461 - val_loss: 2.8049 - val_accuracy: 0.2489\n",
            "Epoch 24/50\n",
            "320/320 [==============================] - 2s 5ms/step - loss: 2.8465 - accuracy: 0.2459 - val_loss: 2.6481 - val_accuracy: 0.2510\n",
            "Epoch 25/50\n",
            "320/320 [==============================] - 2s 6ms/step - loss: 2.7365 - accuracy: 0.2451 - val_loss: 2.6485 - val_accuracy: 0.2526\n",
            "Epoch 26/50\n",
            "320/320 [==============================] - 2s 5ms/step - loss: 2.6857 - accuracy: 0.2470 - val_loss: 2.5735 - val_accuracy: 0.2538\n",
            "Epoch 27/50\n",
            "320/320 [==============================] - 2s 6ms/step - loss: 2.6215 - accuracy: 0.2501 - val_loss: 2.6079 - val_accuracy: 0.2538\n",
            "Epoch 28/50\n",
            "320/320 [==============================] - 2s 5ms/step - loss: 2.6228 - accuracy: 0.2486 - val_loss: 2.5289 - val_accuracy: 0.2535\n",
            "Epoch 29/50\n",
            "320/320 [==============================] - 2s 5ms/step - loss: 2.6384 - accuracy: 0.2487 - val_loss: 2.5619 - val_accuracy: 0.2521\n",
            "Epoch 30/50\n",
            "320/320 [==============================] - 2s 6ms/step - loss: 2.6835 - accuracy: 0.2458 - val_loss: 2.6808 - val_accuracy: 0.2486\n",
            "Epoch 31/50\n",
            "320/320 [==============================] - 2s 5ms/step - loss: 2.7621 - accuracy: 0.2427 - val_loss: 2.7819 - val_accuracy: 0.2470\n",
            "Epoch 32/50\n",
            "320/320 [==============================] - 2s 6ms/step - loss: 2.8286 - accuracy: 0.2418 - val_loss: 2.7085 - val_accuracy: 0.2448\n",
            "Epoch 33/50\n",
            "320/320 [==============================] - 2s 6ms/step - loss: 2.7790 - accuracy: 0.2422 - val_loss: 2.6577 - val_accuracy: 0.2481\n",
            "Epoch 34/50\n",
            "320/320 [==============================] - 2s 5ms/step - loss: 2.6676 - accuracy: 0.2453 - val_loss: 2.5713 - val_accuracy: 0.2488\n",
            "Epoch 35/50\n",
            "320/320 [==============================] - 2s 5ms/step - loss: 2.6107 - accuracy: 0.2470 - val_loss: 2.5908 - val_accuracy: 0.2496\n",
            "Epoch 36/50\n",
            "320/320 [==============================] - 2s 5ms/step - loss: 2.6205 - accuracy: 0.2466 - val_loss: 2.5212 - val_accuracy: 0.2520\n",
            "Epoch 37/50\n",
            "320/320 [==============================] - 2s 5ms/step - loss: 2.5674 - accuracy: 0.2469 - val_loss: 2.4964 - val_accuracy: 0.2512\n",
            "Epoch 38/50\n",
            "320/320 [==============================] - 2s 5ms/step - loss: 2.5401 - accuracy: 0.2484 - val_loss: 2.4967 - val_accuracy: 0.2523\n",
            "Epoch 39/50\n",
            "320/320 [==============================] - 2s 6ms/step - loss: 2.6109 - accuracy: 0.2477 - val_loss: 2.5578 - val_accuracy: 0.2501\n",
            "Epoch 40/50\n",
            "320/320 [==============================] - 2s 5ms/step - loss: 2.5962 - accuracy: 0.2472 - val_loss: 2.5791 - val_accuracy: 0.2506\n",
            "Epoch 41/50\n",
            "320/320 [==============================] - 2s 6ms/step - loss: 2.6108 - accuracy: 0.2459 - val_loss: 2.5210 - val_accuracy: 0.2505\n",
            "Epoch 42/50\n",
            "320/320 [==============================] - 2s 5ms/step - loss: 2.5432 - accuracy: 0.2493 - val_loss: 2.5434 - val_accuracy: 0.2502\n",
            "Epoch 43/50\n",
            "320/320 [==============================] - 3s 8ms/step - loss: 2.5759 - accuracy: 0.2467 - val_loss: 2.5401 - val_accuracy: 0.2505\n",
            "Epoch 44/50\n",
            "320/320 [==============================] - 2s 5ms/step - loss: 2.5418 - accuracy: 0.2473 - val_loss: 2.5658 - val_accuracy: 0.2493\n",
            "Epoch 45/50\n",
            "320/320 [==============================] - 2s 5ms/step - loss: 2.6341 - accuracy: 0.2462 - val_loss: 2.5862 - val_accuracy: 0.2498\n",
            "Epoch 46/50\n",
            "320/320 [==============================] - 2s 5ms/step - loss: 2.6391 - accuracy: 0.2450 - val_loss: 2.5814 - val_accuracy: 0.2498\n",
            "Epoch 47/50\n",
            "320/320 [==============================] - 2s 6ms/step - loss: 2.6474 - accuracy: 0.2442 - val_loss: 2.6569 - val_accuracy: 0.2487\n",
            "Epoch 48/50\n",
            "320/320 [==============================] - 2s 5ms/step - loss: 2.5748 - accuracy: 0.2462 - val_loss: 2.5672 - val_accuracy: 0.2481\n",
            "Epoch 49/50\n",
            "320/320 [==============================] - 2s 6ms/step - loss: 2.5822 - accuracy: 0.2453 - val_loss: 2.5813 - val_accuracy: 0.2497\n",
            "Epoch 50/50\n",
            "320/320 [==============================] - 2s 5ms/step - loss: 2.6293 - accuracy: 0.2458 - val_loss: 2.6059 - val_accuracy: 0.2488\n"
          ]
        }
      ]
    },
    {
      "cell_type": "code",
      "source": [
        "plt.style.use('seaborn-dark')\n",
        "\n",
        "epochs = range(1, num_epochs + 1)\n",
        "train_loss = history.history['loss']\n",
        "val_loss = history.history['val_loss']\n",
        "\n",
        "plt.plot(epochs, train_loss, 'b', label='train')\n",
        "plt.plot(epochs, val_loss, 'r', label='val')\n",
        "plt.title('Loss curves')\n",
        "plt.xlabel('Epochs')\n",
        "plt.legend()\n",
        "plt.ylabel('Binary Crossentropy');\n",
        "# loss isnt getting any lower either, so model isnt learning anything anymore"
      ],
      "metadata": {
        "colab": {
          "base_uri": "https://localhost:8080/",
          "height": 293
        },
        "id": "9nVGVdy3I8zl",
        "outputId": "29921610-c93d-4178-dd29-34aa97b53f84"
      },
      "execution_count": null,
      "outputs": [
        {
          "output_type": "display_data",
          "data": {
            "image/png": "[encoded data removed]",
            "text/plain": [
              "<Figure size 432x288 with 1 Axes>"
            ]
          },
          "metadata": {}
        }
      ]
    },
    {
      "cell_type": "code",
      "source": [
        "plt.style.use('seaborn-dark')\n",
        "\n",
        "epochs = range(1, num_epochs + 1)\n",
        "train_acc = history.history['accuracy']\n",
        "val_acc = history.history['val_accuracy']\n",
        "\n",
        "plt.plot(epochs, train_acc, 'b', label='train')\n",
        "plt.plot(epochs, val_acc, 'r', label='val')\n",
        "plt.title('Accuracy curves')\n",
        "plt.xlabel('Epochs')\n",
        "plt.legend()\n",
        "plt.ylabel('Binary Crossentropy');\n",
        "# accuracy appears to be reaching a plateau"
      ],
      "metadata": {
        "colab": {
          "base_uri": "https://localhost:8080/",
          "height": 293
        },
        "id": "20n-dtAQJhnN",
        "outputId": "bf555151-efa0-49d8-aa88-5ea37b72e3cd"
      },
      "execution_count": null,
      "outputs": [
        {
          "output_type": "display_data",
          "data": {
            "image/png": "[encoded data removed]",
            "text/plain": [
              "<Figure size 432x288 with 1 Axes>"
            ]
          },
          "metadata": {}
        }
      ]
    },
    {
      "cell_type": "code",
      "source": [
        "# i think this is the best we will get from this model. which is quite bad. now lets make a prediction variable\n",
        "Y_pred = adammodel.predict(padded_Xtest, batch_size=100)\n",
        "print(Y_pred.shape)\n"
      ],
      "metadata": {
        "colab": {
          "base_uri": "https://localhost:8080/"
        },
        "id": "5gEFJGf0a7Wu",
        "outputId": "6db79364-b9bf-4702-8991-29348bcf71a2"
      },
      "execution_count": null,
      "outputs": [
        {
          "output_type": "stream",
          "name": "stdout",
          "text": [
            "(15967, 25)\n"
          ]
        }
      ]
    },
    {
      "cell_type": "code",
      "source": [
        "# now we need to convert those binary class sequences back to the actual classes, to eventually print the report\n",
        "# to do this we use np.argmax() which will return the index of the column which has the highest score\n",
        "y_pred = np.argmax(Y_pred, axis=1)\n",
        "y_pred"
      ],
      "metadata": {
        "colab": {
          "base_uri": "https://localhost:8080/"
        },
        "id": "2-yONNwULbJs",
        "outputId": "0d872a31-9403-458f-fae7-550a0d21e083"
      },
      "execution_count": null,
      "outputs": [
        {
          "output_type": "execute_result",
          "data": {
            "text/plain": [
              "array([0, 0, 0, ..., 0, 0, 0])"
            ]
          },
          "metadata": {},
          "execution_count": 50
        }
      ]
    },
    {
      "cell_type": "code",
      "source": [
        "# now we can do the classification report\n",
        "from sklearn.metrics import accuracy_score, f1_score, classification_report, confusion_matrix\n",
        "print(accuracy_score(y_true=y_test, y_pred=y_pred))\n",
        "print(f1_score(y_true=y_test, y_pred=y_pred, average='macro'))\n",
        "print(classification_report(y_true=y_test, y_pred=y_pred))\n",
        "\n",
        "# precision = portion of positive identifications that were actually correct\n",
        "# recall = portion of actual positives that were identified correctly\n",
        "# f1-score = balance between p & r, perfect p & r means f1=1"
      ],
      "metadata": {
        "colab": {
          "base_uri": "https://localhost:8080/"
        },
        "id": "zOz8NoYIboQB",
        "outputId": "87c6b6f8-1af1-44b2-e494-a4635f0d2e0e"
      },
      "execution_count": null,
      "outputs": [
        {
          "output_type": "stream",
          "name": "stdout",
          "text": [
            "0.2455689860336945\n",
            "0.06823296617237902\n",
            "              precision    recall  f1-score   support\n",
            "\n",
            "         0.0       0.23      0.98      0.37      3597\n",
            "         1.0       0.72      0.03      0.05      2131\n",
            "         2.0       0.70      0.02      0.04      1619\n",
            "         3.0       0.55      0.05      0.08      2241\n",
            "         4.0       0.70      0.03      0.05       251\n",
            "         5.0       1.00      0.01      0.02       341\n",
            "         6.0       0.86      0.03      0.05       232\n",
            "         7.0       0.92      0.02      0.05       449\n",
            "         8.0       0.82      0.02      0.03       527\n",
            "         9.0       0.77      0.02      0.04       489\n",
            "        10.0       0.65      0.03      0.05       397\n",
            "        11.0       0.50      0.01      0.03        71\n",
            "        12.0       0.85      0.04      0.07       282\n",
            "        13.0       0.80      0.05      0.09       257\n",
            "        14.0       0.75      0.02      0.03       184\n",
            "        15.0       1.00      0.02      0.03       403\n",
            "        16.0       1.00      0.02      0.04       139\n",
            "        17.0       0.74      0.04      0.08      1239\n",
            "        18.0       0.00      0.00      0.00        73\n",
            "        19.0       0.67      0.02      0.04       499\n",
            "        20.0       0.67      0.04      0.07       160\n",
            "        21.0       1.00      0.05      0.10        80\n",
            "        22.0       0.76      0.10      0.18       131\n",
            "        23.0       0.00      0.00      0.00         8\n",
            "        24.0       0.82      0.05      0.10       167\n",
            "\n",
            "    accuracy                           0.25     15967\n",
            "   macro avg       0.70      0.07      0.07     15967\n",
            "weighted avg       0.61      0.25      0.13     15967\n",
            "\n"
          ]
        },
        {
          "output_type": "stream",
          "name": "stderr",
          "text": [
            "/usr/local/lib/python3.7/dist-packages/sklearn/metrics/_classification.py:1308: UndefinedMetricWarning: Precision and F-score are ill-defined and being set to 0.0 in labels with no predicted samples. Use `zero_division` parameter to control this behavior.\n",
            "  _warn_prf(average, modifier, msg_start, len(result))\n",
            "/usr/local/lib/python3.7/dist-packages/sklearn/metrics/_classification.py:1308: UndefinedMetricWarning: Precision and F-score are ill-defined and being set to 0.0 in labels with no predicted samples. Use `zero_division` parameter to control this behavior.\n",
            "  _warn_prf(average, modifier, msg_start, len(result))\n",
            "/usr/local/lib/python3.7/dist-packages/sklearn/metrics/_classification.py:1308: UndefinedMetricWarning: Precision and F-score are ill-defined and being set to 0.0 in labels with no predicted samples. Use `zero_division` parameter to control this behavior.\n",
            "  _warn_prf(average, modifier, msg_start, len(result))\n"
          ]
        }
      ]
    },
    {
      "cell_type": "code",
      "source": [
        "# precision seems to be either quite high or quite low; very little middle ground. even perfect precision for ID21, 15 and 16! however,\n",
        "# recall for those is pretty low. so these numbers seem to be pretty unbalanced. all recall numbers are <= 0.10, but ID0 is 0.98... \n",
        "# all in all, not that good. f1 score of 0.068 is quite close to 0 too. and accuracy, even though we managed to increase it by about 0.15, is still quite low: 0.25\n",
        "# there is quite an imbalance in our data, so weighted average might be more interesting to look at\n",
        "# it gives a recall average of .25 but we know that most of the numbers are under .10\n",
        "# weighted precision average of .61, which is pretty bad\n",
        "# not the best model!\n"
      ],
      "metadata": {
        "id": "9euRHyu_dfSO"
      },
      "execution_count": null,
      "outputs": []
    }
  ]
}