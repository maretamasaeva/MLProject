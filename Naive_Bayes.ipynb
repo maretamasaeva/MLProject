{
 "cells": [
  {
   "cell_type": "code",
   "execution_count": 1,
   "id": "26602ae0",
   "metadata": {},
   "outputs": [
    {
     "name": "stdout",
     "output_type": "stream",
     "text": [
      "0.24.1\n"
     ]
    }
   ],
   "source": [
    "import pandas as pd\n",
    "import numpy as np\n",
    "import matplotlib.pyplot as plt\n",
    "%matplotlib inline\n",
    "import sklearn \n",
    "print(sklearn.__version__)\n"
   ]
  },
  {
   "cell_type": "code",
   "execution_count": 2,
   "id": "acf6494b",
   "metadata": {},
   "outputs": [],
   "source": [
    "df = pd.read_csv('The-Office-Lines-V4.csv')\n",
    "df= df.drop('Unnamed: 6', 1)"
   ]
  },
  {
   "cell_type": "code",
   "execution_count": 3,
   "id": "7d8f2687",
   "metadata": {},
   "outputs": [],
   "source": [
    "def gender(name):\n",
    "    if name == 'Michael' or name == 'Jim' or name == 'Dwight' or name == 'Ryan' or name == 'Stanley' or name == 'Kevin' or name == 'Oscar' or name == 'Toby' or name == 'Creed' or name == 'Andy' or name == 'Roy' or name == 'Darryl' or name == 'Gabe' or name == 'Robert California' or name == 'Robert' or name == 'Clark' or name == 'Pete':\n",
    "        return 0\n",
    "    elif name == 'Pam' or name == 'Phyllis' or name == 'Angela' or name == 'Kelly' or name == 'Meredith' or name == 'Jan' or name == 'Erin' or name == 'Nellie':\n",
    "        return 1"
   ]
  },
  {
   "cell_type": "code",
   "execution_count": 4,
   "id": "c526c61a",
   "metadata": {},
   "outputs": [],
   "source": [
    "df[\"gender\"] = df[\"speaker\"].map(gender)"
   ]
  },
  {
   "cell_type": "code",
   "execution_count": 5,
   "id": "6e2a82a0",
   "metadata": {},
   "outputs": [],
   "source": [
    "df = df.dropna()"
   ]
  },
  {
   "cell_type": "code",
   "execution_count": 6,
   "id": "bdacf9ce",
   "metadata": {},
   "outputs": [],
   "source": [
    "df['gender'] = df['gender'].astype(int)"
   ]
  },
  {
   "cell_type": "code",
   "execution_count": 7,
   "id": "bc65e65c",
   "metadata": {},
   "outputs": [
    {
     "data": {
      "text/html": [
       "<div>\n",
       "<style scoped>\n",
       "    .dataframe tbody tr th:only-of-type {\n",
       "        vertical-align: middle;\n",
       "    }\n",
       "\n",
       "    .dataframe tbody tr th {\n",
       "        vertical-align: top;\n",
       "    }\n",
       "\n",
       "    .dataframe thead th {\n",
       "        text-align: right;\n",
       "    }\n",
       "</style>\n",
       "<table border=\"1\" class=\"dataframe\">\n",
       "  <thead>\n",
       "    <tr style=\"text-align: right;\">\n",
       "      <th></th>\n",
       "      <th>season</th>\n",
       "      <th>episode</th>\n",
       "      <th>title</th>\n",
       "      <th>scene</th>\n",
       "      <th>speaker</th>\n",
       "      <th>line</th>\n",
       "      <th>gender</th>\n",
       "    </tr>\n",
       "  </thead>\n",
       "  <tbody>\n",
       "    <tr>\n",
       "      <th>35375</th>\n",
       "      <td>7</td>\n",
       "      <td>7</td>\n",
       "      <td>Christening</td>\n",
       "      <td>5368</td>\n",
       "      <td>Pam</td>\n",
       "      <td>Oh, Michael, this is just for family.</td>\n",
       "      <td>1</td>\n",
       "    </tr>\n",
       "    <tr>\n",
       "      <th>3128</th>\n",
       "      <td>2</td>\n",
       "      <td>6</td>\n",
       "      <td>The Fight</td>\n",
       "      <td>499</td>\n",
       "      <td>Michael</td>\n",
       "      <td>I know, but I've been carrying the load on my ...</td>\n",
       "      <td>0</td>\n",
       "    </tr>\n",
       "    <tr>\n",
       "      <th>17222</th>\n",
       "      <td>4</td>\n",
       "      <td>15</td>\n",
       "      <td>Night Out</td>\n",
       "      <td>2888</td>\n",
       "      <td>Ryan</td>\n",
       "      <td>Ah, he basically is man. He's a regular bankin...</td>\n",
       "      <td>0</td>\n",
       "    </tr>\n",
       "    <tr>\n",
       "      <th>33648</th>\n",
       "      <td>7</td>\n",
       "      <td>1</td>\n",
       "      <td>Nepotism</td>\n",
       "      <td>5118</td>\n",
       "      <td>Andy</td>\n",
       "      <td>Am I angry that Gabe stole my girlfriend over ...</td>\n",
       "      <td>0</td>\n",
       "    </tr>\n",
       "    <tr>\n",
       "      <th>9958</th>\n",
       "      <td>3</td>\n",
       "      <td>10</td>\n",
       "      <td>A Benihana Christmas (Parts 1&amp;2)</td>\n",
       "      <td>1677</td>\n",
       "      <td>Dwight</td>\n",
       "      <td>Oh, OK. Cindy! Yo, Cindy! Cindy! Hold its neck...</td>\n",
       "      <td>0</td>\n",
       "    </tr>\n",
       "    <tr>\n",
       "      <th>39808</th>\n",
       "      <td>7</td>\n",
       "      <td>22</td>\n",
       "      <td>Goodbye, Michael</td>\n",
       "      <td>5953</td>\n",
       "      <td>Darryl</td>\n",
       "      <td>Hey.</td>\n",
       "      <td>0</td>\n",
       "    </tr>\n",
       "    <tr>\n",
       "      <th>21192</th>\n",
       "      <td>5</td>\n",
       "      <td>10</td>\n",
       "      <td>The Surplus</td>\n",
       "      <td>3428</td>\n",
       "      <td>Pam</td>\n",
       "      <td>Let me just say, you've been promising me this...</td>\n",
       "      <td>1</td>\n",
       "    </tr>\n",
       "    <tr>\n",
       "      <th>8687</th>\n",
       "      <td>3</td>\n",
       "      <td>6</td>\n",
       "      <td>Diwali</td>\n",
       "      <td>1486</td>\n",
       "      <td>Pam</td>\n",
       "      <td>I kind of thought something would happen tonig...</td>\n",
       "      <td>1</td>\n",
       "    </tr>\n",
       "    <tr>\n",
       "      <th>36865</th>\n",
       "      <td>7</td>\n",
       "      <td>11</td>\n",
       "      <td>Classy Christmas (Parts 1&amp;2)</td>\n",
       "      <td>5562</td>\n",
       "      <td>Jim</td>\n",
       "      <td>I can't reconnect with you right now. Hold on ...</td>\n",
       "      <td>0</td>\n",
       "    </tr>\n",
       "    <tr>\n",
       "      <th>42185</th>\n",
       "      <td>8</td>\n",
       "      <td>5</td>\n",
       "      <td>Spooked</td>\n",
       "      <td>6326</td>\n",
       "      <td>Andy</td>\n",
       "      <td>Ok. Erin I think you know I've been dating som...</td>\n",
       "      <td>0</td>\n",
       "    </tr>\n",
       "  </tbody>\n",
       "</table>\n",
       "</div>"
      ],
      "text/plain": [
       "       season  episode                             title  scene  speaker  \\\n",
       "35375       7        7                       Christening   5368      Pam   \n",
       "3128        2        6                         The Fight    499  Michael   \n",
       "17222       4       15                         Night Out   2888     Ryan   \n",
       "33648       7        1                          Nepotism   5118     Andy   \n",
       "9958        3       10  A Benihana Christmas (Parts 1&2)   1677   Dwight   \n",
       "39808       7       22                  Goodbye, Michael   5953   Darryl   \n",
       "21192       5       10                       The Surplus   3428      Pam   \n",
       "8687        3        6                            Diwali   1486      Pam   \n",
       "36865       7       11      Classy Christmas (Parts 1&2)   5562      Jim   \n",
       "42185       8        5                           Spooked   6326     Andy   \n",
       "\n",
       "                                                    line  gender  \n",
       "35375              Oh, Michael, this is just for family.       1  \n",
       "3128   I know, but I've been carrying the load on my ...       0  \n",
       "17222  Ah, he basically is man. He's a regular bankin...       0  \n",
       "33648  Am I angry that Gabe stole my girlfriend over ...       0  \n",
       "9958   Oh, OK. Cindy! Yo, Cindy! Cindy! Hold its neck...       0  \n",
       "39808                                               Hey.       0  \n",
       "21192  Let me just say, you've been promising me this...       1  \n",
       "8687   I kind of thought something would happen tonig...       1  \n",
       "36865  I can't reconnect with you right now. Hold on ...       0  \n",
       "42185  Ok. Erin I think you know I've been dating som...       0  "
      ]
     },
     "execution_count": 7,
     "metadata": {},
     "output_type": "execute_result"
    }
   ],
   "source": [
    "df.sample(n=10)"
   ]
  },
  {
   "cell_type": "code",
   "execution_count": 8,
   "id": "8848933a",
   "metadata": {},
   "outputs": [],
   "source": [
    "df['number_of_words'] = df['line'].str.split().str.len()"
   ]
  },
  {
   "cell_type": "code",
   "execution_count": 9,
   "id": "1348fcb4",
   "metadata": {},
   "outputs": [],
   "source": [
    "df['speaker_id'] = pd.factorize(df.speaker)[0]"
   ]
  },
  {
   "cell_type": "code",
   "execution_count": 10,
   "id": "05e6adcf",
   "metadata": {},
   "outputs": [
    {
     "data": {
      "text/html": [
       "<div>\n",
       "<style scoped>\n",
       "    .dataframe tbody tr th:only-of-type {\n",
       "        vertical-align: middle;\n",
       "    }\n",
       "\n",
       "    .dataframe tbody tr th {\n",
       "        vertical-align: top;\n",
       "    }\n",
       "\n",
       "    .dataframe thead th {\n",
       "        text-align: right;\n",
       "    }\n",
       "</style>\n",
       "<table border=\"1\" class=\"dataframe\">\n",
       "  <thead>\n",
       "    <tr style=\"text-align: right;\">\n",
       "      <th></th>\n",
       "      <th>season</th>\n",
       "      <th>episode</th>\n",
       "      <th>title</th>\n",
       "      <th>scene</th>\n",
       "      <th>speaker</th>\n",
       "      <th>line</th>\n",
       "      <th>gender</th>\n",
       "      <th>number_of_words</th>\n",
       "      <th>speaker_id</th>\n",
       "    </tr>\n",
       "  </thead>\n",
       "  <tbody>\n",
       "    <tr>\n",
       "      <th>17523</th>\n",
       "      <td>4</td>\n",
       "      <td>16</td>\n",
       "      <td>Did I Stutter?</td>\n",
       "      <td>2922</td>\n",
       "      <td>Michael</td>\n",
       "      <td>Ok... Is there anybody up here, anybody at all...</td>\n",
       "      <td>0</td>\n",
       "      <td>14</td>\n",
       "      <td>0</td>\n",
       "    </tr>\n",
       "  </tbody>\n",
       "</table>\n",
       "</div>"
      ],
      "text/plain": [
       "       season  episode           title  scene  speaker  \\\n",
       "17523       4       16  Did I Stutter?   2922  Michael   \n",
       "\n",
       "                                                    line  gender  \\\n",
       "17523  Ok... Is there anybody up here, anybody at all...       0   \n",
       "\n",
       "       number_of_words  speaker_id  \n",
       "17523               14           0  "
      ]
     },
     "execution_count": 10,
     "metadata": {},
     "output_type": "execute_result"
    }
   ],
   "source": [
    "df.sample()"
   ]
  },
  {
   "cell_type": "code",
   "execution_count": 11,
   "id": "33718b0c",
   "metadata": {},
   "outputs": [],
   "source": [
    "# we want to predict gender/speaker from text. this is text classification\n",
    "# apparently multinomial naive bayes is a good algorithm for this, so we'll use that and see if its any good\n",
    "\n",
    "from sklearn.model_selection import train_test_split\n",
    "from sklearn.pipeline import make_pipeline\n",
    "from sklearn.naive_bayes import MultinomialNB\n",
    "from sklearn.feature_extraction.text import CountVectorizer, TfidfVectorizer\n",
    "from sklearn.feature_extraction.text import TfidfTransformer"
   ]
  },
  {
   "cell_type": "code",
   "execution_count": 12,
   "id": "b9b1cc4a",
   "metadata": {},
   "outputs": [],
   "source": [
    "X = df['line']\n",
    "y = df['gender']"
   ]
  },
  {
   "cell_type": "code",
   "execution_count": 13,
   "id": "1448d10e",
   "metadata": {},
   "outputs": [],
   "source": [
    "X_train, X_test, y_train, y_test = train_test_split(X, y, shuffle=True, random_state=42, test_size=.33)"
   ]
  },
  {
   "cell_type": "code",
   "execution_count": 14,
   "id": "103c0fd1",
   "metadata": {},
   "outputs": [
    {
     "data": {
      "text/plain": [
       "((31934,), (31934,), (15730,), (15730,))"
      ]
     },
     "execution_count": 14,
     "metadata": {},
     "output_type": "execute_result"
    }
   ],
   "source": [
    "X_train.shape, y_train.shape, X_test.shape, y_test.shape"
   ]
  },
  {
   "cell_type": "code",
   "execution_count": 15,
   "id": "837fb774",
   "metadata": {},
   "outputs": [
    {
     "data": {
      "text/plain": [
       "28463                                   Okay.  You owe me.\n",
       "10883                                               Sally.\n",
       "51277                        No. She needs her rest again.\n",
       "4371      What do you do with a drunken sailor? What do...\n",
       "27832                                       And oh, Jim...\n",
       "Name: line, dtype: object"
      ]
     },
     "execution_count": 15,
     "metadata": {},
     "output_type": "execute_result"
    }
   ],
   "source": [
    "X_train.head()"
   ]
  },
  {
   "cell_type": "code",
   "execution_count": 16,
   "id": "7c8708ca",
   "metadata": {},
   "outputs": [],
   "source": [
    "vect = CountVectorizer()\n",
    "tfidf = TfidfTransformer()\n",
    "multinb = MultinomialNB()"
   ]
  },
  {
   "cell_type": "code",
   "execution_count": 17,
   "id": "72bd0a6a",
   "metadata": {},
   "outputs": [],
   "source": [
    "pipe = make_pipeline(vect, tfidf, multinb)"
   ]
  },
  {
   "cell_type": "code",
   "execution_count": 18,
   "id": "68ffe61b",
   "metadata": {},
   "outputs": [
    {
     "data": {
      "text/plain": [
       "(47664,)"
      ]
     },
     "execution_count": 18,
     "metadata": {},
     "output_type": "execute_result"
    }
   ],
   "source": [
    "X.shape"
   ]
  },
  {
   "cell_type": "code",
   "execution_count": 19,
   "id": "b532e9b6",
   "metadata": {},
   "outputs": [
    {
     "data": {
      "text/plain": [
       "(47664,)"
      ]
     },
     "execution_count": 19,
     "metadata": {},
     "output_type": "execute_result"
    }
   ],
   "source": [
    "y.shape"
   ]
  },
  {
   "cell_type": "code",
   "execution_count": 20,
   "id": "eb325f4d",
   "metadata": {},
   "outputs": [
    {
     "data": {
      "text/plain": [
       "Pipeline(steps=[('countvectorizer', CountVectorizer()),\n",
       "                ('tfidftransformer', TfidfTransformer()),\n",
       "                ('multinomialnb', MultinomialNB())])"
      ]
     },
     "execution_count": 20,
     "metadata": {},
     "output_type": "execute_result"
    }
   ],
   "source": [
    "pipe.fit(X_train, y_train)"
   ]
  },
  {
   "cell_type": "code",
   "execution_count": 21,
   "id": "87528787",
   "metadata": {},
   "outputs": [],
   "source": [
    "from sklearn.metrics import classification_report"
   ]
  },
  {
   "cell_type": "code",
   "execution_count": 22,
   "id": "0c7cb694",
   "metadata": {},
   "outputs": [],
   "source": [
    "y_pred = pipe.predict(X_test)"
   ]
  },
  {
   "cell_type": "code",
   "execution_count": 23,
   "id": "7b3a1df7",
   "metadata": {},
   "outputs": [],
   "source": [
    "from sklearn.metrics import accuracy_score"
   ]
  },
  {
   "cell_type": "code",
   "execution_count": 24,
   "id": "cf72f9c6",
   "metadata": {},
   "outputs": [
    {
     "name": "stdout",
     "output_type": "stream",
     "text": [
      "accuracy 0.7542275905912269\n"
     ]
    }
   ],
   "source": [
    "print('accuracy %s' % accuracy_score(y_pred, y_test))"
   ]
  },
  {
   "cell_type": "code",
   "execution_count": 25,
   "id": "775c4885",
   "metadata": {},
   "outputs": [],
   "source": [
    "my_tags = ['male', 'female']"
   ]
  },
  {
   "cell_type": "code",
   "execution_count": 26,
   "id": "fb8814ea",
   "metadata": {},
   "outputs": [
    {
     "name": "stdout",
     "output_type": "stream",
     "text": [
      "              precision    recall  f1-score   support\n",
      "\n",
      "        male       0.76      1.00      0.86     11870\n",
      "      female       0.42      0.00      0.01      3860\n",
      "\n",
      "    accuracy                           0.75     15730\n",
      "   macro avg       0.59      0.50      0.43     15730\n",
      "weighted avg       0.67      0.75      0.65     15730\n",
      "\n"
     ]
    }
   ],
   "source": [
    "print(classification_report(y_test, y_pred,target_names=my_tags))"
   ]
  },
  {
   "cell_type": "code",
   "execution_count": 27,
   "id": "aebda590",
   "metadata": {},
   "outputs": [],
   "source": [
    "# evaluate\n",
    "from sklearn.metrics import r2_score, mean_squared_error"
   ]
  },
  {
   "cell_type": "code",
   "execution_count": 28,
   "id": "66737b9b",
   "metadata": {},
   "outputs": [],
   "source": [
    "y_test_pred = pipe.predict(X_test)"
   ]
  },
  {
   "cell_type": "code",
   "execution_count": 29,
   "id": "25dfaf88",
   "metadata": {},
   "outputs": [
    {
     "data": {
      "text/plain": [
       "-0.3272494336311771"
      ]
     },
     "execution_count": 29,
     "metadata": {},
     "output_type": "execute_result"
    }
   ],
   "source": [
    "r2_score(y_test, y_test_pred)\n",
    "# very bad"
   ]
  },
  {
   "cell_type": "code",
   "execution_count": 30,
   "id": "f44430f0",
   "metadata": {},
   "outputs": [
    {
     "data": {
      "text/plain": [
       "0.24577240940877304"
      ]
     },
     "execution_count": 30,
     "metadata": {},
     "output_type": "execute_result"
    }
   ],
   "source": [
    "mean_squared_error(y_test, y_test_pred)"
   ]
  },
  {
   "cell_type": "code",
   "execution_count": 31,
   "id": "533c8432",
   "metadata": {},
   "outputs": [],
   "source": [
    "# for 76% of male lines, the model will label them as male. this is good! however, only 42% of female lines will be correctly labeled as female. Maybe this is because there are more male speakers?\n",
    "# recall confirms what i thought; model will overfit on male class. \n",
    "# bad model then, but 75% accuracy, maybe because 75% of lines are male. \n",
    "\n",
    "# well, maybe it would be better at predicting speaker? \n",
    "# will be using linear support vector machine for this; as it is apparently one of the best text classification algorithms\n"
   ]
  },
  {
   "cell_type": "code",
   "execution_count": 32,
   "id": "3c9d3c0b",
   "metadata": {},
   "outputs": [],
   "source": [
    "from sklearn.metrics import plot_confusion_matrix"
   ]
  },
  {
   "cell_type": "code",
   "execution_count": 33,
   "id": "5ddeff2e",
   "metadata": {},
   "outputs": [
    {
     "data": {
      "text/plain": [
       "<bound method Pipeline.get_params of Pipeline(steps=[('countvectorizer', CountVectorizer()),\n",
       "                ('tfidftransformer', TfidfTransformer()),\n",
       "                ('multinomialnb', MultinomialNB())])>"
      ]
     },
     "execution_count": 33,
     "metadata": {},
     "output_type": "execute_result"
    }
   ],
   "source": [
    "pipe.get_params"
   ]
  },
  {
   "cell_type": "code",
   "execution_count": 34,
   "id": "607892b0",
   "metadata": {},
   "outputs": [],
   "source": [
    "from sklearn.model_selection import GridSearchCV"
   ]
  },
  {
   "cell_type": "code",
   "execution_count": 35,
   "id": "99b3d18c",
   "metadata": {},
   "outputs": [
    {
     "data": {
      "text/plain": [
       "{'countvectorizer': CountVectorizer(),\n",
       " 'tfidftransformer': TfidfTransformer(),\n",
       " 'multinomialnb': MultinomialNB()}"
      ]
     },
     "execution_count": 35,
     "metadata": {},
     "output_type": "execute_result"
    }
   ],
   "source": [
    "pipe.named_steps"
   ]
  },
  {
   "cell_type": "code",
   "execution_count": 36,
   "id": "c1c47d52",
   "metadata": {},
   "outputs": [
    {
     "data": {
      "text/plain": [
       "{'analyzer': 'word',\n",
       " 'binary': False,\n",
       " 'decode_error': 'strict',\n",
       " 'dtype': numpy.int64,\n",
       " 'encoding': 'utf-8',\n",
       " 'input': 'content',\n",
       " 'lowercase': True,\n",
       " 'max_df': 1.0,\n",
       " 'max_features': None,\n",
       " 'min_df': 1,\n",
       " 'ngram_range': (1, 1),\n",
       " 'preprocessor': None,\n",
       " 'stop_words': None,\n",
       " 'strip_accents': None,\n",
       " 'token_pattern': '(?u)\\\\b\\\\w\\\\w+\\\\b',\n",
       " 'tokenizer': None,\n",
       " 'vocabulary': None}"
      ]
     },
     "execution_count": 36,
     "metadata": {},
     "output_type": "execute_result"
    }
   ],
   "source": [
    "vect.get_params()"
   ]
  },
  {
   "cell_type": "code",
   "execution_count": 37,
   "id": "54133e8f",
   "metadata": {},
   "outputs": [
    {
     "data": {
      "text/plain": [
       "{'norm': 'l2', 'smooth_idf': True, 'sublinear_tf': False, 'use_idf': True}"
      ]
     },
     "execution_count": 37,
     "metadata": {},
     "output_type": "execute_result"
    }
   ],
   "source": [
    "tfidf.get_params()"
   ]
  },
  {
   "cell_type": "code",
   "execution_count": 38,
   "id": "f7382bae",
   "metadata": {},
   "outputs": [
    {
     "data": {
      "text/plain": [
       "{'alpha': 1.0, 'class_prior': None, 'fit_prior': True}"
      ]
     },
     "execution_count": 38,
     "metadata": {},
     "output_type": "execute_result"
    }
   ],
   "source": [
    "multinb.get_params()"
   ]
  },
  {
   "cell_type": "code",
   "execution_count": 39,
   "id": "3d7a202d",
   "metadata": {},
   "outputs": [],
   "source": [
    "params = {'countvectorizer__ngram_range': [(1,1),(1,2),(2,2)], \n",
    "          'tfidftransformer__use_idf': (True, False),\n",
    "          'tfidftransformer__norm': ('l1', 'l2'),\n",
    "          'multinomialnb__alpha': [1, 1e-1, 1e-2]\n",
    "         }"
   ]
  },
  {
   "cell_type": "code",
   "execution_count": 40,
   "id": "209ed7cf",
   "metadata": {},
   "outputs": [],
   "source": [
    "gs = GridSearchCV(pipe, params, cv=5, scoring='accuracy',  n_jobs=-1, refit=True, verbose=1)"
   ]
  },
  {
   "cell_type": "code",
   "execution_count": 41,
   "id": "31827671",
   "metadata": {},
   "outputs": [
    {
     "name": "stdout",
     "output_type": "stream",
     "text": [
      "Fitting 5 folds for each of 36 candidates, totalling 180 fits\n"
     ]
    },
    {
     "data": {
      "text/plain": [
       "GridSearchCV(cv=5,\n",
       "             estimator=Pipeline(steps=[('countvectorizer', CountVectorizer()),\n",
       "                                       ('tfidftransformer', TfidfTransformer()),\n",
       "                                       ('multinomialnb', MultinomialNB())]),\n",
       "             n_jobs=-1,\n",
       "             param_grid={'countvectorizer__ngram_range': [(1, 1), (1, 2),\n",
       "                                                          (2, 2)],\n",
       "                         'multinomialnb__alpha': [1, 0.1, 0.01],\n",
       "                         'tfidftransformer__norm': ('l1', 'l2'),\n",
       "                         'tfidftransformer__use_idf': (True, False)},\n",
       "             scoring='accuracy', verbose=1)"
      ]
     },
     "execution_count": 41,
     "metadata": {},
     "output_type": "execute_result"
    }
   ],
   "source": [
    "gs.fit(X_train, y_train)"
   ]
  },
  {
   "cell_type": "code",
   "execution_count": 42,
   "id": "041f9309",
   "metadata": {},
   "outputs": [
    {
     "data": {
      "text/plain": [
       "Pipeline(steps=[('countvectorizer', CountVectorizer(ngram_range=(2, 2))),\n",
       "                ('tfidftransformer', TfidfTransformer()),\n",
       "                ('multinomialnb', MultinomialNB(alpha=1))])"
      ]
     },
     "execution_count": 42,
     "metadata": {},
     "output_type": "execute_result"
    }
   ],
   "source": [
    "gs.best_estimator_"
   ]
  },
  {
   "cell_type": "code",
   "execution_count": 43,
   "id": "63df0755",
   "metadata": {},
   "outputs": [
    {
     "data": {
      "text/plain": [
       "{'countvectorizer__ngram_range': (2, 2),\n",
       " 'multinomialnb__alpha': 1,\n",
       " 'tfidftransformer__norm': 'l2',\n",
       " 'tfidftransformer__use_idf': True}"
      ]
     },
     "execution_count": 43,
     "metadata": {},
     "output_type": "execute_result"
    }
   ],
   "source": [
    "gs.best_params_"
   ]
  },
  {
   "cell_type": "code",
   "execution_count": 44,
   "id": "1f7dca4e",
   "metadata": {},
   "outputs": [
    {
     "data": {
      "text/plain": [
       "0.758251417068151"
      ]
     },
     "execution_count": 44,
     "metadata": {},
     "output_type": "execute_result"
    }
   ],
   "source": [
    "gs.best_score_"
   ]
  },
  {
   "cell_type": "code",
   "execution_count": 45,
   "id": "1d147718",
   "metadata": {},
   "outputs": [
    {
     "name": "stdout",
     "output_type": "stream",
     "text": [
      "              precision    recall  f1-score   support\n",
      "\n",
      "        male       0.76      1.00      0.86     11870\n",
      "      female       0.42      0.00      0.01      3860\n",
      "\n",
      "    accuracy                           0.75     15730\n",
      "   macro avg       0.59      0.50      0.43     15730\n",
      "weighted avg       0.67      0.75      0.65     15730\n",
      "\n"
     ]
    }
   ],
   "source": [
    "print(classification_report(y_test, y_pred,target_names=my_tags))"
   ]
  },
  {
   "cell_type": "code",
   "execution_count": 46,
   "id": "a8add8da",
   "metadata": {},
   "outputs": [],
   "source": [
    "gs_y_test_pred = gs.predict(X_test) "
   ]
  },
  {
   "cell_type": "code",
   "execution_count": 47,
   "id": "4c6e74db",
   "metadata": {},
   "outputs": [
    {
     "name": "stdout",
     "output_type": "stream",
     "text": [
      "              precision    recall  f1-score   support\n",
      "\n",
      "        male       0.76      1.00      0.86     11870\n",
      "      female       0.71      0.00      0.01      3860\n",
      "\n",
      "    accuracy                           0.75     15730\n",
      "   macro avg       0.73      0.50      0.43     15730\n",
      "weighted avg       0.75      0.75      0.65     15730\n",
      "\n"
     ]
    }
   ],
   "source": [
    "print(classification_report(y_test, gs_y_test_pred, target_names=my_tags))"
   ]
  },
  {
   "cell_type": "code",
   "execution_count": 49,
   "id": "c21841f5",
   "metadata": {},
   "outputs": [
    {
     "name": "stdout",
     "output_type": "stream",
     "text": [
      "[[11866     4]\n",
      " [ 3850    10]]\n"
     ]
    }
   ],
   "source": [
    "from sklearn.metrics import confusion_matrix\n",
    "print(confusion_matrix(y_test, gs_y_test_pred))"
   ]
  }
 ],
 "metadata": {
  "kernelspec": {
   "display_name": "Python 3",
   "language": "python",
   "name": "python3"
  },
  "language_info": {
   "codemirror_mode": {
    "name": "ipython",
    "version": 3
   },
   "file_extension": ".py",
   "mimetype": "text/x-python",
   "name": "python",
   "nbconvert_exporter": "python",
   "pygments_lexer": "ipython3",
   "version": "3.8.8"
  }
 },
 "nbformat": 4,
 "nbformat_minor": 5
}
