{
  "nbformat": 4,
  "nbformat_minor": 0,
  "metadata": {
    "colab": {
      "name": "LSTM line speaker.ipynb",
      "provenance": []
    },
    "kernelspec": {
      "name": "python3",
      "display_name": "Python 3"
    },
    "language_info": {
      "name": "python"
    },
    "accelerator": "GPU"
  },
  "cells": [
    {
      "cell_type": "code",
      "execution_count": null,
      "metadata": {
        "id": "O-Rb4DXeVWoH"
      },
      "outputs": [],
      "source": [
        "# lets try a long short term memory neural network. \n",
        "# why this and not a simple RNN? because our data is sequential and the data has a temporal relationship\n",
        "# meaning, each sequence (line) has a relationship with the sequence before and after\n",
        "# they arent just loose datapoints, they are very much related\n",
        "# also, simple RNN cant handle long sequences, and we know from the last models that the longest sentence is more than 200 words\n",
        "# LSTM can handle this, i believe"
      ]
    },
    {
      "cell_type": "code",
      "source": [
        "import tensorflow as tf\n",
        "import tensorflow.keras as keras\n",
        "import matplotlib.pyplot as plt\n",
        "import numpy as np\n",
        "import seaborn as sns\n",
        "import pandas as pd\n",
        "\n",
        "# to get reproducible results:\n",
        "np.random.seed(1234)\n",
        "tf.random.set_seed(1234)"
      ],
      "metadata": {
        "id": "q1pG8GI-WLz-"
      },
      "execution_count": null,
      "outputs": []
    },
    {
      "cell_type": "code",
      "source": [
        "from google.colab import files\n",
        "uploaded = files.upload()"
      ],
      "metadata": {
        "colab": {
          "resources": {
            "http://localhost:8080/nbextensions/google.colab/files.js": {
              "data": "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",
              "ok": true,
              "headers": [
                [
                  "content-type",
                  "application/javascript"
                ]
              ],
              "status": 200,
              "status_text": ""
            }
          },
          "base_uri": "https://localhost:8080/",
          "height": 91
        },
        "id": "8b667-9BWL2O",
        "outputId": "065d5cda-3c84-450e-c17e-f4d2c759c84d"
      },
      "execution_count": null,
      "outputs": [
        {
          "output_type": "display_data",
          "data": {
            "text/html": [
              "\n",
              "     <input type=\"file\" id=\"files-1be77d7b-8401-4ece-ad4f-f0cccea7527e\" name=\"files[]\" multiple disabled\n",
              "        style=\"border:none\" />\n",
              "     <output id=\"result-1be77d7b-8401-4ece-ad4f-f0cccea7527e\">\n",
              "      Upload widget is only available when the cell has been executed in the\n",
              "      current browser session. Please rerun this cell to enable.\n",
              "      </output>\n",
              "      <script src=\"/nbextensions/google.colab/files.js\"></script> "
            ],
            "text/plain": [
              "<IPython.core.display.HTML object>"
            ]
          },
          "metadata": {}
        },
        {
          "output_type": "stream",
          "name": "stdout",
          "text": [
            "Saving The-Office-Lines-V4.csv to The-Office-Lines-V4.csv\n"
          ]
        }
      ]
    },
    {
      "cell_type": "code",
      "source": [
        "import io\n",
        "df = pd.read_csv(io.BytesIO(uploaded['The-Office-Lines-V4.csv']))"
      ],
      "metadata": {
        "id": "4FN3inXwWL4G"
      },
      "execution_count": null,
      "outputs": []
    },
    {
      "cell_type": "code",
      "source": [
        "df = pd.read_csv('The-Office-Lines-V4.csv')"
      ],
      "metadata": {
        "id": "C0urctHAWL6U"
      },
      "execution_count": null,
      "outputs": []
    },
    {
      "cell_type": "code",
      "source": [
        "df= df.drop('Unnamed: 6', 1)\n",
        "\n",
        "def gender(name):\n",
        "    if name == 'Michael' or name == 'Jim' or name == 'Dwight' or name == 'Ryan' or name == 'Stanley' or name == 'Kevin' or name == 'Oscar' or name == 'Toby' or name == 'Creed' or name == 'Andy' or name == 'Roy' or name == 'Darryl' or name == 'Gabe' or name == 'Robert California' or name == 'Robert' or name == 'Clark' or name == 'Pete':\n",
        "        return 0\n",
        "    elif name == 'Pam' or name == 'Phyllis' or name == 'Angela' or name == 'Kelly' or name == 'Meredith' or name == 'Jan' or name == 'Erin' or name == 'Nellie':\n",
        "        return 1\n",
        "    \n",
        "df[\"gender\"] = df[\"speaker\"].map(gender)\n",
        "\n",
        "df = df.dropna()\n",
        "\n",
        "df['gender'] = df['gender'].astype(int)\n",
        "\n",
        "df['number_of_words'] = df['line'].str.split().str.len()\n",
        "\n",
        "df['speaker_id'] = pd.factorize(df.speaker)[0]"
      ],
      "metadata": {
        "id": "95l0zVBWWL8f"
      },
      "execution_count": null,
      "outputs": []
    },
    {
      "cell_type": "code",
      "source": [
        "df"
      ],
      "metadata": {
        "colab": {
          "base_uri": "https://localhost:8080/",
          "height": 1000
        },
        "id": "EVgsNa0kWL-W",
        "outputId": "caed84a7-decd-4032-dd23-876538bc3e80"
      },
      "execution_count": null,
      "outputs": [
        {
          "output_type": "execute_result",
          "data": {
            "text/html": [
              "\n",
              "  <div id=\"df-41ec1295-cdfb-461c-bb64-2aaaa2f17787\">\n",
              "    <div class=\"colab-df-container\">\n",
              "      <div>\n",
              "<style scoped>\n",
              "    .dataframe tbody tr th:only-of-type {\n",
              "        vertical-align: middle;\n",
              "    }\n",
              "\n",
              "    .dataframe tbody tr th {\n",
              "        vertical-align: top;\n",
              "    }\n",
              "\n",
              "    .dataframe thead th {\n",
              "        text-align: right;\n",
              "    }\n",
              "</style>\n",
              "<table border=\"1\" class=\"dataframe\">\n",
              "  <thead>\n",
              "    <tr style=\"text-align: right;\">\n",
              "      <th></th>\n",
              "      <th>season</th>\n",
              "      <th>episode</th>\n",
              "      <th>title</th>\n",
              "      <th>scene</th>\n",
              "      <th>speaker</th>\n",
              "      <th>line</th>\n",
              "      <th>gender</th>\n",
              "      <th>number_of_words</th>\n",
              "      <th>speaker_id</th>\n",
              "    </tr>\n",
              "  </thead>\n",
              "  <tbody>\n",
              "    <tr>\n",
              "      <th>0</th>\n",
              "      <td>1</td>\n",
              "      <td>1</td>\n",
              "      <td>Pilot</td>\n",
              "      <td>1</td>\n",
              "      <td>Michael</td>\n",
              "      <td>All right Jim. Your quarterlies look very good...</td>\n",
              "      <td>0</td>\n",
              "      <td>14</td>\n",
              "      <td>0</td>\n",
              "    </tr>\n",
              "    <tr>\n",
              "      <th>1</th>\n",
              "      <td>1</td>\n",
              "      <td>1</td>\n",
              "      <td>Pilot</td>\n",
              "      <td>1</td>\n",
              "      <td>Jim</td>\n",
              "      <td>Oh, I told you. I couldn't close it. So...</td>\n",
              "      <td>0</td>\n",
              "      <td>9</td>\n",
              "      <td>1</td>\n",
              "    </tr>\n",
              "    <tr>\n",
              "      <th>2</th>\n",
              "      <td>1</td>\n",
              "      <td>1</td>\n",
              "      <td>Pilot</td>\n",
              "      <td>1</td>\n",
              "      <td>Michael</td>\n",
              "      <td>So you've come to the master for guidance? Is ...</td>\n",
              "      <td>0</td>\n",
              "      <td>14</td>\n",
              "      <td>0</td>\n",
              "    </tr>\n",
              "    <tr>\n",
              "      <th>3</th>\n",
              "      <td>1</td>\n",
              "      <td>1</td>\n",
              "      <td>Pilot</td>\n",
              "      <td>1</td>\n",
              "      <td>Jim</td>\n",
              "      <td>Actually, you called me in here, but yeah.</td>\n",
              "      <td>0</td>\n",
              "      <td>8</td>\n",
              "      <td>1</td>\n",
              "    </tr>\n",
              "    <tr>\n",
              "      <th>4</th>\n",
              "      <td>1</td>\n",
              "      <td>1</td>\n",
              "      <td>Pilot</td>\n",
              "      <td>1</td>\n",
              "      <td>Michael</td>\n",
              "      <td>All right. Well, let me show you how it's done.</td>\n",
              "      <td>0</td>\n",
              "      <td>10</td>\n",
              "      <td>0</td>\n",
              "    </tr>\n",
              "    <tr>\n",
              "      <th>...</th>\n",
              "      <td>...</td>\n",
              "      <td>...</td>\n",
              "      <td>...</td>\n",
              "      <td>...</td>\n",
              "      <td>...</td>\n",
              "      <td>...</td>\n",
              "      <td>...</td>\n",
              "      <td>...</td>\n",
              "      <td>...</td>\n",
              "    </tr>\n",
              "    <tr>\n",
              "      <th>54621</th>\n",
              "      <td>9</td>\n",
              "      <td>24</td>\n",
              "      <td>Finale</td>\n",
              "      <td>8153</td>\n",
              "      <td>Creed</td>\n",
              "      <td>It all seems so very arbitrary. I applied for ...</td>\n",
              "      <td>0</td>\n",
              "      <td>55</td>\n",
              "      <td>16</td>\n",
              "    </tr>\n",
              "    <tr>\n",
              "      <th>54622</th>\n",
              "      <td>9</td>\n",
              "      <td>24</td>\n",
              "      <td>Finale</td>\n",
              "      <td>8154</td>\n",
              "      <td>Meredith</td>\n",
              "      <td>I just feel lucky that I got a chance to share...</td>\n",
              "      <td>1</td>\n",
              "      <td>41</td>\n",
              "      <td>14</td>\n",
              "    </tr>\n",
              "    <tr>\n",
              "      <th>54623</th>\n",
              "      <td>9</td>\n",
              "      <td>24</td>\n",
              "      <td>Finale</td>\n",
              "      <td>8155</td>\n",
              "      <td>Phyllis</td>\n",
              "      <td>I'm happy that this was all filmed so I can re...</td>\n",
              "      <td>1</td>\n",
              "      <td>31</td>\n",
              "      <td>5</td>\n",
              "    </tr>\n",
              "    <tr>\n",
              "      <th>54624</th>\n",
              "      <td>9</td>\n",
              "      <td>24</td>\n",
              "      <td>Finale</td>\n",
              "      <td>8156</td>\n",
              "      <td>Jim</td>\n",
              "      <td>I sold paper at this company for 12 years. My ...</td>\n",
              "      <td>0</td>\n",
              "      <td>46</td>\n",
              "      <td>1</td>\n",
              "    </tr>\n",
              "    <tr>\n",
              "      <th>54625</th>\n",
              "      <td>9</td>\n",
              "      <td>24</td>\n",
              "      <td>Finale</td>\n",
              "      <td>8157</td>\n",
              "      <td>Pam</td>\n",
              "      <td>I thought it was weird when you picked us to m...</td>\n",
              "      <td>1</td>\n",
              "      <td>46</td>\n",
              "      <td>2</td>\n",
              "    </tr>\n",
              "  </tbody>\n",
              "</table>\n",
              "<p>47664 rows × 9 columns</p>\n",
              "</div>\n",
              "      <button class=\"colab-df-convert\" onclick=\"convertToInteractive('df-41ec1295-cdfb-461c-bb64-2aaaa2f17787')\"\n",
              "              title=\"Convert this dataframe to an interactive table.\"\n",
              "              style=\"display:none;\">\n",
              "        \n",
              "  <svg xmlns=\"http://www.w3.org/2000/svg\" height=\"24px\"viewBox=\"0 0 24 24\"\n",
              "       width=\"24px\">\n",
              "    <path d=\"M0 0h24v24H0V0z\" fill=\"none\"/>\n",
              "    <path d=\"M18.56 5.44l.94 2.06.94-2.06 2.06-.94-2.06-.94-.94-2.06-.94 2.06-2.06.94zm-11 1L8.5 8.5l.94-2.06 2.06-.94-2.06-.94L8.5 2.5l-.94 2.06-2.06.94zm10 10l.94 2.06.94-2.06 2.06-.94-2.06-.94-.94-2.06-.94 2.06-2.06.94z\"/><path d=\"M17.41 7.96l-1.37-1.37c-.4-.4-.92-.59-1.43-.59-.52 0-1.04.2-1.43.59L10.3 9.45l-7.72 7.72c-.78.78-.78 2.05 0 2.83L4 21.41c.39.39.9.59 1.41.59.51 0 1.02-.2 1.41-.59l7.78-7.78 2.81-2.81c.8-.78.8-2.07 0-2.86zM5.41 20L4 18.59l7.72-7.72 1.47 1.35L5.41 20z\"/>\n",
              "  </svg>\n",
              "      </button>\n",
              "      \n",
              "  <style>\n",
              "    .colab-df-container {\n",
              "      display:flex;\n",
              "      flex-wrap:wrap;\n",
              "      gap: 12px;\n",
              "    }\n",
              "\n",
              "    .colab-df-convert {\n",
              "      background-color: #E8F0FE;\n",
              "      border: none;\n",
              "      border-radius: 50%;\n",
              "      cursor: pointer;\n",
              "      display: none;\n",
              "      fill: #1967D2;\n",
              "      height: 32px;\n",
              "      padding: 0 0 0 0;\n",
              "      width: 32px;\n",
              "    }\n",
              "\n",
              "    .colab-df-convert:hover {\n",
              "      background-color: #E2EBFA;\n",
              "      box-shadow: 0px 1px 2px rgba(60, 64, 67, 0.3), 0px 1px 3px 1px rgba(60, 64, 67, 0.15);\n",
              "      fill: #174EA6;\n",
              "    }\n",
              "\n",
              "    [theme=dark] .colab-df-convert {\n",
              "      background-color: #3B4455;\n",
              "      fill: #D2E3FC;\n",
              "    }\n",
              "\n",
              "    [theme=dark] .colab-df-convert:hover {\n",
              "      background-color: #434B5C;\n",
              "      box-shadow: 0px 1px 3px 1px rgba(0, 0, 0, 0.15);\n",
              "      filter: drop-shadow(0px 1px 2px rgba(0, 0, 0, 0.3));\n",
              "      fill: #FFFFFF;\n",
              "    }\n",
              "  </style>\n",
              "\n",
              "      <script>\n",
              "        const buttonEl =\n",
              "          document.querySelector('#df-41ec1295-cdfb-461c-bb64-2aaaa2f17787 button.colab-df-convert');\n",
              "        buttonEl.style.display =\n",
              "          google.colab.kernel.accessAllowed ? 'block' : 'none';\n",
              "\n",
              "        async function convertToInteractive(key) {\n",
              "          const element = document.querySelector('#df-41ec1295-cdfb-461c-bb64-2aaaa2f17787');\n",
              "          const dataTable =\n",
              "            await google.colab.kernel.invokeFunction('convertToInteractive',\n",
              "                                                     [key], {});\n",
              "          if (!dataTable) return;\n",
              "\n",
              "          const docLinkHtml = 'Like what you see? Visit the ' +\n",
              "            '<a target=\"_blank\" href=https://colab.research.google.com/notebooks/data_table.ipynb>data table notebook</a>'\n",
              "            + ' to learn more about interactive tables.';\n",
              "          element.innerHTML = '';\n",
              "          dataTable['output_type'] = 'display_data';\n",
              "          await google.colab.output.renderOutput(dataTable, element);\n",
              "          const docLink = document.createElement('div');\n",
              "          docLink.innerHTML = docLinkHtml;\n",
              "          element.appendChild(docLink);\n",
              "        }\n",
              "      </script>\n",
              "    </div>\n",
              "  </div>\n",
              "  "
            ],
            "text/plain": [
              "       season  episode   title  ...  gender number_of_words speaker_id\n",
              "0           1        1   Pilot  ...       0              14          0\n",
              "1           1        1   Pilot  ...       0               9          1\n",
              "2           1        1   Pilot  ...       0              14          0\n",
              "3           1        1   Pilot  ...       0               8          1\n",
              "4           1        1   Pilot  ...       0              10          0\n",
              "...       ...      ...     ...  ...     ...             ...        ...\n",
              "54621       9       24  Finale  ...       0              55         16\n",
              "54622       9       24  Finale  ...       1              41         14\n",
              "54623       9       24  Finale  ...       1              31          5\n",
              "54624       9       24  Finale  ...       0              46          1\n",
              "54625       9       24  Finale  ...       1              46          2\n",
              "\n",
              "[47664 rows x 9 columns]"
            ]
          },
          "metadata": {},
          "execution_count": 7
        }
      ]
    },
    {
      "cell_type": "code",
      "source": [
        "from sklearn.model_selection import train_test_split"
      ],
      "metadata": {
        "id": "BxW56qteWMA7"
      },
      "execution_count": null,
      "outputs": []
    },
    {
      "cell_type": "code",
      "source": [
        "X = df['line']\n",
        "y = df['speaker_id']\n",
        "num_classes = len(pd.unique(df['speaker_id']))\n",
        "\n",
        "X_train, X_test, y_train, y_test = train_test_split(X, y, shuffle=True, random_state=42, test_size=.33)"
      ],
      "metadata": {
        "id": "_D--u1N7WMDC"
      },
      "execution_count": null,
      "outputs": []
    },
    {
      "cell_type": "code",
      "source": [
        "X_test, X_val, y_test, y_val = train_test_split(X_train, y_train, test_size=0.5, random_state=42)"
      ],
      "metadata": {
        "id": "84FyuBaBWMGC"
      },
      "execution_count": null,
      "outputs": []
    },
    {
      "cell_type": "code",
      "source": [
        "print(len(X_train))\n",
        "print(len(X_test))\n",
        "\n",
        "print(len(X_val))\n",
        "print(len(y_val))\n",
        "\n",
        "print(len(y_train))\n",
        "print(len(y_test))\n"
      ],
      "metadata": {
        "colab": {
          "base_uri": "https://localhost:8080/"
        },
        "id": "N40C7c_RWnCt",
        "outputId": "bf7d4a64-a9ff-4740-b413-bf64fd294219"
      },
      "execution_count": null,
      "outputs": [
        {
          "output_type": "stream",
          "name": "stdout",
          "text": [
            "31934\n",
            "15967\n",
            "15967\n",
            "15967\n",
            "31934\n",
            "15967\n"
          ]
        }
      ]
    },
    {
      "cell_type": "code",
      "source": [
        "# padding: not all lines are the same length, but they have to be the same length for NN; padding will fix this\n",
        "# do this for train, test and val sets\n",
        "from tensorflow.keras.preprocessing.text import Tokenizer\n",
        "from tensorflow.keras.preprocessing.sequence import pad_sequences\n",
        "\n",
        "lines_Xtrain = list(X_train)\n",
        "lines_Xval = list(X_val)\n",
        "lines_Xtest = list(X_test)\n",
        "\n",
        "# there will be a max length of line (maxlen), which should be the length of the longest sentence. this number should be the same in all sets\n",
        "longest_line_Xtrain = (max(lines_Xtrain, key=len))\n",
        "maxlen_Xtrain = len(longest_line_Xtrain.split())\n",
        "\n",
        "# longest_line_Xval = (max(lines_Xval, key=len))\n",
        "maxlen_Xval = maxlen_Xtrain\n",
        "# len(longest_line_Xval.split())\n",
        "\n",
        "# longest_line_Xtest = (max(lines_Xtest, key=len))\n",
        "maxlen_Xtest = maxlen_Xtrain\n",
        "# len(longest_line_Xtest.split())\n",
        "\n",
        "# only 1000 most frequent words & oov_token so any unknown word in test set wont just be thrown away, but will be replaced by token we choose\n",
        "tokenizer = Tokenizer(num_words = 10000, oov_token=\"<OOV>\")\n",
        "tokenizer.fit_on_texts(lines_Xtrain)\n",
        "word_index = tokenizer.word_index\n",
        "\n",
        "sequences_Xtrain = tokenizer.texts_to_sequences(lines_Xtrain)\n",
        "sequences_Xval = tokenizer.texts_to_sequences(lines_Xval)\n",
        "sequences_Xtest = tokenizer.texts_to_sequences(lines_Xtest)\n",
        "\n",
        "\n",
        "# default padding is pre, so zeros will occur before ints\n",
        "padded_Xtrain = pad_sequences(sequences_Xtrain, maxlen = maxlen_Xtrain)\n",
        "padded_Xval = pad_sequences(sequences_Xval, maxlen = maxlen_Xval)\n",
        "padded_Xtest = pad_sequences(sequences_Xtest, maxlen = maxlen_Xtest)\n",
        "\n",
        "print(\"\\n Padded sequences train: \\n\", padded_Xtrain)\n",
        "print(\"\\n Padded sequences val: \\n\", padded_Xval)\n",
        "print(\"\\n Padded sequences test: \\n\", padded_Xtest)\n",
        "\n",
        "# now each row in the matrix is a line with the same length, and oov_token specifiec out-of-vocabulary tokens that arent recognized\n",
        "# also, only 10 000 most frequent words are included\n"
      ],
      "metadata": {
        "colab": {
          "base_uri": "https://localhost:8080/"
        },
        "id": "cJPhcJkaWveM",
        "outputId": "5157f109-43df-42de-f8d7-1e5e063fc98d"
      },
      "execution_count": null,
      "outputs": [
        {
          "output_type": "stream",
          "name": "stdout",
          "text": [
            "\n",
            " Padded sequences train: \n",
            " [[   0    0    0 ...    3  986   17]\n",
            " [   0    0    0 ...    0    0 8198]\n",
            " [   0    0    0 ...   78  668  213]\n",
            " ...\n",
            " [   0    0    0 ...   38   12  594]\n",
            " [   0    0    0 ...   19  145 4544]\n",
            " [   0    0    0 ...   35   34 1509]]\n",
            "\n",
            " Padded sequences val: \n",
            " [[   0    0    0 ...   25   14   68]\n",
            " [   0    0    0 ...   27   23  591]\n",
            " [   0    0    0 ...   46    7 1343]\n",
            " ...\n",
            " [   0    0    0 ...  651  704  690]\n",
            " [   0    0    0 ...    2   76  232]\n",
            " [   0    0    0 ...    9   56   15]]\n",
            "\n",
            " Padded sequences test: \n",
            " [[   0    0    0 ...  584    3   68]\n",
            " [   0    0    0 ...    0    0 3819]\n",
            " [   0    0    0 ...  289  180  455]\n",
            " ...\n",
            " [   0    0    0 ...    0    0 4679]\n",
            " [   0    0    0 ...    0    0   45]\n",
            " [   0    0    0 ...    0  391 5887]]\n"
          ]
        }
      ]
    },
    {
      "cell_type": "code",
      "source": [
        "# data should be float32, not int. goes for output too\n",
        "# also everything should be a numpy array\n",
        "y_train = np.asarray(y_train).astype('float32')\n",
        "y_val = np.asarray(y_val).astype('float32')\n",
        "y_test = np.asarray(y_test).astype('float32') \n",
        "print(y_train.shape)\n",
        "print(y_val.shape)\n",
        "print(y_test.shape)"
      ],
      "metadata": {
        "colab": {
          "base_uri": "https://localhost:8080/"
        },
        "id": "top-ZSKBW0ml",
        "outputId": "e3432ff5-9bda-4b1a-fbf6-a0ce15481dda"
      },
      "execution_count": null,
      "outputs": [
        {
          "output_type": "stream",
          "name": "stdout",
          "text": [
            "(31934,)\n",
            "(15967,)\n",
            "(15967,)\n"
          ]
        }
      ]
    },
    {
      "cell_type": "code",
      "source": [
        "from tensorflow.keras.utils import to_categorical \n",
        "Y_train = to_categorical(y_train, num_classes=num_classes)\n",
        "Y_val = to_categorical(y_val, num_classes=num_classes)\n",
        "Y_test = to_categorical(y_test, num_classes=num_classes)\n",
        "\n",
        "print(y_train.shape)\n",
        "print(Y_train.shape)\n",
        "\n",
        "print(y_train[:10])\n",
        "print(Y_train[:10, :])"
      ],
      "metadata": {
        "colab": {
          "base_uri": "https://localhost:8080/"
        },
        "id": "VXkXBSXdZ3cY",
        "outputId": "df2bf66b-f976-4fcc-946a-a589e708e065"
      },
      "execution_count": null,
      "outputs": [
        {
          "output_type": "stream",
          "name": "stdout",
          "text": [
            "(31934,)\n",
            "(31934, 25)\n",
            "[ 3.  1.  3.  3.  0.  9.  0. 17.  0.  1.]\n",
            "[[0. 0. 0. 1. 0. 0. 0. 0. 0. 0. 0. 0. 0. 0. 0. 0. 0. 0. 0. 0. 0. 0. 0. 0.\n",
            "  0.]\n",
            " [0. 1. 0. 0. 0. 0. 0. 0. 0. 0. 0. 0. 0. 0. 0. 0. 0. 0. 0. 0. 0. 0. 0. 0.\n",
            "  0.]\n",
            " [0. 0. 0. 1. 0. 0. 0. 0. 0. 0. 0. 0. 0. 0. 0. 0. 0. 0. 0. 0. 0. 0. 0. 0.\n",
            "  0.]\n",
            " [0. 0. 0. 1. 0. 0. 0. 0. 0. 0. 0. 0. 0. 0. 0. 0. 0. 0. 0. 0. 0. 0. 0. 0.\n",
            "  0.]\n",
            " [1. 0. 0. 0. 0. 0. 0. 0. 0. 0. 0. 0. 0. 0. 0. 0. 0. 0. 0. 0. 0. 0. 0. 0.\n",
            "  0.]\n",
            " [0. 0. 0. 0. 0. 0. 0. 0. 0. 1. 0. 0. 0. 0. 0. 0. 0. 0. 0. 0. 0. 0. 0. 0.\n",
            "  0.]\n",
            " [1. 0. 0. 0. 0. 0. 0. 0. 0. 0. 0. 0. 0. 0. 0. 0. 0. 0. 0. 0. 0. 0. 0. 0.\n",
            "  0.]\n",
            " [0. 0. 0. 0. 0. 0. 0. 0. 0. 0. 0. 0. 0. 0. 0. 0. 0. 1. 0. 0. 0. 0. 0. 0.\n",
            "  0.]\n",
            " [1. 0. 0. 0. 0. 0. 0. 0. 0. 0. 0. 0. 0. 0. 0. 0. 0. 0. 0. 0. 0. 0. 0. 0.\n",
            "  0.]\n",
            " [0. 1. 0. 0. 0. 0. 0. 0. 0. 0. 0. 0. 0. 0. 0. 0. 0. 0. 0. 0. 0. 0. 0. 0.\n",
            "  0.]]\n"
          ]
        }
      ]
    },
    {
      "cell_type": "code",
      "source": [
        "# now create LSTM model\n",
        "from keras.layers import LSTM\n",
        "model = keras.models.Sequential()\n",
        "model.add(keras.layers.Embedding(50000, maxlen_Xtrain)) #limiting to 50 000 words\n",
        "model.add(keras.layers.LSTM(100)) # 100 memory units\n",
        "model.add(keras.layers.Dense(num_classes, activation='softmax')) # softmax activation for multi-class classification\n",
        "model.summary()\n",
        "# large model as we can see from the params"
      ],
      "metadata": {
        "colab": {
          "base_uri": "https://localhost:8080/"
        },
        "id": "uhl8VkGvW4Bz",
        "outputId": "655acc6e-b8e6-442e-a21c-25b6d4c0b14d"
      },
      "execution_count": null,
      "outputs": [
        {
          "output_type": "stream",
          "name": "stdout",
          "text": [
            "Model: \"sequential\"\n",
            "_________________________________________________________________\n",
            " Layer (type)                Output Shape              Param #   \n",
            "=================================================================\n",
            " embedding (Embedding)       (None, None, 232)         11600000  \n",
            "                                                                 \n",
            " lstm (LSTM)                 (None, 100)               133200    \n",
            "                                                                 \n",
            " dense (Dense)               (None, 25)                2525      \n",
            "                                                                 \n",
            "=================================================================\n",
            "Total params: 11,735,725\n",
            "Trainable params: 11,735,725\n",
            "Non-trainable params: 0\n",
            "_________________________________________________________________\n"
          ]
        }
      ]
    },
    {
      "cell_type": "code",
      "source": [
        "sgd = keras.optimizers.Adam(learning_rate=0.001)\n",
        "model.compile(loss='categorical_crossentropy', optimizer=sgd, metrics=['accuracy'])\n",
        "# cat crossentropy bc its multiclass, adam because that worked best in last model"
      ],
      "metadata": {
        "id": "g0nux53EYuCP"
      },
      "execution_count": null,
      "outputs": []
    },
    {
      "cell_type": "code",
      "source": [
        "num_epochs = 20\n",
        "history = model.fit(padded_Xtrain, Y_train, epochs=num_epochs,\n",
        "                     validation_data=(padded_Xval, Y_val), batch_size=100)"
      ],
      "metadata": {
        "colab": {
          "base_uri": "https://localhost:8080/"
        },
        "id": "ouAO3yD9ZPL8",
        "outputId": "ad9c2056-59f6-4821-d48e-0fefad011d8a"
      },
      "execution_count": null,
      "outputs": [
        {
          "output_type": "stream",
          "name": "stdout",
          "text": [
            "Epoch 1/20\n",
            "320/320 [==============================] - 29s 73ms/step - loss: 2.5821 - accuracy: 0.2220 - val_loss: 2.4883 - val_accuracy: 0.2360\n",
            "Epoch 2/20\n",
            "320/320 [==============================] - 23s 71ms/step - loss: 2.4477 - accuracy: 0.2697 - val_loss: 2.2591 - val_accuracy: 0.3501\n",
            "Epoch 3/20\n",
            "320/320 [==============================] - 25s 79ms/step - loss: 2.2399 - accuracy: 0.3409 - val_loss: 2.0062 - val_accuracy: 0.4165\n",
            "Epoch 4/20\n",
            "320/320 [==============================] - 23s 71ms/step - loss: 2.0209 - accuracy: 0.3956 - val_loss: 1.7708 - val_accuracy: 0.4741\n",
            "Epoch 5/20\n",
            "320/320 [==============================] - 23s 71ms/step - loss: 1.8218 - accuracy: 0.4500 - val_loss: 1.6011 - val_accuracy: 0.5308\n",
            "Epoch 6/20\n",
            "320/320 [==============================] - 23s 70ms/step - loss: 1.6534 - accuracy: 0.4937 - val_loss: 1.4447 - val_accuracy: 0.5679\n",
            "Epoch 7/20\n",
            "320/320 [==============================] - 23s 71ms/step - loss: 1.5156 - accuracy: 0.5308 - val_loss: 1.3210 - val_accuracy: 0.5988\n",
            "Epoch 8/20\n",
            "320/320 [==============================] - 23s 71ms/step - loss: 1.4047 - accuracy: 0.5604 - val_loss: 1.2325 - val_accuracy: 0.6222\n",
            "Epoch 9/20\n",
            "320/320 [==============================] - 23s 70ms/step - loss: 1.3174 - accuracy: 0.5849 - val_loss: 1.1591 - val_accuracy: 0.6442\n",
            "Epoch 10/20\n",
            "320/320 [==============================] - 23s 71ms/step - loss: 1.2461 - accuracy: 0.6038 - val_loss: 1.1079 - val_accuracy: 0.6608\n",
            "Epoch 11/20\n",
            "320/320 [==============================] - 23s 71ms/step - loss: 1.1862 - accuracy: 0.6208 - val_loss: 1.0581 - val_accuracy: 0.6698\n",
            "Epoch 12/20\n",
            "320/320 [==============================] - 23s 71ms/step - loss: 1.1352 - accuracy: 0.6379 - val_loss: 1.0035 - val_accuracy: 0.6845\n",
            "Epoch 13/20\n",
            "320/320 [==============================] - 23s 72ms/step - loss: 1.0883 - accuracy: 0.6497 - val_loss: 0.9659 - val_accuracy: 0.6984\n",
            "Epoch 14/20\n",
            "320/320 [==============================] - 23s 71ms/step - loss: 1.0499 - accuracy: 0.6634 - val_loss: 0.9345 - val_accuracy: 0.7059\n",
            "Epoch 15/20\n",
            "320/320 [==============================] - 23s 71ms/step - loss: 1.0121 - accuracy: 0.6754 - val_loss: 0.8988 - val_accuracy: 0.7191\n",
            "Epoch 16/20\n",
            "320/320 [==============================] - 23s 71ms/step - loss: 0.9802 - accuracy: 0.6831 - val_loss: 0.8727 - val_accuracy: 0.7231\n",
            "Epoch 17/20\n",
            "320/320 [==============================] - 23s 71ms/step - loss: 0.9454 - accuracy: 0.6963 - val_loss: 0.8485 - val_accuracy: 0.7340\n",
            "Epoch 18/20\n",
            "320/320 [==============================] - 23s 71ms/step - loss: 0.9205 - accuracy: 0.7018 - val_loss: 0.8234 - val_accuracy: 0.7425\n",
            "Epoch 19/20\n",
            "320/320 [==============================] - 23s 71ms/step - loss: 0.8932 - accuracy: 0.7127 - val_loss: 0.7993 - val_accuracy: 0.7498\n",
            "Epoch 20/20\n",
            "320/320 [==============================] - 23s 71ms/step - loss: 0.8645 - accuracy: 0.7233 - val_loss: 0.7667 - val_accuracy: 0.7639\n"
          ]
        }
      ]
    },
    {
      "cell_type": "code",
      "source": [
        "train_loss = history.history['loss']\n",
        "dev_loss = history.history['val_loss']\n",
        "\n",
        "epochs = range(1, len(dev_loss) + 1)\n",
        "\n",
        "plt.plot(epochs, train_loss, 'b', label='train')\n",
        "plt.plot(epochs, dev_loss, 'r', label='dev')\n",
        "plt.title('Loss curves')\n",
        "plt.xlabel('Epochs')\n",
        "plt.ylabel('Binary Crossentropy')\n",
        "plt.legend()\n",
        "plt.show()"
      ],
      "metadata": {
        "colab": {
          "base_uri": "https://localhost:8080/",
          "height": 295
        },
        "id": "dYIiVi2kaf0T",
        "outputId": "69176cd1-e277-4f27-8a67-0021bed806ce"
      },
      "execution_count": null,
      "outputs": [
        {
          "output_type": "display_data",
          "data": {
            "image/png": "[encoded data removed]",
            "text/plain": [
              "<Figure size 432x288 with 1 Axes>"
            ]
          },
          "metadata": {
            "needs_background": "light"
          }
        }
      ]
    },
    {
      "cell_type": "code",
      "source": [
        "train_accuracy = history.history['accuracy']\n",
        "dev_accuracy = history.history['val_accuracy']\n",
        "plt.clf() \n",
        "plt.plot(epochs, train_accuracy, 'b', label='train')\n",
        "plt.plot(epochs, dev_accuracy, 'r', label='dev')\n",
        "plt.title('Accuracy curves')\n",
        "plt.xlabel('Epochs')\n",
        "plt.ylabel('Accuracy')\n",
        "plt.legend()\n",
        "plt.show()"
      ],
      "metadata": {
        "colab": {
          "base_uri": "https://localhost:8080/",
          "height": 295
        },
        "id": "dYmlmtNhagBy",
        "outputId": "589d9375-1bb1-490c-a4c4-1e3bc8bab7cb"
      },
      "execution_count": null,
      "outputs": [
        {
          "output_type": "display_data",
          "data": {
            "image/png": "[encoded data removed]",
            "text/plain": [
              "<Figure size 432x288 with 1 Axes>"
            ]
          },
          "metadata": {
            "needs_background": "light"
          }
        }
      ]
    },
    {
      "cell_type": "code",
      "source": [
        "# appears that we can still improve quite a bit"
      ],
      "metadata": {
        "id": "LbSmigCJagEX"
      },
      "execution_count": null,
      "outputs": []
    },
    {
      "cell_type": "code",
      "source": [
        "model = keras.models.Sequential()\n",
        "model.add(keras.layers.Embedding(50000, maxlen_Xtrain)) #limiting to 50 000 words\n",
        "model.add(keras.layers.LSTM(100)) # 100 memory units\n",
        "model.add(keras.layers.Dense(500, activation='relu', name='hidden'))\n",
        "model.add(keras.layers.Dense(num_classes, activation='softmax')) # softmax activation for multi-class classification\n",
        "model.summary()\n",
        "# this model is a bit larger"
      ],
      "metadata": {
        "colab": {
          "base_uri": "https://localhost:8080/"
        },
        "id": "UFjwM-7jagIz",
        "outputId": "74216d8d-9fd6-49a8-a145-5b3eaadb6e81"
      },
      "execution_count": null,
      "outputs": [
        {
          "output_type": "stream",
          "name": "stdout",
          "text": [
            "Model: \"sequential_1\"\n",
            "_________________________________________________________________\n",
            " Layer (type)                Output Shape              Param #   \n",
            "=================================================================\n",
            " embedding_1 (Embedding)     (None, None, 232)         11600000  \n",
            "                                                                 \n",
            " lstm_1 (LSTM)               (None, 100)               133200    \n",
            "                                                                 \n",
            " hidden (Dense)              (None, 500)               50500     \n",
            "                                                                 \n",
            " dense_1 (Dense)             (None, 25)                12525     \n",
            "                                                                 \n",
            "=================================================================\n",
            "Total params: 11,796,225\n",
            "Trainable params: 11,796,225\n",
            "Non-trainable params: 0\n",
            "_________________________________________________________________\n"
          ]
        }
      ]
    },
    {
      "cell_type": "code",
      "source": [
        "sgd = keras.optimizers.Adam(learning_rate=0.001)\n",
        "model.compile(loss='categorical_crossentropy', optimizer=sgd, metrics=['accuracy'])"
      ],
      "metadata": {
        "id": "Z50KtgtXeyfV"
      },
      "execution_count": null,
      "outputs": []
    },
    {
      "cell_type": "code",
      "source": [
        "num_epochs = 40 # lets try some more epochs too and see what it does\n",
        "history = model.fit(padded_Xtrain, Y_train, epochs=num_epochs,\n",
        "                     validation_data=(padded_Xval, Y_val), batch_size=100)"
      ],
      "metadata": {
        "colab": {
          "base_uri": "https://localhost:8080/"
        },
        "id": "IyzePR1Ne302",
        "outputId": "02afba45-ceda-4765-a951-a4936b226509"
      },
      "execution_count": null,
      "outputs": [
        {
          "output_type": "stream",
          "name": "stdout",
          "text": [
            "Epoch 1/40\n",
            "320/320 [==============================] - 26s 74ms/step - loss: 2.5796 - accuracy: 0.2227 - val_loss: 2.4596 - val_accuracy: 0.2391\n",
            "Epoch 2/40\n",
            "320/320 [==============================] - 23s 71ms/step - loss: 2.4377 - accuracy: 0.2668 - val_loss: 2.2579 - val_accuracy: 0.3376\n",
            "Epoch 3/40\n",
            "320/320 [==============================] - 23s 71ms/step - loss: 2.2558 - accuracy: 0.3326 - val_loss: 2.0449 - val_accuracy: 0.4046\n",
            "Epoch 4/40\n",
            "320/320 [==============================] - 23s 70ms/step - loss: 2.0489 - accuracy: 0.3920 - val_loss: 1.7793 - val_accuracy: 0.4764\n",
            "Epoch 5/40\n",
            "320/320 [==============================] - 23s 71ms/step - loss: 1.8323 - accuracy: 0.4489 - val_loss: 1.5631 - val_accuracy: 0.5392\n",
            "Epoch 6/40\n",
            "320/320 [==============================] - 23s 71ms/step - loss: 1.6457 - accuracy: 0.4960 - val_loss: 1.4193 - val_accuracy: 0.5721\n",
            "Epoch 7/40\n",
            "320/320 [==============================] - 23s 71ms/step - loss: 1.4908 - accuracy: 0.5374 - val_loss: 1.2980 - val_accuracy: 0.5955\n",
            "Epoch 8/40\n",
            "320/320 [==============================] - 23s 71ms/step - loss: 1.3730 - accuracy: 0.5679 - val_loss: 1.2010 - val_accuracy: 0.6271\n",
            "Epoch 9/40\n",
            "320/320 [==============================] - 23s 71ms/step - loss: 1.2877 - accuracy: 0.5912 - val_loss: 1.1334 - val_accuracy: 0.6473\n",
            "Epoch 10/40\n",
            "320/320 [==============================] - 23s 71ms/step - loss: 1.2142 - accuracy: 0.6100 - val_loss: 1.0976 - val_accuracy: 0.6575\n",
            "Epoch 11/40\n",
            "320/320 [==============================] - 23s 71ms/step - loss: 1.1543 - accuracy: 0.6280 - val_loss: 1.0284 - val_accuracy: 0.6773\n",
            "Epoch 12/40\n",
            "320/320 [==============================] - 23s 71ms/step - loss: 1.1007 - accuracy: 0.6466 - val_loss: 0.9806 - val_accuracy: 0.6897\n",
            "Epoch 13/40\n",
            "320/320 [==============================] - 23s 71ms/step - loss: 1.0625 - accuracy: 0.6568 - val_loss: 0.9440 - val_accuracy: 0.6981\n",
            "Epoch 14/40\n",
            "320/320 [==============================] - 23s 71ms/step - loss: 1.0184 - accuracy: 0.6710 - val_loss: 0.9091 - val_accuracy: 0.7108\n",
            "Epoch 15/40\n",
            "320/320 [==============================] - 23s 71ms/step - loss: 0.9733 - accuracy: 0.6824 - val_loss: 0.8623 - val_accuracy: 0.7261\n",
            "Epoch 16/40\n",
            "320/320 [==============================] - 23s 71ms/step - loss: 0.9319 - accuracy: 0.6973 - val_loss: 0.8403 - val_accuracy: 0.7301\n",
            "Epoch 17/40\n",
            "320/320 [==============================] - 23s 71ms/step - loss: 0.9125 - accuracy: 0.7029 - val_loss: 0.8092 - val_accuracy: 0.7402\n",
            "Epoch 18/40\n",
            "320/320 [==============================] - 23s 71ms/step - loss: 0.8719 - accuracy: 0.7174 - val_loss: 0.7695 - val_accuracy: 0.7570\n",
            "Epoch 19/40\n",
            "320/320 [==============================] - 23s 71ms/step - loss: 0.8406 - accuracy: 0.7250 - val_loss: 0.7517 - val_accuracy: 0.7596\n",
            "Epoch 20/40\n",
            "320/320 [==============================] - 23s 71ms/step - loss: 0.8168 - accuracy: 0.7321 - val_loss: 0.7254 - val_accuracy: 0.7705\n",
            "Epoch 21/40\n",
            "320/320 [==============================] - 23s 72ms/step - loss: 0.7900 - accuracy: 0.7425 - val_loss: 0.7002 - val_accuracy: 0.7740\n",
            "Epoch 22/40\n",
            "320/320 [==============================] - 23s 71ms/step - loss: 0.7652 - accuracy: 0.7506 - val_loss: 0.6758 - val_accuracy: 0.7826\n",
            "Epoch 23/40\n",
            "320/320 [==============================] - 23s 71ms/step - loss: 0.7262 - accuracy: 0.7634 - val_loss: 0.6408 - val_accuracy: 0.7956\n",
            "Epoch 24/40\n",
            "320/320 [==============================] - 23s 71ms/step - loss: 0.6987 - accuracy: 0.7736 - val_loss: 0.6198 - val_accuracy: 0.8011\n",
            "Epoch 25/40\n",
            "320/320 [==============================] - 23s 71ms/step - loss: 0.6752 - accuracy: 0.7799 - val_loss: 0.5920 - val_accuracy: 0.8101\n",
            "Epoch 26/40\n",
            "320/320 [==============================] - 23s 71ms/step - loss: 0.6487 - accuracy: 0.7874 - val_loss: 0.5774 - val_accuracy: 0.8177\n",
            "Epoch 27/40\n",
            "320/320 [==============================] - 23s 71ms/step - loss: 0.6404 - accuracy: 0.7916 - val_loss: 0.5734 - val_accuracy: 0.8179\n",
            "Epoch 28/40\n",
            "320/320 [==============================] - 23s 71ms/step - loss: 0.6321 - accuracy: 0.7918 - val_loss: 0.5566 - val_accuracy: 0.8233\n",
            "Epoch 29/40\n",
            "320/320 [==============================] - 23s 71ms/step - loss: 0.6051 - accuracy: 0.8038 - val_loss: 0.5376 - val_accuracy: 0.8278\n",
            "Epoch 30/40\n",
            "320/320 [==============================] - 23s 71ms/step - loss: 0.5850 - accuracy: 0.8078 - val_loss: 0.5135 - val_accuracy: 0.8356\n",
            "Epoch 31/40\n",
            "320/320 [==============================] - 23s 71ms/step - loss: 0.5594 - accuracy: 0.8164 - val_loss: 0.4935 - val_accuracy: 0.8392\n",
            "Epoch 32/40\n",
            "320/320 [==============================] - 25s 78ms/step - loss: 0.5385 - accuracy: 0.8233 - val_loss: 0.4780 - val_accuracy: 0.8476\n",
            "Epoch 33/40\n",
            "320/320 [==============================] - 23s 71ms/step - loss: 0.5263 - accuracy: 0.8274 - val_loss: 0.4761 - val_accuracy: 0.8458\n",
            "Epoch 34/40\n",
            "320/320 [==============================] - 23s 71ms/step - loss: 0.5263 - accuracy: 0.8247 - val_loss: 0.4653 - val_accuracy: 0.8498\n",
            "Epoch 35/40\n",
            "320/320 [==============================] - 23s 71ms/step - loss: 0.5323 - accuracy: 0.8244 - val_loss: 0.4633 - val_accuracy: 0.8503\n",
            "Epoch 36/40\n",
            "320/320 [==============================] - 23s 70ms/step - loss: 0.5107 - accuracy: 0.8311 - val_loss: 0.4567 - val_accuracy: 0.8527\n",
            "Epoch 37/40\n",
            "320/320 [==============================] - 23s 70ms/step - loss: 0.4964 - accuracy: 0.8353 - val_loss: 0.4341 - val_accuracy: 0.8581\n",
            "Epoch 38/40\n",
            "320/320 [==============================] - 23s 71ms/step - loss: 0.4808 - accuracy: 0.8408 - val_loss: 0.4213 - val_accuracy: 0.8642\n",
            "Epoch 39/40\n",
            "320/320 [==============================] - 23s 71ms/step - loss: 0.4632 - accuracy: 0.8445 - val_loss: 0.4131 - val_accuracy: 0.8647\n",
            "Epoch 40/40\n",
            "320/320 [==============================] - 23s 70ms/step - loss: 0.4509 - accuracy: 0.8492 - val_loss: 0.4024 - val_accuracy: 0.8701\n"
          ]
        }
      ]
    },
    {
      "cell_type": "code",
      "source": [
        "train_loss = history.history['loss']\n",
        "dev_loss = history.history['val_loss']\n",
        "\n",
        "epochs = range(1, len(dev_loss) + 1)\n",
        "\n",
        "plt.plot(epochs, train_loss, 'b', label='train')\n",
        "plt.plot(epochs, dev_loss, 'r', label='dev')\n",
        "plt.title('Loss curves')\n",
        "plt.xlabel('Epochs')\n",
        "plt.ylabel('Binary Crossentropy')\n",
        "plt.legend()\n",
        "plt.show()"
      ],
      "metadata": {
        "colab": {
          "base_uri": "https://localhost:8080/",
          "height": 295
        },
        "id": "2nqYVu0kryg3",
        "outputId": "c6235baa-8321-4c49-f289-8e7bfc794b36"
      },
      "execution_count": null,
      "outputs": [
        {
          "output_type": "display_data",
          "data": {
            "image/png": "[encoded data removed]",
            "text/plain": [
              "<Figure size 432x288 with 1 Axes>"
            ]
          },
          "metadata": {
            "needs_background": "light"
          }
        }
      ]
    },
    {
      "cell_type": "code",
      "source": [
        "train_accuracy = history.history['accuracy']\n",
        "dev_accuracy = history.history['val_accuracy']\n",
        "plt.clf() \n",
        "plt.plot(epochs, train_accuracy, 'b', label='train')\n",
        "plt.plot(epochs, dev_accuracy, 'r', label='dev')\n",
        "plt.title('Accuracy curves')\n",
        "plt.xlabel('Epochs')\n",
        "plt.ylabel('Accuracy')\n",
        "plt.legend()\n",
        "plt.show()"
      ],
      "metadata": {
        "colab": {
          "base_uri": "https://localhost:8080/",
          "height": 295
        },
        "id": "qKvNthQXryka",
        "outputId": "8b8fe7ff-7588-468a-b90f-aa280eea45f4"
      },
      "execution_count": null,
      "outputs": [
        {
          "output_type": "display_data",
          "data": {
            "image/png": "[encoded data removed]",
            "text/plain": [
              "<Figure size 432x288 with 1 Axes>"
            ]
          },
          "metadata": {
            "needs_background": "light"
          }
        }
      ]
    },
    {
      "cell_type": "code",
      "source": [
        "# better convergence and better scores! accuracy +.10 and loss -.36"
      ],
      "metadata": {
        "id": "y-W-yEt-ryn5"
      },
      "execution_count": null,
      "outputs": []
    },
    {
      "cell_type": "code",
      "source": [
        "Y_pred = model.predict(padded_Xtest, batch_size=100)\n",
        "print(Y_pred.shape)"
      ],
      "metadata": {
        "colab": {
          "base_uri": "https://localhost:8080/"
        },
        "id": "ItkmaSKoB1sx",
        "outputId": "37ec05a1-0062-45e1-c42a-f0ff36b17b58"
      },
      "execution_count": null,
      "outputs": [
        {
          "output_type": "stream",
          "name": "stdout",
          "text": [
            "(15967, 25)\n"
          ]
        }
      ]
    },
    {
      "cell_type": "code",
      "source": [
        "y_pred = np.argmax(Y_pred, axis=1)\n",
        "y_pred"
      ],
      "metadata": {
        "colab": {
          "base_uri": "https://localhost:8080/"
        },
        "id": "zLnHOKOSH55-",
        "outputId": "b76736e6-e4fd-4c06-924a-91883b31c2af"
      },
      "execution_count": null,
      "outputs": [
        {
          "output_type": "execute_result",
          "data": {
            "text/plain": [
              "array([19,  0, 14, ..., 15,  0,  0])"
            ]
          },
          "metadata": {},
          "execution_count": 27
        }
      ]
    },
    {
      "cell_type": "code",
      "source": [
        "from sklearn.metrics import accuracy_score, f1_score, classification_report, confusion_matrix\n",
        "print(accuracy_score(y_true=y_test, y_pred=y_pred))\n",
        "print(f1_score(y_true=y_test, y_pred=y_pred, average='macro'))\n",
        "print(classification_report(y_true=y_test, y_pred=y_pred))"
      ],
      "metadata": {
        "colab": {
          "base_uri": "https://localhost:8080/"
        },
        "id": "DbAQuhmwrysx",
        "outputId": "3d230b0d-90ee-4ee6-f6e1-feb26cbed7cd"
      },
      "execution_count": null,
      "outputs": [
        {
          "output_type": "stream",
          "name": "stdout",
          "text": [
            "0.8622158201290161\n",
            "0.8793262635894881\n",
            "              precision    recall  f1-score   support\n",
            "\n",
            "         0.0       0.78      0.94      0.85      3597\n",
            "         1.0       0.81      0.85      0.83      2131\n",
            "         2.0       0.85      0.82      0.84      1619\n",
            "         3.0       0.93      0.87      0.90      2241\n",
            "         4.0       0.94      0.78      0.86       251\n",
            "         5.0       0.90      0.84      0.87       341\n",
            "         6.0       0.93      0.86      0.89       232\n",
            "         7.0       0.95      0.80      0.87       449\n",
            "         8.0       0.87      0.83      0.85       527\n",
            "         9.0       0.92      0.81      0.86       489\n",
            "        10.0       0.93      0.79      0.86       397\n",
            "        11.0       0.98      0.72      0.83        71\n",
            "        12.0       0.93      0.79      0.86       282\n",
            "        13.0       0.92      0.86      0.89       257\n",
            "        14.0       0.96      0.85      0.90       184\n",
            "        15.0       0.94      0.84      0.89       403\n",
            "        16.0       0.96      0.89      0.93       139\n",
            "        17.0       0.96      0.86      0.90      1239\n",
            "        18.0       1.00      0.74      0.85        73\n",
            "        19.0       0.84      0.81      0.83       499\n",
            "        20.0       0.96      0.89      0.92       160\n",
            "        21.0       0.99      0.88      0.93        80\n",
            "        22.0       0.96      0.83      0.89       131\n",
            "        23.0       1.00      1.00      1.00         8\n",
            "        24.0       0.94      0.87      0.90       167\n",
            "\n",
            "    accuracy                           0.86     15967\n",
            "   macro avg       0.93      0.84      0.88     15967\n",
            "weighted avg       0.87      0.86      0.86     15967\n",
            "\n"
          ]
        }
      ]
    },
    {
      "cell_type": "markdown",
      "source": [
        ""
      ],
      "metadata": {
        "id": "rDjwCTvfZlur"
      }
    }
  ]
}