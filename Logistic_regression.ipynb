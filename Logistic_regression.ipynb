{
 "cells": [
  {
   "cell_type": "code",
   "execution_count": 1,
   "id": "f0a8870e",
   "metadata": {},
   "outputs": [
    {
     "name": "stdout",
     "output_type": "stream",
     "text": [
      "0.24.1\n"
     ]
    }
   ],
   "source": [
    "import pandas as pd\n",
    "import numpy as np\n",
    "import matplotlib.pyplot as plt\n",
    "%matplotlib inline\n",
    "import sklearn \n",
    "print(sklearn.__version__)"
   ]
  },
  {
   "cell_type": "code",
   "execution_count": 2,
   "id": "8c96200d",
   "metadata": {},
   "outputs": [],
   "source": [
    "df = pd.read_csv('The-Office-Lines-V4.csv')\n",
    "df= df.drop('Unnamed: 6', 1)"
   ]
  },
  {
   "cell_type": "code",
   "execution_count": 3,
   "id": "9ffb8cad",
   "metadata": {},
   "outputs": [],
   "source": [
    "def gender(name):\n",
    "    if name == 'Michael' or name == 'Jim' or name == 'Dwight' or name == 'Ryan' or name == 'Stanley' or name == 'Kevin' or name == 'Oscar' or name == 'Toby' or name == 'Creed' or name == 'Andy' or name == 'Roy' or name == 'Darryl' or name == 'Gabe' or name == 'Robert California' or name == 'Robert' or name == 'Clark' or name == 'Pete':\n",
    "        return 0\n",
    "    elif name == 'Pam' or name == 'Phyllis' or name == 'Angela' or name == 'Kelly' or name == 'Meredith' or name == 'Jan' or name == 'Erin' or name == 'Nellie':\n",
    "        return 1"
   ]
  },
  {
   "cell_type": "code",
   "execution_count": 4,
   "id": "6d99186e",
   "metadata": {},
   "outputs": [],
   "source": [
    "df[\"gender\"] = df[\"speaker\"].map(gender)"
   ]
  },
  {
   "cell_type": "code",
   "execution_count": 5,
   "id": "d01db23e",
   "metadata": {},
   "outputs": [],
   "source": [
    "df = df.dropna()"
   ]
  },
  {
   "cell_type": "code",
   "execution_count": 6,
   "id": "e9393a58",
   "metadata": {},
   "outputs": [],
   "source": [
    "df['gender'] = df['gender'].astype(int)"
   ]
  },
  {
   "cell_type": "code",
   "execution_count": 7,
   "id": "396ea0e8",
   "metadata": {},
   "outputs": [],
   "source": [
    "df['number_of_words'] = df['line'].str.split().str.len()"
   ]
  },
  {
   "cell_type": "code",
   "execution_count": 8,
   "id": "39e2bdd9",
   "metadata": {},
   "outputs": [],
   "source": [
    "df['speaker_id'] = pd.factorize(df.speaker)[0]"
   ]
  },
  {
   "cell_type": "code",
   "execution_count": 9,
   "id": "a298e6a2",
   "metadata": {},
   "outputs": [
    {
     "data": {
      "text/html": [
       "<div>\n",
       "<style scoped>\n",
       "    .dataframe tbody tr th:only-of-type {\n",
       "        vertical-align: middle;\n",
       "    }\n",
       "\n",
       "    .dataframe tbody tr th {\n",
       "        vertical-align: top;\n",
       "    }\n",
       "\n",
       "    .dataframe thead th {\n",
       "        text-align: right;\n",
       "    }\n",
       "</style>\n",
       "<table border=\"1\" class=\"dataframe\">\n",
       "  <thead>\n",
       "    <tr style=\"text-align: right;\">\n",
       "      <th></th>\n",
       "      <th>season</th>\n",
       "      <th>episode</th>\n",
       "      <th>title</th>\n",
       "      <th>scene</th>\n",
       "      <th>speaker</th>\n",
       "      <th>line</th>\n",
       "      <th>gender</th>\n",
       "      <th>number_of_words</th>\n",
       "      <th>speaker_id</th>\n",
       "    </tr>\n",
       "  </thead>\n",
       "  <tbody>\n",
       "    <tr>\n",
       "      <th>0</th>\n",
       "      <td>1</td>\n",
       "      <td>1</td>\n",
       "      <td>Pilot</td>\n",
       "      <td>1</td>\n",
       "      <td>Michael</td>\n",
       "      <td>All right Jim. Your quarterlies look very good...</td>\n",
       "      <td>0</td>\n",
       "      <td>14</td>\n",
       "      <td>0</td>\n",
       "    </tr>\n",
       "    <tr>\n",
       "      <th>1</th>\n",
       "      <td>1</td>\n",
       "      <td>1</td>\n",
       "      <td>Pilot</td>\n",
       "      <td>1</td>\n",
       "      <td>Jim</td>\n",
       "      <td>Oh, I told you. I couldn't close it. So...</td>\n",
       "      <td>0</td>\n",
       "      <td>9</td>\n",
       "      <td>1</td>\n",
       "    </tr>\n",
       "    <tr>\n",
       "      <th>2</th>\n",
       "      <td>1</td>\n",
       "      <td>1</td>\n",
       "      <td>Pilot</td>\n",
       "      <td>1</td>\n",
       "      <td>Michael</td>\n",
       "      <td>So you've come to the master for guidance? Is ...</td>\n",
       "      <td>0</td>\n",
       "      <td>14</td>\n",
       "      <td>0</td>\n",
       "    </tr>\n",
       "    <tr>\n",
       "      <th>3</th>\n",
       "      <td>1</td>\n",
       "      <td>1</td>\n",
       "      <td>Pilot</td>\n",
       "      <td>1</td>\n",
       "      <td>Jim</td>\n",
       "      <td>Actually, you called me in here, but yeah.</td>\n",
       "      <td>0</td>\n",
       "      <td>8</td>\n",
       "      <td>1</td>\n",
       "    </tr>\n",
       "    <tr>\n",
       "      <th>4</th>\n",
       "      <td>1</td>\n",
       "      <td>1</td>\n",
       "      <td>Pilot</td>\n",
       "      <td>1</td>\n",
       "      <td>Michael</td>\n",
       "      <td>All right. Well, let me show you how it's done.</td>\n",
       "      <td>0</td>\n",
       "      <td>10</td>\n",
       "      <td>0</td>\n",
       "    </tr>\n",
       "    <tr>\n",
       "      <th>...</th>\n",
       "      <td>...</td>\n",
       "      <td>...</td>\n",
       "      <td>...</td>\n",
       "      <td>...</td>\n",
       "      <td>...</td>\n",
       "      <td>...</td>\n",
       "      <td>...</td>\n",
       "      <td>...</td>\n",
       "      <td>...</td>\n",
       "    </tr>\n",
       "    <tr>\n",
       "      <th>54621</th>\n",
       "      <td>9</td>\n",
       "      <td>24</td>\n",
       "      <td>Finale</td>\n",
       "      <td>8153</td>\n",
       "      <td>Creed</td>\n",
       "      <td>It all seems so very arbitrary. I applied for ...</td>\n",
       "      <td>0</td>\n",
       "      <td>55</td>\n",
       "      <td>16</td>\n",
       "    </tr>\n",
       "    <tr>\n",
       "      <th>54622</th>\n",
       "      <td>9</td>\n",
       "      <td>24</td>\n",
       "      <td>Finale</td>\n",
       "      <td>8154</td>\n",
       "      <td>Meredith</td>\n",
       "      <td>I just feel lucky that I got a chance to share...</td>\n",
       "      <td>1</td>\n",
       "      <td>41</td>\n",
       "      <td>14</td>\n",
       "    </tr>\n",
       "    <tr>\n",
       "      <th>54623</th>\n",
       "      <td>9</td>\n",
       "      <td>24</td>\n",
       "      <td>Finale</td>\n",
       "      <td>8155</td>\n",
       "      <td>Phyllis</td>\n",
       "      <td>I'm happy that this was all filmed so I can re...</td>\n",
       "      <td>1</td>\n",
       "      <td>31</td>\n",
       "      <td>5</td>\n",
       "    </tr>\n",
       "    <tr>\n",
       "      <th>54624</th>\n",
       "      <td>9</td>\n",
       "      <td>24</td>\n",
       "      <td>Finale</td>\n",
       "      <td>8156</td>\n",
       "      <td>Jim</td>\n",
       "      <td>I sold paper at this company for 12 years. My ...</td>\n",
       "      <td>0</td>\n",
       "      <td>46</td>\n",
       "      <td>1</td>\n",
       "    </tr>\n",
       "    <tr>\n",
       "      <th>54625</th>\n",
       "      <td>9</td>\n",
       "      <td>24</td>\n",
       "      <td>Finale</td>\n",
       "      <td>8157</td>\n",
       "      <td>Pam</td>\n",
       "      <td>I thought it was weird when you picked us to m...</td>\n",
       "      <td>1</td>\n",
       "      <td>46</td>\n",
       "      <td>2</td>\n",
       "    </tr>\n",
       "  </tbody>\n",
       "</table>\n",
       "<p>47664 rows × 9 columns</p>\n",
       "</div>"
      ],
      "text/plain": [
       "       season  episode   title  scene   speaker  \\\n",
       "0           1        1   Pilot      1   Michael   \n",
       "1           1        1   Pilot      1       Jim   \n",
       "2           1        1   Pilot      1   Michael   \n",
       "3           1        1   Pilot      1       Jim   \n",
       "4           1        1   Pilot      1   Michael   \n",
       "...       ...      ...     ...    ...       ...   \n",
       "54621       9       24  Finale   8153     Creed   \n",
       "54622       9       24  Finale   8154  Meredith   \n",
       "54623       9       24  Finale   8155   Phyllis   \n",
       "54624       9       24  Finale   8156       Jim   \n",
       "54625       9       24  Finale   8157       Pam   \n",
       "\n",
       "                                                    line  gender  \\\n",
       "0      All right Jim. Your quarterlies look very good...       0   \n",
       "1             Oh, I told you. I couldn't close it. So...       0   \n",
       "2      So you've come to the master for guidance? Is ...       0   \n",
       "3             Actually, you called me in here, but yeah.       0   \n",
       "4        All right. Well, let me show you how it's done.       0   \n",
       "...                                                  ...     ...   \n",
       "54621  It all seems so very arbitrary. I applied for ...       0   \n",
       "54622  I just feel lucky that I got a chance to share...       1   \n",
       "54623  I'm happy that this was all filmed so I can re...       1   \n",
       "54624  I sold paper at this company for 12 years. My ...       0   \n",
       "54625  I thought it was weird when you picked us to m...       1   \n",
       "\n",
       "       number_of_words  speaker_id  \n",
       "0                   14           0  \n",
       "1                    9           1  \n",
       "2                   14           0  \n",
       "3                    8           1  \n",
       "4                   10           0  \n",
       "...                ...         ...  \n",
       "54621               55          16  \n",
       "54622               41          14  \n",
       "54623               31           5  \n",
       "54624               46           1  \n",
       "54625               46           2  \n",
       "\n",
       "[47664 rows x 9 columns]"
      ]
     },
     "execution_count": 9,
     "metadata": {},
     "output_type": "execute_result"
    }
   ],
   "source": [
    "df"
   ]
  },
  {
   "cell_type": "code",
   "execution_count": 10,
   "id": "69eed742",
   "metadata": {},
   "outputs": [],
   "source": [
    "from sklearn.model_selection import train_test_split, cross_val_score\n",
    "from sklearn.linear_model import LogisticRegression\n",
    "from sklearn.feature_extraction.text import CountVectorizer,TfidfTransformer, TfidfVectorizer\n",
    "from sklearn.pipeline import make_pipeline\n",
    "from sklearn.preprocessing import MinMaxScaler, MaxAbsScaler\n",
    "from sklearn.metrics import classification_report, accuracy_score, confusion_matrix, plot_confusion_matrix"
   ]
  },
  {
   "cell_type": "code",
   "execution_count": 11,
   "id": "65913076",
   "metadata": {},
   "outputs": [],
   "source": [
    "X = df['line']\n",
    "y = df['gender']"
   ]
  },
  {
   "cell_type": "code",
   "execution_count": 12,
   "id": "84666620",
   "metadata": {},
   "outputs": [],
   "source": [
    "X_train, X_test, y_train, y_test = train_test_split(X, y, shuffle=True, random_state=42, test_size=.70)"
   ]
  },
  {
   "cell_type": "code",
   "execution_count": 13,
   "id": "d24df6d5",
   "metadata": {},
   "outputs": [
    {
     "data": {
      "text/plain": [
       "((14299,), (14299,), (33365,), (33365,))"
      ]
     },
     "execution_count": 13,
     "metadata": {},
     "output_type": "execute_result"
    }
   ],
   "source": [
    "X_train.shape, y_train.shape, X_test.shape, y_test.shape"
   ]
  },
  {
   "cell_type": "code",
   "execution_count": 14,
   "id": "0782eadb",
   "metadata": {},
   "outputs": [],
   "source": [
    "vect = CountVectorizer()\n",
    "vect2 = TfidfVectorizer()\n",
    "scaler = MaxAbsScaler()\n",
    "tfidf = TfidfTransformer()\n",
    "lr = LogisticRegression(max_iter=1000)"
   ]
  },
  {
   "cell_type": "code",
   "execution_count": 15,
   "id": "259e05ac",
   "metadata": {},
   "outputs": [],
   "source": [
    "pipe = make_pipeline(vect, scaler, lr)\n",
    "pipe2 = make_pipeline(vect2, scaler, lr)"
   ]
  },
  {
   "cell_type": "code",
   "execution_count": 16,
   "id": "3c063e33",
   "metadata": {},
   "outputs": [
    {
     "data": {
      "text/plain": [
       "Pipeline(steps=[('countvectorizer', CountVectorizer()),\n",
       "                ('maxabsscaler', MaxAbsScaler()),\n",
       "                ('logisticregression', LogisticRegression(max_iter=1000))])"
      ]
     },
     "execution_count": 16,
     "metadata": {},
     "output_type": "execute_result"
    }
   ],
   "source": [
    "pipe.fit(X_train, y_train)"
   ]
  },
  {
   "cell_type": "code",
   "execution_count": 17,
   "id": "7ed1e4c5",
   "metadata": {},
   "outputs": [],
   "source": [
    "y_pred = pipe.predict(X_test)"
   ]
  },
  {
   "cell_type": "code",
   "execution_count": 18,
   "id": "1f7dc798",
   "metadata": {},
   "outputs": [
    {
     "name": "stdout",
     "output_type": "stream",
     "text": [
      "accuracy 0.7506968380038963\n",
      "              precision    recall  f1-score   support\n",
      "\n",
      "           0       0.76      0.98      0.86     25223\n",
      "           1       0.41      0.05      0.09      8142\n",
      "\n",
      "    accuracy                           0.75     33365\n",
      "   macro avg       0.59      0.51      0.47     33365\n",
      "weighted avg       0.68      0.75      0.67     33365\n",
      "\n"
     ]
    }
   ],
   "source": [
    "print('accuracy %s' % accuracy_score(y_pred, y_test))\n",
    "print(classification_report(y_test, y_pred))"
   ]
  },
  {
   "cell_type": "code",
   "execution_count": 19,
   "id": "c8aa7b26",
   "metadata": {},
   "outputs": [
    {
     "data": {
      "text/plain": [
       "Pipeline(steps=[('tfidfvectorizer', TfidfVectorizer()),\n",
       "                ('maxabsscaler', MaxAbsScaler()),\n",
       "                ('logisticregression', LogisticRegression(max_iter=1000))])"
      ]
     },
     "execution_count": 19,
     "metadata": {},
     "output_type": "execute_result"
    }
   ],
   "source": [
    "pipe2.fit(X_train, y_train)"
   ]
  },
  {
   "cell_type": "code",
   "execution_count": 20,
   "id": "acd260e9",
   "metadata": {},
   "outputs": [],
   "source": [
    "y_pred2 = pipe2.predict(X_test)"
   ]
  },
  {
   "cell_type": "code",
   "execution_count": 21,
   "id": "5476362b",
   "metadata": {},
   "outputs": [
    {
     "name": "stdout",
     "output_type": "stream",
     "text": [
      "accuracy 0.750367151206354\n",
      "              precision    recall  f1-score   support\n",
      "\n",
      "           0       0.76      0.97      0.85     25223\n",
      "           1       0.42      0.06      0.10      8142\n",
      "\n",
      "    accuracy                           0.75     33365\n",
      "   macro avg       0.59      0.52      0.48     33365\n",
      "weighted avg       0.68      0.75      0.67     33365\n",
      "\n"
     ]
    }
   ],
   "source": [
    "print('accuracy %s' % accuracy_score(y_pred2, y_test))\n",
    "print(classification_report(y_test, y_pred2))\n",
    "\n",
    "# so tfidfvectorizer is slightly better; keep working with pipe2"
   ]
  },
  {
   "cell_type": "code",
   "execution_count": 22,
   "id": "5eb3f427",
   "metadata": {},
   "outputs": [
    {
     "data": {
      "text/plain": [
       "{'C': 1.0,\n",
       " 'class_weight': None,\n",
       " 'dual': False,\n",
       " 'fit_intercept': True,\n",
       " 'intercept_scaling': 1,\n",
       " 'l1_ratio': None,\n",
       " 'max_iter': 1000,\n",
       " 'multi_class': 'auto',\n",
       " 'n_jobs': None,\n",
       " 'penalty': 'l2',\n",
       " 'random_state': None,\n",
       " 'solver': 'lbfgs',\n",
       " 'tol': 0.0001,\n",
       " 'verbose': 0,\n",
       " 'warm_start': False}"
      ]
     },
     "execution_count": 22,
     "metadata": {},
     "output_type": "execute_result"
    }
   ],
   "source": [
    "lr.get_params()"
   ]
  },
  {
   "cell_type": "code",
   "execution_count": 23,
   "id": "fb5f3694",
   "metadata": {},
   "outputs": [],
   "source": [
    "cs = [0.01, 0.1, 1.0, 10.0, 100.0]"
   ]
  },
  {
   "cell_type": "code",
   "execution_count": 24,
   "id": "08a94299",
   "metadata": {},
   "outputs": [
    {
     "name": "stdout",
     "output_type": "stream",
     "text": [
      "Mean 0.4716752955910479, Std 0.009330098132314552\n"
     ]
    }
   ],
   "source": [
    "scores = cross_val_score(pipe2, X, y, cv=10, scoring='f1_macro') \n",
    "print(f\"Mean {scores.mean()}, Std {scores.std()}\")"
   ]
  },
  {
   "cell_type": "code",
   "execution_count": 25,
   "id": "934e5684",
   "metadata": {},
   "outputs": [],
   "source": [
    "accuracies, params = [], []\n",
    "for c in cs:\n",
    "    lr = LogisticRegression(C=c)\n",
    "    pipe = make_pipeline(vect2, scaler, lr)\n",
    "    scores = cross_val_score(pipe2, X_train, y_train, cv=10, scoring='f1_macro')\n",
    "    accuracies.append(scores.mean())\n",
    "    params.append(c)"
   ]
  },
  {
   "cell_type": "code",
   "execution_count": 26,
   "id": "f6f01acb",
   "metadata": {},
   "outputs": [
    {
     "data": {
      "image/png": "[encoded data removed]",
      "text/plain": [
       "<Figure size 432x288 with 1 Axes>"
      ]
     },
     "metadata": {
      "needs_background": "light"
     },
     "output_type": "display_data"
    }
   ],
   "source": [
    "plt.plot(params, accuracies, label='test accuracy')\n",
    "plt.show()\n",
    "# stays the same so we keep C = 1.0, the previous model is best"
   ]
  },
  {
   "cell_type": "code",
   "execution_count": 27,
   "id": "f0129a05",
   "metadata": {},
   "outputs": [
    {
     "name": "stdout",
     "output_type": "stream",
     "text": [
      "[[24639   584]\n",
      " [ 7734   408]]\n"
     ]
    }
   ],
   "source": [
    "from sklearn.metrics import confusion_matrix\n",
    "print(confusion_matrix(y_test, y_pred))"
   ]
  },
  {
   "cell_type": "code",
   "execution_count": null,
   "id": "8c66afd1",
   "metadata": {},
   "outputs": [],
   "source": []
  }
 ],
 "metadata": {
  "kernelspec": {
   "display_name": "Python 3",
   "language": "python",
   "name": "python3"
  },
  "language_info": {
   "codemirror_mode": {
    "name": "ipython",
    "version": 3
   },
   "file_extension": ".py",
   "mimetype": "text/x-python",
   "name": "python",
   "nbconvert_exporter": "python",
   "pygments_lexer": "ipython3",
   "version": "3.8.8"
  }
 },
 "nbformat": 4,
 "nbformat_minor": 5
}
