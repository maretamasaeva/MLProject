{
  "nbformat": 4,
  "nbformat_minor": 0,
  "metadata": {
    "colab": {
      "name": "NN line gender.ipynb",
      "provenance": []
    },
    "kernelspec": {
      "name": "python3",
      "display_name": "Python 3"
    },
    "language_info": {
      "name": "python"
    },
    "accelerator": "GPU"
  },
  "cells": [
    {
      "cell_type": "code",
      "metadata": {
        "id": "mgC74StHOxqX"
      },
      "source": [
        "import tensorflow as tf\n",
        "import tensorflow.keras as keras\n",
        "import matplotlib.pyplot as plt\n",
        "import numpy as np\n",
        "import seaborn as sns\n",
        "import pandas as pd\n",
        "\n",
        "# to get reproducible results:\n",
        "np.random.seed(1234)\n",
        "tf.random.set_seed(1234)"
      ],
      "execution_count": null,
      "outputs": []
    },
    {
      "cell_type": "code",
      "metadata": {
        "colab": {
          "resources": {
            "http://localhost:8080/nbextensions/google.colab/files.js": {
              "data": "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",
              "ok": true,
              "headers": [
                [
                  "content-type",
                  "application/javascript"
                ]
              ],
              "status": 200,
              "status_text": ""
            }
          },
          "base_uri": "https://localhost:8080/",
          "height": 73
        },
        "id": "kFomkRJvO43C",
        "outputId": "8ec1683e-4661-4762-c141-abef46c8124c"
      },
      "source": [
        "from google.colab import files\n",
        "uploaded = files.upload()"
      ],
      "execution_count": null,
      "outputs": [
        {
          "output_type": "display_data",
          "data": {
            "text/html": [
              "\n",
              "     <input type=\"file\" id=\"files-8e2a040b-027a-46e1-8f6c-def4749dc308\" name=\"files[]\" multiple disabled\n",
              "        style=\"border:none\" />\n",
              "     <output id=\"result-8e2a040b-027a-46e1-8f6c-def4749dc308\">\n",
              "      Upload widget is only available when the cell has been executed in the\n",
              "      current browser session. Please rerun this cell to enable.\n",
              "      </output>\n",
              "      <script src=\"/nbextensions/google.colab/files.js\"></script> "
            ],
            "text/plain": [
              "<IPython.core.display.HTML object>"
            ]
          },
          "metadata": {}
        },
        {
          "output_type": "stream",
          "name": "stdout",
          "text": [
            "Saving The-Office-Lines-V4.csv to The-Office-Lines-V4.csv\n"
          ]
        }
      ]
    },
    {
      "cell_type": "code",
      "source": [
        "import io\n",
        "df = pd.read_csv(io.BytesIO(uploaded['The-Office-Lines-V4.csv']))"
      ],
      "metadata": {
        "id": "TPomfyYAVDVw"
      },
      "execution_count": null,
      "outputs": []
    },
    {
      "cell_type": "code",
      "source": [
        "df = pd.read_csv('The-Office-Lines-V4.csv')"
      ],
      "metadata": {
        "id": "PhOvFQhbVDYA"
      },
      "execution_count": null,
      "outputs": []
    },
    {
      "cell_type": "code",
      "source": [
        "df"
      ],
      "metadata": {
        "colab": {
          "base_uri": "https://localhost:8080/",
          "height": 423
        },
        "id": "MboVDO8rVDcG",
        "outputId": "6efe1900-67af-407d-e77c-e4983e1ad848"
      },
      "execution_count": null,
      "outputs": [
        {
          "output_type": "execute_result",
          "data": {
            "text/html": [
              "\n",
              "  <div id=\"df-980bd99b-f5ee-46de-981f-088be35e13d2\">\n",
              "    <div class=\"colab-df-container\">\n",
              "      <div>\n",
              "<style scoped>\n",
              "    .dataframe tbody tr th:only-of-type {\n",
              "        vertical-align: middle;\n",
              "    }\n",
              "\n",
              "    .dataframe tbody tr th {\n",
              "        vertical-align: top;\n",
              "    }\n",
              "\n",
              "    .dataframe thead th {\n",
              "        text-align: right;\n",
              "    }\n",
              "</style>\n",
              "<table border=\"1\" class=\"dataframe\">\n",
              "  <thead>\n",
              "    <tr style=\"text-align: right;\">\n",
              "      <th></th>\n",
              "      <th>season</th>\n",
              "      <th>episode</th>\n",
              "      <th>title</th>\n",
              "      <th>scene</th>\n",
              "      <th>speaker</th>\n",
              "      <th>line</th>\n",
              "      <th>Unnamed: 6</th>\n",
              "    </tr>\n",
              "  </thead>\n",
              "  <tbody>\n",
              "    <tr>\n",
              "      <th>0</th>\n",
              "      <td>1</td>\n",
              "      <td>1</td>\n",
              "      <td>Pilot</td>\n",
              "      <td>1</td>\n",
              "      <td>Michael</td>\n",
              "      <td>All right Jim. Your quarterlies look very good...</td>\n",
              "      <td>NaN</td>\n",
              "    </tr>\n",
              "    <tr>\n",
              "      <th>1</th>\n",
              "      <td>1</td>\n",
              "      <td>1</td>\n",
              "      <td>Pilot</td>\n",
              "      <td>1</td>\n",
              "      <td>Jim</td>\n",
              "      <td>Oh, I told you. I couldn't close it. So...</td>\n",
              "      <td>NaN</td>\n",
              "    </tr>\n",
              "    <tr>\n",
              "      <th>2</th>\n",
              "      <td>1</td>\n",
              "      <td>1</td>\n",
              "      <td>Pilot</td>\n",
              "      <td>1</td>\n",
              "      <td>Michael</td>\n",
              "      <td>So you've come to the master for guidance? Is ...</td>\n",
              "      <td>NaN</td>\n",
              "    </tr>\n",
              "    <tr>\n",
              "      <th>3</th>\n",
              "      <td>1</td>\n",
              "      <td>1</td>\n",
              "      <td>Pilot</td>\n",
              "      <td>1</td>\n",
              "      <td>Jim</td>\n",
              "      <td>Actually, you called me in here, but yeah.</td>\n",
              "      <td>NaN</td>\n",
              "    </tr>\n",
              "    <tr>\n",
              "      <th>4</th>\n",
              "      <td>1</td>\n",
              "      <td>1</td>\n",
              "      <td>Pilot</td>\n",
              "      <td>1</td>\n",
              "      <td>Michael</td>\n",
              "      <td>All right. Well, let me show you how it's done.</td>\n",
              "      <td>NaN</td>\n",
              "    </tr>\n",
              "    <tr>\n",
              "      <th>...</th>\n",
              "      <td>...</td>\n",
              "      <td>...</td>\n",
              "      <td>...</td>\n",
              "      <td>...</td>\n",
              "      <td>...</td>\n",
              "      <td>...</td>\n",
              "      <td>...</td>\n",
              "    </tr>\n",
              "    <tr>\n",
              "      <th>54621</th>\n",
              "      <td>9</td>\n",
              "      <td>24</td>\n",
              "      <td>Finale</td>\n",
              "      <td>8153</td>\n",
              "      <td>Creed</td>\n",
              "      <td>It all seems so very arbitrary. I applied for ...</td>\n",
              "      <td>NaN</td>\n",
              "    </tr>\n",
              "    <tr>\n",
              "      <th>54622</th>\n",
              "      <td>9</td>\n",
              "      <td>24</td>\n",
              "      <td>Finale</td>\n",
              "      <td>8154</td>\n",
              "      <td>Meredith</td>\n",
              "      <td>I just feel lucky that I got a chance to share...</td>\n",
              "      <td>NaN</td>\n",
              "    </tr>\n",
              "    <tr>\n",
              "      <th>54623</th>\n",
              "      <td>9</td>\n",
              "      <td>24</td>\n",
              "      <td>Finale</td>\n",
              "      <td>8155</td>\n",
              "      <td>Phyllis</td>\n",
              "      <td>I'm happy that this was all filmed so I can re...</td>\n",
              "      <td>NaN</td>\n",
              "    </tr>\n",
              "    <tr>\n",
              "      <th>54624</th>\n",
              "      <td>9</td>\n",
              "      <td>24</td>\n",
              "      <td>Finale</td>\n",
              "      <td>8156</td>\n",
              "      <td>Jim</td>\n",
              "      <td>I sold paper at this company for 12 years. My ...</td>\n",
              "      <td>NaN</td>\n",
              "    </tr>\n",
              "    <tr>\n",
              "      <th>54625</th>\n",
              "      <td>9</td>\n",
              "      <td>24</td>\n",
              "      <td>Finale</td>\n",
              "      <td>8157</td>\n",
              "      <td>Pam</td>\n",
              "      <td>I thought it was weird when you picked us to m...</td>\n",
              "      <td>NaN</td>\n",
              "    </tr>\n",
              "  </tbody>\n",
              "</table>\n",
              "<p>54626 rows × 7 columns</p>\n",
              "</div>\n",
              "      <button class=\"colab-df-convert\" onclick=\"convertToInteractive('df-980bd99b-f5ee-46de-981f-088be35e13d2')\"\n",
              "              title=\"Convert this dataframe to an interactive table.\"\n",
              "              style=\"display:none;\">\n",
              "        \n",
              "  <svg xmlns=\"http://www.w3.org/2000/svg\" height=\"24px\"viewBox=\"0 0 24 24\"\n",
              "       width=\"24px\">\n",
              "    <path d=\"M0 0h24v24H0V0z\" fill=\"none\"/>\n",
              "    <path d=\"M18.56 5.44l.94 2.06.94-2.06 2.06-.94-2.06-.94-.94-2.06-.94 2.06-2.06.94zm-11 1L8.5 8.5l.94-2.06 2.06-.94-2.06-.94L8.5 2.5l-.94 2.06-2.06.94zm10 10l.94 2.06.94-2.06 2.06-.94-2.06-.94-.94-2.06-.94 2.06-2.06.94z\"/><path d=\"M17.41 7.96l-1.37-1.37c-.4-.4-.92-.59-1.43-.59-.52 0-1.04.2-1.43.59L10.3 9.45l-7.72 7.72c-.78.78-.78 2.05 0 2.83L4 21.41c.39.39.9.59 1.41.59.51 0 1.02-.2 1.41-.59l7.78-7.78 2.81-2.81c.8-.78.8-2.07 0-2.86zM5.41 20L4 18.59l7.72-7.72 1.47 1.35L5.41 20z\"/>\n",
              "  </svg>\n",
              "      </button>\n",
              "      \n",
              "  <style>\n",
              "    .colab-df-container {\n",
              "      display:flex;\n",
              "      flex-wrap:wrap;\n",
              "      gap: 12px;\n",
              "    }\n",
              "\n",
              "    .colab-df-convert {\n",
              "      background-color: #E8F0FE;\n",
              "      border: none;\n",
              "      border-radius: 50%;\n",
              "      cursor: pointer;\n",
              "      display: none;\n",
              "      fill: #1967D2;\n",
              "      height: 32px;\n",
              "      padding: 0 0 0 0;\n",
              "      width: 32px;\n",
              "    }\n",
              "\n",
              "    .colab-df-convert:hover {\n",
              "      background-color: #E2EBFA;\n",
              "      box-shadow: 0px 1px 2px rgba(60, 64, 67, 0.3), 0px 1px 3px 1px rgba(60, 64, 67, 0.15);\n",
              "      fill: #174EA6;\n",
              "    }\n",
              "\n",
              "    [theme=dark] .colab-df-convert {\n",
              "      background-color: #3B4455;\n",
              "      fill: #D2E3FC;\n",
              "    }\n",
              "\n",
              "    [theme=dark] .colab-df-convert:hover {\n",
              "      background-color: #434B5C;\n",
              "      box-shadow: 0px 1px 3px 1px rgba(0, 0, 0, 0.15);\n",
              "      filter: drop-shadow(0px 1px 2px rgba(0, 0, 0, 0.3));\n",
              "      fill: #FFFFFF;\n",
              "    }\n",
              "  </style>\n",
              "\n",
              "      <script>\n",
              "        const buttonEl =\n",
              "          document.querySelector('#df-980bd99b-f5ee-46de-981f-088be35e13d2 button.colab-df-convert');\n",
              "        buttonEl.style.display =\n",
              "          google.colab.kernel.accessAllowed ? 'block' : 'none';\n",
              "\n",
              "        async function convertToInteractive(key) {\n",
              "          const element = document.querySelector('#df-980bd99b-f5ee-46de-981f-088be35e13d2');\n",
              "          const dataTable =\n",
              "            await google.colab.kernel.invokeFunction('convertToInteractive',\n",
              "                                                     [key], {});\n",
              "          if (!dataTable) return;\n",
              "\n",
              "          const docLinkHtml = 'Like what you see? Visit the ' +\n",
              "            '<a target=\"_blank\" href=https://colab.research.google.com/notebooks/data_table.ipynb>data table notebook</a>'\n",
              "            + ' to learn more about interactive tables.';\n",
              "          element.innerHTML = '';\n",
              "          dataTable['output_type'] = 'display_data';\n",
              "          await google.colab.output.renderOutput(dataTable, element);\n",
              "          const docLink = document.createElement('div');\n",
              "          docLink.innerHTML = docLinkHtml;\n",
              "          element.appendChild(docLink);\n",
              "        }\n",
              "      </script>\n",
              "    </div>\n",
              "  </div>\n",
              "  "
            ],
            "text/plain": [
              "       season  ...  Unnamed: 6\n",
              "0           1  ...         NaN\n",
              "1           1  ...         NaN\n",
              "2           1  ...         NaN\n",
              "3           1  ...         NaN\n",
              "4           1  ...         NaN\n",
              "...       ...  ...         ...\n",
              "54621       9  ...         NaN\n",
              "54622       9  ...         NaN\n",
              "54623       9  ...         NaN\n",
              "54624       9  ...         NaN\n",
              "54625       9  ...         NaN\n",
              "\n",
              "[54626 rows x 7 columns]"
            ]
          },
          "metadata": {},
          "execution_count": 5
        }
      ]
    },
    {
      "cell_type": "code",
      "source": [
        "df= df.drop('Unnamed: 6', 1)\n",
        "\n",
        "def gender(name):\n",
        "    if name == 'Michael' or name == 'Jim' or name == 'Dwight' or name == 'Ryan' or name == 'Stanley' or name == 'Kevin' or name == 'Oscar' or name == 'Toby' or name == 'Creed' or name == 'Andy' or name == 'Roy' or name == 'Darryl' or name == 'Gabe' or name == 'Robert California' or name == 'Robert' or name == 'Clark' or name == 'Pete':\n",
        "        return 0\n",
        "    elif name == 'Pam' or name == 'Phyllis' or name == 'Angela' or name == 'Kelly' or name == 'Meredith' or name == 'Jan' or name == 'Erin' or name == 'Nellie':\n",
        "        return 1\n",
        "    \n",
        "df[\"gender\"] = df[\"speaker\"].map(gender)\n",
        "\n",
        "df = df.dropna()\n",
        "\n",
        "df['gender'] = df['gender'].astype(int)\n",
        "\n",
        "df['number_of_words'] = df['line'].str.split().str.len()\n",
        "\n",
        "df['speaker_id'] = pd.factorize(df.speaker)[0]"
      ],
      "metadata": {
        "id": "pjNUx31SVDjp",
        "colab": {
          "base_uri": "https://localhost:8080/"
        },
        "outputId": "12d642de-96a0-4a81-913f-ec502b3a2449"
      },
      "execution_count": null,
      "outputs": [
        {
          "output_type": "stream",
          "name": "stderr",
          "text": [
            "/usr/local/lib/python3.7/dist-packages/ipykernel_launcher.py:13: SettingWithCopyWarning: \n",
            "A value is trying to be set on a copy of a slice from a DataFrame.\n",
            "Try using .loc[row_indexer,col_indexer] = value instead\n",
            "\n",
            "See the caveats in the documentation: https://pandas.pydata.org/pandas-docs/stable/user_guide/indexing.html#returning-a-view-versus-a-copy\n",
            "  del sys.path[0]\n",
            "/usr/local/lib/python3.7/dist-packages/ipykernel_launcher.py:15: SettingWithCopyWarning: \n",
            "A value is trying to be set on a copy of a slice from a DataFrame.\n",
            "Try using .loc[row_indexer,col_indexer] = value instead\n",
            "\n",
            "See the caveats in the documentation: https://pandas.pydata.org/pandas-docs/stable/user_guide/indexing.html#returning-a-view-versus-a-copy\n",
            "  from ipykernel import kernelapp as app\n",
            "/usr/local/lib/python3.7/dist-packages/ipykernel_launcher.py:17: SettingWithCopyWarning: \n",
            "A value is trying to be set on a copy of a slice from a DataFrame.\n",
            "Try using .loc[row_indexer,col_indexer] = value instead\n",
            "\n",
            "See the caveats in the documentation: https://pandas.pydata.org/pandas-docs/stable/user_guide/indexing.html#returning-a-view-versus-a-copy\n"
          ]
        }
      ]
    },
    {
      "cell_type": "code",
      "source": [
        "df"
      ],
      "metadata": {
        "colab": {
          "base_uri": "https://localhost:8080/",
          "height": 423
        },
        "id": "5kUVXKh1V53p",
        "outputId": "e5b975b8-b7c0-491f-c49b-a4f6aa45e0ce"
      },
      "execution_count": null,
      "outputs": [
        {
          "output_type": "execute_result",
          "data": {
            "text/html": [
              "\n",
              "  <div id=\"df-b20f00bf-1fc3-48ab-be97-a66591b1fced\">\n",
              "    <div class=\"colab-df-container\">\n",
              "      <div>\n",
              "<style scoped>\n",
              "    .dataframe tbody tr th:only-of-type {\n",
              "        vertical-align: middle;\n",
              "    }\n",
              "\n",
              "    .dataframe tbody tr th {\n",
              "        vertical-align: top;\n",
              "    }\n",
              "\n",
              "    .dataframe thead th {\n",
              "        text-align: right;\n",
              "    }\n",
              "</style>\n",
              "<table border=\"1\" class=\"dataframe\">\n",
              "  <thead>\n",
              "    <tr style=\"text-align: right;\">\n",
              "      <th></th>\n",
              "      <th>season</th>\n",
              "      <th>episode</th>\n",
              "      <th>title</th>\n",
              "      <th>scene</th>\n",
              "      <th>speaker</th>\n",
              "      <th>line</th>\n",
              "      <th>gender</th>\n",
              "      <th>number_of_words</th>\n",
              "      <th>speaker_id</th>\n",
              "    </tr>\n",
              "  </thead>\n",
              "  <tbody>\n",
              "    <tr>\n",
              "      <th>0</th>\n",
              "      <td>1</td>\n",
              "      <td>1</td>\n",
              "      <td>Pilot</td>\n",
              "      <td>1</td>\n",
              "      <td>Michael</td>\n",
              "      <td>All right Jim. Your quarterlies look very good...</td>\n",
              "      <td>0</td>\n",
              "      <td>14</td>\n",
              "      <td>0</td>\n",
              "    </tr>\n",
              "    <tr>\n",
              "      <th>1</th>\n",
              "      <td>1</td>\n",
              "      <td>1</td>\n",
              "      <td>Pilot</td>\n",
              "      <td>1</td>\n",
              "      <td>Jim</td>\n",
              "      <td>Oh, I told you. I couldn't close it. So...</td>\n",
              "      <td>0</td>\n",
              "      <td>9</td>\n",
              "      <td>1</td>\n",
              "    </tr>\n",
              "    <tr>\n",
              "      <th>2</th>\n",
              "      <td>1</td>\n",
              "      <td>1</td>\n",
              "      <td>Pilot</td>\n",
              "      <td>1</td>\n",
              "      <td>Michael</td>\n",
              "      <td>So you've come to the master for guidance? Is ...</td>\n",
              "      <td>0</td>\n",
              "      <td>14</td>\n",
              "      <td>0</td>\n",
              "    </tr>\n",
              "    <tr>\n",
              "      <th>3</th>\n",
              "      <td>1</td>\n",
              "      <td>1</td>\n",
              "      <td>Pilot</td>\n",
              "      <td>1</td>\n",
              "      <td>Jim</td>\n",
              "      <td>Actually, you called me in here, but yeah.</td>\n",
              "      <td>0</td>\n",
              "      <td>8</td>\n",
              "      <td>1</td>\n",
              "    </tr>\n",
              "    <tr>\n",
              "      <th>4</th>\n",
              "      <td>1</td>\n",
              "      <td>1</td>\n",
              "      <td>Pilot</td>\n",
              "      <td>1</td>\n",
              "      <td>Michael</td>\n",
              "      <td>All right. Well, let me show you how it's done.</td>\n",
              "      <td>0</td>\n",
              "      <td>10</td>\n",
              "      <td>0</td>\n",
              "    </tr>\n",
              "    <tr>\n",
              "      <th>...</th>\n",
              "      <td>...</td>\n",
              "      <td>...</td>\n",
              "      <td>...</td>\n",
              "      <td>...</td>\n",
              "      <td>...</td>\n",
              "      <td>...</td>\n",
              "      <td>...</td>\n",
              "      <td>...</td>\n",
              "      <td>...</td>\n",
              "    </tr>\n",
              "    <tr>\n",
              "      <th>54621</th>\n",
              "      <td>9</td>\n",
              "      <td>24</td>\n",
              "      <td>Finale</td>\n",
              "      <td>8153</td>\n",
              "      <td>Creed</td>\n",
              "      <td>It all seems so very arbitrary. I applied for ...</td>\n",
              "      <td>0</td>\n",
              "      <td>55</td>\n",
              "      <td>16</td>\n",
              "    </tr>\n",
              "    <tr>\n",
              "      <th>54622</th>\n",
              "      <td>9</td>\n",
              "      <td>24</td>\n",
              "      <td>Finale</td>\n",
              "      <td>8154</td>\n",
              "      <td>Meredith</td>\n",
              "      <td>I just feel lucky that I got a chance to share...</td>\n",
              "      <td>1</td>\n",
              "      <td>41</td>\n",
              "      <td>14</td>\n",
              "    </tr>\n",
              "    <tr>\n",
              "      <th>54623</th>\n",
              "      <td>9</td>\n",
              "      <td>24</td>\n",
              "      <td>Finale</td>\n",
              "      <td>8155</td>\n",
              "      <td>Phyllis</td>\n",
              "      <td>I'm happy that this was all filmed so I can re...</td>\n",
              "      <td>1</td>\n",
              "      <td>31</td>\n",
              "      <td>5</td>\n",
              "    </tr>\n",
              "    <tr>\n",
              "      <th>54624</th>\n",
              "      <td>9</td>\n",
              "      <td>24</td>\n",
              "      <td>Finale</td>\n",
              "      <td>8156</td>\n",
              "      <td>Jim</td>\n",
              "      <td>I sold paper at this company for 12 years. My ...</td>\n",
              "      <td>0</td>\n",
              "      <td>46</td>\n",
              "      <td>1</td>\n",
              "    </tr>\n",
              "    <tr>\n",
              "      <th>54625</th>\n",
              "      <td>9</td>\n",
              "      <td>24</td>\n",
              "      <td>Finale</td>\n",
              "      <td>8157</td>\n",
              "      <td>Pam</td>\n",
              "      <td>I thought it was weird when you picked us to m...</td>\n",
              "      <td>1</td>\n",
              "      <td>46</td>\n",
              "      <td>2</td>\n",
              "    </tr>\n",
              "  </tbody>\n",
              "</table>\n",
              "<p>47664 rows × 9 columns</p>\n",
              "</div>\n",
              "      <button class=\"colab-df-convert\" onclick=\"convertToInteractive('df-b20f00bf-1fc3-48ab-be97-a66591b1fced')\"\n",
              "              title=\"Convert this dataframe to an interactive table.\"\n",
              "              style=\"display:none;\">\n",
              "        \n",
              "  <svg xmlns=\"http://www.w3.org/2000/svg\" height=\"24px\"viewBox=\"0 0 24 24\"\n",
              "       width=\"24px\">\n",
              "    <path d=\"M0 0h24v24H0V0z\" fill=\"none\"/>\n",
              "    <path d=\"M18.56 5.44l.94 2.06.94-2.06 2.06-.94-2.06-.94-.94-2.06-.94 2.06-2.06.94zm-11 1L8.5 8.5l.94-2.06 2.06-.94-2.06-.94L8.5 2.5l-.94 2.06-2.06.94zm10 10l.94 2.06.94-2.06 2.06-.94-2.06-.94-.94-2.06-.94 2.06-2.06.94z\"/><path d=\"M17.41 7.96l-1.37-1.37c-.4-.4-.92-.59-1.43-.59-.52 0-1.04.2-1.43.59L10.3 9.45l-7.72 7.72c-.78.78-.78 2.05 0 2.83L4 21.41c.39.39.9.59 1.41.59.51 0 1.02-.2 1.41-.59l7.78-7.78 2.81-2.81c.8-.78.8-2.07 0-2.86zM5.41 20L4 18.59l7.72-7.72 1.47 1.35L5.41 20z\"/>\n",
              "  </svg>\n",
              "      </button>\n",
              "      \n",
              "  <style>\n",
              "    .colab-df-container {\n",
              "      display:flex;\n",
              "      flex-wrap:wrap;\n",
              "      gap: 12px;\n",
              "    }\n",
              "\n",
              "    .colab-df-convert {\n",
              "      background-color: #E8F0FE;\n",
              "      border: none;\n",
              "      border-radius: 50%;\n",
              "      cursor: pointer;\n",
              "      display: none;\n",
              "      fill: #1967D2;\n",
              "      height: 32px;\n",
              "      padding: 0 0 0 0;\n",
              "      width: 32px;\n",
              "    }\n",
              "\n",
              "    .colab-df-convert:hover {\n",
              "      background-color: #E2EBFA;\n",
              "      box-shadow: 0px 1px 2px rgba(60, 64, 67, 0.3), 0px 1px 3px 1px rgba(60, 64, 67, 0.15);\n",
              "      fill: #174EA6;\n",
              "    }\n",
              "\n",
              "    [theme=dark] .colab-df-convert {\n",
              "      background-color: #3B4455;\n",
              "      fill: #D2E3FC;\n",
              "    }\n",
              "\n",
              "    [theme=dark] .colab-df-convert:hover {\n",
              "      background-color: #434B5C;\n",
              "      box-shadow: 0px 1px 3px 1px rgba(0, 0, 0, 0.15);\n",
              "      filter: drop-shadow(0px 1px 2px rgba(0, 0, 0, 0.3));\n",
              "      fill: #FFFFFF;\n",
              "    }\n",
              "  </style>\n",
              "\n",
              "      <script>\n",
              "        const buttonEl =\n",
              "          document.querySelector('#df-b20f00bf-1fc3-48ab-be97-a66591b1fced button.colab-df-convert');\n",
              "        buttonEl.style.display =\n",
              "          google.colab.kernel.accessAllowed ? 'block' : 'none';\n",
              "\n",
              "        async function convertToInteractive(key) {\n",
              "          const element = document.querySelector('#df-b20f00bf-1fc3-48ab-be97-a66591b1fced');\n",
              "          const dataTable =\n",
              "            await google.colab.kernel.invokeFunction('convertToInteractive',\n",
              "                                                     [key], {});\n",
              "          if (!dataTable) return;\n",
              "\n",
              "          const docLinkHtml = 'Like what you see? Visit the ' +\n",
              "            '<a target=\"_blank\" href=https://colab.research.google.com/notebooks/data_table.ipynb>data table notebook</a>'\n",
              "            + ' to learn more about interactive tables.';\n",
              "          element.innerHTML = '';\n",
              "          dataTable['output_type'] = 'display_data';\n",
              "          await google.colab.output.renderOutput(dataTable, element);\n",
              "          const docLink = document.createElement('div');\n",
              "          docLink.innerHTML = docLinkHtml;\n",
              "          element.appendChild(docLink);\n",
              "        }\n",
              "      </script>\n",
              "    </div>\n",
              "  </div>\n",
              "  "
            ],
            "text/plain": [
              "       season  episode   title  ...  gender number_of_words speaker_id\n",
              "0           1        1   Pilot  ...       0              14          0\n",
              "1           1        1   Pilot  ...       0               9          1\n",
              "2           1        1   Pilot  ...       0              14          0\n",
              "3           1        1   Pilot  ...       0               8          1\n",
              "4           1        1   Pilot  ...       0              10          0\n",
              "...       ...      ...     ...  ...     ...             ...        ...\n",
              "54621       9       24  Finale  ...       0              55         16\n",
              "54622       9       24  Finale  ...       1              41         14\n",
              "54623       9       24  Finale  ...       1              31          5\n",
              "54624       9       24  Finale  ...       0              46          1\n",
              "54625       9       24  Finale  ...       1              46          2\n",
              "\n",
              "[47664 rows x 9 columns]"
            ]
          },
          "metadata": {},
          "execution_count": 7
        }
      ]
    },
    {
      "cell_type": "code",
      "source": [
        "from sklearn.model_selection import train_test_split"
      ],
      "metadata": {
        "id": "5qCux7dvWBjN"
      },
      "execution_count": null,
      "outputs": []
    },
    {
      "cell_type": "code",
      "source": [
        "X = df['line']\n",
        "y = df['gender']\n",
        "\n",
        "X_train, X_test, y_train, y_test = train_test_split(X, y, shuffle=True, random_state=42, test_size=.33)"
      ],
      "metadata": {
        "id": "fkzhgNVbWJTp"
      },
      "execution_count": null,
      "outputs": []
    },
    {
      "cell_type": "code",
      "source": [
        "X_train, X_val, y_train, y_val = train_test_split(X_train, y_train, test_size=0.5, random_state=42)"
      ],
      "metadata": {
        "id": "ZFWw35csdZOl"
      },
      "execution_count": null,
      "outputs": []
    },
    {
      "cell_type": "code",
      "source": [
        "print(len(X_train))\n",
        "print(len(X_test))\n",
        "\n",
        "print(len(y_train))\n",
        "print(len(y_test))\n",
        "\n",
        "print(len(X_val))\n",
        "print(len(y_val))"
      ],
      "metadata": {
        "colab": {
          "base_uri": "https://localhost:8080/"
        },
        "id": "76C1_etwWJVM",
        "outputId": "06c2e348-fdcd-4e51-fb39-004346ab3a43"
      },
      "execution_count": null,
      "outputs": [
        {
          "output_type": "stream",
          "name": "stdout",
          "text": [
            "15967\n",
            "15730\n",
            "15967\n",
            "15730\n",
            "15967\n",
            "15967\n"
          ]
        }
      ]
    },
    {
      "cell_type": "code",
      "source": [
        "# padding: not all lines are the same length, but they have to be the same length for NN; padding will fix this\n",
        "# do this for train, test and val sets\n",
        "from tensorflow.keras.preprocessing.text import Tokenizer\n",
        "from tensorflow.keras.preprocessing.sequence import pad_sequences\n",
        "\n",
        "lines_Xtrain = list(X_train)\n",
        "lines_Xval = list(X_val)\n",
        "lines_Xtest = list(X_test)\n",
        "\n",
        "# there will be a max length of line (maxlen), which should be the length of the longest sentence. maxlen should be same in all sets\n",
        "longest_line_Xtrain = (max(lines_Xtrain, key=len))\n",
        "maxlen_Xtrain = len(longest_line_Xtrain.split())\n",
        "\n",
        "# longest_line_Xval = (max(lines_Xval, key=len))\n",
        "# maxlen_Xval = len(longest_line_Xval.split())\n",
        "maxlen_Xval = maxlen_Xtrain\n",
        "\n",
        "\n",
        "# longest_line_Xtest = (max(lines_Xtest, key=len))\n",
        "# maxlen_Xtest = len(longest_line_Xtest.split())\n",
        "maxlen_Xtest = maxlen_Xtrain\n",
        "\n",
        "\n",
        "# only 1000 most frequent words & oov_token so any unknown word in test set wont just be thrown away, but will be replaced by token we choose\n",
        "tokenizer = Tokenizer(num_words = 10000, oov_token=\"<OOV>\")\n",
        "tokenizer.fit_on_texts(lines_Xtrain)\n",
        "word_index = tokenizer.word_index\n",
        "\n",
        "sequences_Xtrain = tokenizer.texts_to_sequences(lines_Xtrain)\n",
        "sequences_Xval = tokenizer.texts_to_sequences(lines_Xval)\n",
        "sequences_Xtest = tokenizer.texts_to_sequences(lines_Xtest)\n",
        "\n",
        "\n",
        "# default padding is pre, so zeros will occur before ints\n",
        "padded_Xtrain = pad_sequences(sequences_Xtrain, maxlen = maxlen_Xtrain)\n",
        "padded_Xval = pad_sequences(sequences_Xval, maxlen = maxlen_Xval)\n",
        "padded_Xtest = pad_sequences(sequences_Xtest, maxlen = maxlen_Xtest)\n",
        "\n",
        "print(\"\\n Padded sequences train: \\n\", padded_Xtrain)\n",
        "print(\"\\n Padded sequences val: \\n\", padded_Xval)\n",
        "print(\"\\n Padded sequences test: \\n\", padded_Xtest)\n",
        "\n",
        "# now each row in the matrix is a line with the same length, and oov_token specifiec out-of-vocabulary tokens that arent recognized\n",
        "# also, only 10 000 most frequent words are included\n"
      ],
      "metadata": {
        "colab": {
          "base_uri": "https://localhost:8080/"
        },
        "id": "T7Sd4uvjWJXg",
        "outputId": "4fa5df06-d8ad-4f3e-af2d-8a43fc1a997c"
      },
      "execution_count": null,
      "outputs": [
        {
          "output_type": "stream",
          "name": "stdout",
          "text": [
            "\n",
            " Padded sequences train: \n",
            " [[   0    0    0 ...  628    3   68]\n",
            " [   0    0    0 ...    0    0 2886]\n",
            " [   0    0    0 ...  292  190  484]\n",
            " ...\n",
            " [   0    0    0 ...    0    0    1]\n",
            " [   0    0    0 ...    0    0   46]\n",
            " [   0    0    0 ...    0  358 5348]]\n",
            "\n",
            " Padded sequences val: \n",
            " [[   0    0    0 ...   29   15   68]\n",
            " [   0    0    0 ...   27   25  560]\n",
            " [   0    0    0 ...   45    7 1353]\n",
            " ...\n",
            " [   0    0    0 ...  652  702  841]\n",
            " [   0    0    0 ...    2   77  242]\n",
            " [   0    0    0 ...    9   57   14]]\n",
            "\n",
            " Padded sequences test: \n",
            " [[   0    0    0 ...    0 5938    3]\n",
            " [   0    0    0 ...    0    0    9]\n",
            " [   0    0    0 ...    6  379 3465]\n",
            " ...\n",
            " [   0    0    0 ...    0    0   37]\n",
            " [   0    0    0 ...  135 1094  363]\n",
            " [   0    0    0 ...   26  348    9]]\n"
          ]
        }
      ]
    },
    {
      "cell_type": "code",
      "source": [
        "len(longest_line_Xtrain.split())"
      ],
      "metadata": {
        "colab": {
          "base_uri": "https://localhost:8080/"
        },
        "id": "L9vTvwpVUjcL",
        "outputId": "d44ce2e5-58f3-45f4-cb56-f6b990979538"
      },
      "execution_count": null,
      "outputs": [
        {
          "output_type": "execute_result",
          "data": {
            "text/plain": [
              "232"
            ]
          },
          "metadata": {},
          "execution_count": 13
        }
      ]
    },
    {
      "cell_type": "code",
      "source": [
        "# this is an optimal bag of words (multiclass, not binary); it reveals whether a word is present or not (0 or something other)\n",
        "# and it also reveals the actual frequency of that word; the lower the number, the higher the frequency \n"
      ],
      "metadata": {
        "id": "06ODoSk9WJcH"
      },
      "execution_count": null,
      "outputs": []
    },
    {
      "cell_type": "code",
      "source": [
        "# data should be float32, not int. goes for output too\n",
        "# also everything should be a numpy array\n",
        "Y_train = np.asarray(y_train).astype('float32')\n",
        "Y_val = np.asarray(y_val).astype('float32')\n",
        "Y_test = np.asarray(y_test).astype('float32') \n",
        "print(y_train.shape)\n",
        "print(y_val.shape)\n",
        "print(y_test.shape)"
      ],
      "metadata": {
        "colab": {
          "base_uri": "https://localhost:8080/"
        },
        "id": "dwwQC6BmWJmc",
        "outputId": "dd5e4669-c0f8-4b10-b711-319e83e466ab"
      },
      "execution_count": null,
      "outputs": [
        {
          "output_type": "stream",
          "name": "stdout",
          "text": [
            "(15967,)\n",
            "(15967,)\n",
            "(15730,)\n"
          ]
        }
      ]
    },
    {
      "cell_type": "code",
      "source": [
        "# now we have everything in its correct shape (i hope)\n",
        "# time to start building the model!"
      ],
      "metadata": {
        "id": "XGdRprpTWJqQ"
      },
      "execution_count": null,
      "outputs": []
    },
    {
      "cell_type": "code",
      "source": [
        "model = keras.models.Sequential()\n",
        "model.add(keras.layers.Input(232)) # putting maxlen 232 here bc otherwise it throws an error when we predict\n",
        "model.add(keras.layers.Dense(1, activation='sigmoid', name='affine'))\n",
        "model.summary()"
      ],
      "metadata": {
        "colab": {
          "base_uri": "https://localhost:8080/"
        },
        "id": "rex_YYvU4YxX",
        "outputId": "bb17395f-3773-43d1-8b73-c9f75463e5e4"
      },
      "execution_count": null,
      "outputs": [
        {
          "output_type": "stream",
          "name": "stdout",
          "text": [
            "Model: \"sequential\"\n",
            "_________________________________________________________________\n",
            " Layer (type)                Output Shape              Param #   \n",
            "=================================================================\n",
            " affine (Dense)              (None, 1)                 233       \n",
            "                                                                 \n",
            "=================================================================\n",
            "Total params: 233\n",
            "Trainable params: 233\n",
            "Non-trainable params: 0\n",
            "_________________________________________________________________\n"
          ]
        }
      ]
    },
    {
      "cell_type": "code",
      "source": [
        "# well that works at least! now we add optimizer, sgd, with accuracy metric\n",
        "sgd = keras.optimizers.SGD(learning_rate=0.001)\n",
        "model.compile(optimizer=sgd, loss = 'mean_squared_error', metrics = ['accuracy'])"
      ],
      "metadata": {
        "id": "dk65BSaS4Yz-"
      },
      "execution_count": null,
      "outputs": []
    },
    {
      "cell_type": "code",
      "source": [
        "print(X_test.shape)\n",
        "print(padded_Xtrain.shape)"
      ],
      "metadata": {
        "colab": {
          "base_uri": "https://localhost:8080/"
        },
        "id": "vZcl0LkD-T38",
        "outputId": "47dd81e1-03bb-413f-8ffa-9f28bb512b6d"
      },
      "execution_count": null,
      "outputs": [
        {
          "output_type": "stream",
          "name": "stdout",
          "text": [
            "(15730,)\n",
            "(15967, 232)\n"
          ]
        }
      ]
    },
    {
      "cell_type": "code",
      "source": [
        "# we can use the model now, but the weights are still random. no optimzation yet\n",
        "y_pred = model.predict(padded_Xtrain) \n",
        "sns.kdeplot(y_pred.squeeze())\n",
        "plt.xlabel('(random) predictions train set')\n",
        "plt.title('distribution of predicted y for untrained model')\n",
        "plt.xlim((0,1));\n"
      ],
      "metadata": {
        "colab": {
          "base_uri": "https://localhost:8080/",
          "height": 295
        },
        "id": "VU9lIVqV4Y4C",
        "outputId": "d1807408-af9e-4bfc-e6c3-fa3a05a0a224"
      },
      "execution_count": null,
      "outputs": [
        {
          "output_type": "display_data",
          "data": {
            "image/png": "[encoded data removed]",
            "text/plain": [
              "<Figure size 432x288 with 1 Axes>"
            ]
          },
          "metadata": {
            "needs_background": "light"
          }
        }
      ]
    },
    {
      "cell_type": "code",
      "source": [
        "# looks weird to me. model doesnt seem so ignorant after all, because there is some variation\n",
        "# however, it is working correctly; 0 is male and 1 is female\n",
        "# model seems to be  predicting more female\n",
        "# now lets train!"
      ],
      "metadata": {
        "id": "neFo8QwS-S5a"
      },
      "execution_count": null,
      "outputs": []
    },
    {
      "cell_type": "code",
      "source": [
        "# training model for 15 epochs just to see what happens \n",
        "num_epochs = 20\n",
        "history = model.fit(padded_Xtrain, Y_train, \n",
        "                    epochs = num_epochs, validation_data=(padded_Xval, Y_val), batch_size = 100)"
      ],
      "metadata": {
        "colab": {
          "base_uri": "https://localhost:8080/"
        },
        "id": "UcLSkiciBNY2",
        "outputId": "bebc8c41-a5bc-44e9-bfb5-d7843405e094"
      },
      "execution_count": null,
      "outputs": [
        {
          "output_type": "stream",
          "name": "stdout",
          "text": [
            "Epoch 1/20\n",
            "160/160 [==============================] - 1s 6ms/step - loss: 0.3734 - accuracy: 0.6153 - val_loss: 0.3137 - val_accuracy: 0.6831\n",
            "Epoch 2/20\n",
            "160/160 [==============================] - 1s 5ms/step - loss: 0.2983 - accuracy: 0.6989 - val_loss: 0.2942 - val_accuracy: 0.7035\n",
            "Epoch 3/20\n",
            "160/160 [==============================] - 1s 5ms/step - loss: 0.2845 - accuracy: 0.7133 - val_loss: 0.2849 - val_accuracy: 0.7131\n",
            "Epoch 4/20\n",
            "160/160 [==============================] - 1s 5ms/step - loss: 0.2739 - accuracy: 0.7239 - val_loss: 0.2716 - val_accuracy: 0.7267\n",
            "Epoch 5/20\n",
            "160/160 [==============================] - 1s 5ms/step - loss: 0.2696 - accuracy: 0.7284 - val_loss: 0.2682 - val_accuracy: 0.7300\n",
            "Epoch 6/20\n",
            "160/160 [==============================] - 1s 5ms/step - loss: 0.2619 - accuracy: 0.7360 - val_loss: 0.2602 - val_accuracy: 0.7383\n",
            "Epoch 7/20\n",
            "160/160 [==============================] - 1s 5ms/step - loss: 0.2555 - accuracy: 0.7427 - val_loss: 0.2580 - val_accuracy: 0.7405\n",
            "Epoch 8/20\n",
            "160/160 [==============================] - 1s 5ms/step - loss: 0.2516 - accuracy: 0.7467 - val_loss: 0.2529 - val_accuracy: 0.7457\n",
            "Epoch 9/20\n",
            "160/160 [==============================] - 1s 5ms/step - loss: 0.2503 - accuracy: 0.7481 - val_loss: 0.2528 - val_accuracy: 0.7459\n",
            "Epoch 10/20\n",
            "160/160 [==============================] - 1s 5ms/step - loss: 0.2482 - accuracy: 0.7502 - val_loss: 0.2515 - val_accuracy: 0.7472\n",
            "Epoch 11/20\n",
            "160/160 [==============================] - 1s 5ms/step - loss: 0.2472 - accuracy: 0.7512 - val_loss: 0.2509 - val_accuracy: 0.7477\n",
            "Epoch 12/20\n",
            "160/160 [==============================] - 1s 5ms/step - loss: 0.2465 - accuracy: 0.7518 - val_loss: 0.2501 - val_accuracy: 0.7485\n",
            "Epoch 13/20\n",
            "160/160 [==============================] - 1s 5ms/step - loss: 0.2463 - accuracy: 0.7519 - val_loss: 0.2494 - val_accuracy: 0.7491\n",
            "Epoch 14/20\n",
            "160/160 [==============================] - 1s 5ms/step - loss: 0.2451 - accuracy: 0.7531 - val_loss: 0.2490 - val_accuracy: 0.7495\n",
            "Epoch 15/20\n",
            "160/160 [==============================] - 1s 6ms/step - loss: 0.2450 - accuracy: 0.7532 - val_loss: 0.2490 - val_accuracy: 0.7495\n",
            "Epoch 16/20\n",
            "160/160 [==============================] - 1s 5ms/step - loss: 0.2449 - accuracy: 0.7532 - val_loss: 0.2485 - val_accuracy: 0.7500\n",
            "Epoch 17/20\n",
            "160/160 [==============================] - 1s 7ms/step - loss: 0.2444 - accuracy: 0.7537 - val_loss: 0.2484 - val_accuracy: 0.7500\n",
            "Epoch 18/20\n",
            "160/160 [==============================] - 1s 7ms/step - loss: 0.2441 - accuracy: 0.7540 - val_loss: 0.2481 - val_accuracy: 0.7502\n",
            "Epoch 19/20\n",
            "160/160 [==============================] - 1s 5ms/step - loss: 0.2437 - accuracy: 0.7542 - val_loss: 0.2482 - val_accuracy: 0.7501\n",
            "Epoch 20/20\n",
            "160/160 [==============================] - 1s 5ms/step - loss: 0.2434 - accuracy: 0.7545 - val_loss: 0.2482 - val_accuracy: 0.7500\n"
          ]
        }
      ]
    },
    {
      "cell_type": "code",
      "source": [
        "# accuracy is at its highest at 0.7572, which is pretty good! dont know why it goes down from there, though\n",
        "# this might be for the same reason that accuracy was high in the classic machine learning methods;\n",
        "# because the model predicts male all the time"
      ],
      "metadata": {
        "id": "7xLnBVxbBtoP"
      },
      "execution_count": null,
      "outputs": []
    },
    {
      "cell_type": "code",
      "source": [
        "# lets visualize the optimization process"
      ],
      "metadata": {
        "id": "nxCInCkxCI5q"
      },
      "execution_count": null,
      "outputs": []
    },
    {
      "cell_type": "code",
      "source": [
        "history_dict = history.history\n",
        "loss_values = history.history['loss']\n",
        "acc_values = history.history['accuracy']"
      ],
      "metadata": {
        "id": "G_Tfiy6tCOjj"
      },
      "execution_count": null,
      "outputs": []
    },
    {
      "cell_type": "code",
      "source": [
        "train_loss = history.history['loss']\n",
        "dev_loss = history.history['val_loss']\n",
        "\n",
        "epochs = range(1, len(dev_loss) + 1)\n",
        "\n",
        "plt.plot(epochs, train_loss, 'b', label='train')\n",
        "plt.plot(epochs, dev_loss, 'r', label='dev')\n",
        "plt.title('Loss curves')\n",
        "plt.xlabel('Epochs')\n",
        "plt.ylabel('Binary Crossentropy')\n",
        "plt.legend()\n",
        "plt.show()"
      ],
      "metadata": {
        "colab": {
          "base_uri": "https://localhost:8080/",
          "height": 295
        },
        "id": "aXsunPcLCZbt",
        "outputId": "17b9367c-2e3c-4cdb-8229-7eca9510a341"
      },
      "execution_count": null,
      "outputs": [
        {
          "output_type": "display_data",
          "data": {
            "image/png": "[encoded data removed]",
            "text/plain": [
              "<Figure size 432x288 with 1 Axes>"
            ]
          },
          "metadata": {
            "needs_background": "light"
          }
        }
      ]
    },
    {
      "cell_type": "code",
      "source": [
        ""
      ],
      "metadata": {
        "id": "5A2mlolMDGkp"
      },
      "execution_count": null,
      "outputs": []
    },
    {
      "cell_type": "code",
      "source": [
        "train_accuracy = history.history['accuracy']\n",
        "dev_accuracy = history.history['val_accuracy']\n",
        "plt.clf() \n",
        "plt.plot(epochs, train_accuracy, 'b', label='train')\n",
        "plt.plot(epochs, dev_accuracy, 'r', label='dev')\n",
        "plt.title('Accuracy curves')\n",
        "plt.xlabel('Epochs')\n",
        "plt.ylabel('Accuracy')\n",
        "plt.legend()\n",
        "plt.show()\n"
      ],
      "metadata": {
        "colab": {
          "base_uri": "https://localhost:8080/",
          "height": 295
        },
        "id": "SRMEkxXZDmRQ",
        "outputId": "51d85e69-6666-4cc2-ad72-6a511c75e170"
      },
      "execution_count": null,
      "outputs": [
        {
          "output_type": "display_data",
          "data": {
            "image/png": "[encoded data removed]",
            "text/plain": [
              "<Figure size 432x288 with 1 Axes>"
            ]
          },
          "metadata": {
            "needs_background": "light"
          }
        }
      ]
    },
    {
      "cell_type": "code",
      "source": [
        ""
      ],
      "metadata": {
        "id": "JKbOCrwrD2_Z"
      },
      "execution_count": null,
      "outputs": []
    },
    {
      "cell_type": "code",
      "source": [
        "# now we can look at predicted scores after testing\n",
        "y_pred = model.predict(padded_Xtest)\n",
        "print(y_pred.shape)\n",
        "print(y_pred[:10])\n",
        "\n",
        "y_pred = y_pred.squeeze() # this flattens the data\n",
        "print(y_pred.shape)\n",
        "print(y_pred[:10])\n"
      ],
      "metadata": {
        "colab": {
          "base_uri": "https://localhost:8080/"
        },
        "id": "tvb_JY71GN54",
        "outputId": "be668efe-8a8b-4c1e-b915-60005fc46234"
      },
      "execution_count": null,
      "outputs": [
        {
          "output_type": "stream",
          "name": "stdout",
          "text": [
            "(15730, 1)\n",
            "[[0.0000000e+00]\n",
            " [3.1042725e-01]\n",
            " [0.0000000e+00]\n",
            " [8.0697937e-03]\n",
            " [4.9548700e-14]\n",
            " [6.2801967e-17]\n",
            " [0.0000000e+00]\n",
            " [3.5978427e-15]\n",
            " [0.0000000e+00]\n",
            " [0.0000000e+00]]\n",
            "(15730,)\n",
            "[0.0000000e+00 3.1042725e-01 0.0000000e+00 8.0697937e-03 4.9548700e-14\n",
            " 6.2801967e-17 0.0000000e+00 3.5978427e-15 0.0000000e+00 0.0000000e+00]\n"
          ]
        }
      ]
    },
    {
      "cell_type": "code",
      "source": [
        "sns.kdeplot(y_pred)\n",
        "plt.title('Distribution of predicted y after training')\n",
        "plt.xlim((0,1));"
      ],
      "metadata": {
        "colab": {
          "base_uri": "https://localhost:8080/",
          "height": 281
        },
        "id": "4iFtRssfG38V",
        "outputId": "22c21680-474e-4bfa-b1b0-58cb248961af"
      },
      "execution_count": null,
      "outputs": [
        {
          "output_type": "display_data",
          "data": {
            "image/png": "[encoded data removed]",
            "text/plain": [
              "<Figure size 432x288 with 1 Axes>"
            ]
          },
          "metadata": {
            "needs_background": "light"
          }
        }
      ]
    },
    {
      "cell_type": "code",
      "source": [
        "# model seems to have learned something; most speakers are male\n",
        "# seems not to be predicting female a lot\n",
        "\n",
        "# to find out how well the model did, we need to binarize the output again into zeroes and ones\n",
        "# to do this, we use a threshold at 0.5 to implement our decision function for the model\n",
        "\n",
        "y_pred[y_pred >= 0.5] = 1\n",
        "y_pred[y_pred < 0.5] = 0\n",
        "print(y_pred.shape)\n",
        "print(y_pred[:10]) # as we see, in these 10 cases, the model predicted male 8 times and female 2 times\n",
        "\n",
        "# just restarted runtime and ran code and now it predicts male 10 times"
      ],
      "metadata": {
        "colab": {
          "base_uri": "https://localhost:8080/"
        },
        "id": "2uH06SFRHIQc",
        "outputId": "6ab65dca-b0ef-44da-b923-13c7f75118a1"
      },
      "execution_count": null,
      "outputs": [
        {
          "output_type": "stream",
          "name": "stdout",
          "text": [
            "(15730,)\n",
            "[0. 0. 0. 0. 0. 0. 0. 0. 0. 0.]\n"
          ]
        }
      ]
    },
    {
      "cell_type": "code",
      "source": [
        "# now we find out how well we do on the test data\n",
        "from sklearn.metrics import accuracy_score, classification_report\n",
        "print(accuracy_score(y_test, y_pred)) # correct labels and labels returned by classifier\n",
        "print(classification_report(y_test, y_pred)) # same thing here"
      ],
      "metadata": {
        "colab": {
          "base_uri": "https://localhost:8080/"
        },
        "id": "sGpqqqqiIBiX",
        "outputId": "d04aa3d1-eec9-4768-e27e-40a34c254f9a"
      },
      "execution_count": null,
      "outputs": [
        {
          "output_type": "stream",
          "name": "stdout",
          "text": [
            "0.7476160203432931\n",
            "              precision    recall  f1-score   support\n",
            "\n",
            "           0       0.75      0.99      0.86     11870\n",
            "           1       0.19      0.01      0.02      3860\n",
            "\n",
            "    accuracy                           0.75     15730\n",
            "   macro avg       0.47      0.50      0.44     15730\n",
            "weighted avg       0.62      0.75      0.65     15730\n",
            "\n"
          ]
        }
      ]
    },
    {
      "cell_type": "code",
      "source": [
        "# model mostly predicts male\n",
        "# as the recall shows, barely any (0.06%) of the female lines were correctly identified (this was on the first run)\n",
        "# model is constantly saying the line is male; overfitting. however, recall is not 0 so it does better than SVM and NB\n",
        "\n",
        "# after restarting and rerunning, recall is 1 for male and 0 for female"
      ],
      "metadata": {
        "id": "HNPCi6LnTE_V"
      },
      "execution_count": null,
      "outputs": []
    },
    {
      "cell_type": "code",
      "source": [
        "from sklearn.metrics import confusion_matrix\n",
        "print(confusion_matrix(y_test, y_pred))"
      ],
      "metadata": {
        "id": "5RGld-QokFAS",
        "colab": {
          "base_uri": "https://localhost:8080/"
        },
        "outputId": "90bdbe6e-cec5-44a3-edf9-6737e9060f36"
      },
      "execution_count": null,
      "outputs": [
        {
          "output_type": "stream",
          "name": "stdout",
          "text": [
            "[[11725   145]\n",
            " [ 3825    35]]\n"
          ]
        }
      ]
    }
  ]
}